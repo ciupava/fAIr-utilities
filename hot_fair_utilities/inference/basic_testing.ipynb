{
 "cells": [
  {
   "cell_type": "code",
   "execution_count": null,
   "metadata": {},
   "outputs": [],
   "source": [
    "# From predict.py\n",
    "# Standard library imports\n",
    "import os\n",
    "import time\n",
    "from glob import glob\n",
    "from pathlib import Path\n",
    "\n",
    "# Third party imports\n",
    "import numpy as np\n",
    "from tensorflow import keras\n",
    "\n",
    "from ..georeferencing import georeference\n",
    "from ..utils import remove_files\n",
    "from .utils import open_images, save_mask\n",
    "\n",
    "BATCH_SIZE = 8\n",
    "IMAGE_SIZE = 256\n",
    "os.environ[\"TF_CPP_MIN_LOG_LEVEL\"] = \"3\""
   ]
  },
  {
   "cell_type": "code",
   "execution_count": null,
   "metadata": {},
   "outputs": [],
   "source": [
    "# Model import\n",
    "model = keras.models.load_model(checkpoint_path)\n",
    "model.summary()"
   ]
  }
 ],
 "metadata": {
  "language_info": {
   "name": "python"
  }
 },
 "nbformat": 4,
 "nbformat_minor": 2
}
