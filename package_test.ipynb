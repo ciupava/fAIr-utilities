{
 "cells": [
  {
   "cell_type": "code",
   "execution_count": 1,
   "metadata": {},
   "outputs": [
    {
     "name": "stderr",
     "output_type": "stream",
     "text": [
      "2023-06-20 23:59:16.897449: I tensorflow/core/platform/cpu_feature_guard.cc:182] This TensorFlow binary is optimized to use available CPU instructions in performance-critical operations.\n",
      "To enable the following instructions: AVX2 FMA, in other operations, rebuild TensorFlow with the appropriate compiler flags.\n"
     ]
    },
    {
     "name": "stdout",
     "output_type": "stream",
     "text": [
      "Num GPUs Available:  0\n"
     ]
    }
   ],
   "source": [
    "\n",
    "import tensorflow as tf\n",
    "print(\"Num GPUs Available: \", len(tf.config.experimental.list_physical_devices('GPU')))"
   ]
  },
  {
   "cell_type": "code",
   "execution_count": 2,
   "metadata": {
    "colab": {
     "base_uri": "https://localhost:8080/"
    },
    "id": "WI8nslrSgROI",
    "outputId": "2cbad97c-765f-4d2b-87df-773447500332"
   },
   "outputs": [
    {
     "name": "stdout",
     "output_type": "stream",
     "text": [
      "/Users/azanchetta/fAIr-utilities\n",
      "/Users/azanchetta/fAIr-utilities\n"
     ]
    }
   ],
   "source": [
    "import os\n",
    "import sys\n",
    "print(os.getcwd())\n",
    "os.environ.update(os.environ)\n",
    "        # Add a new environment variable to the operating system\n",
    "os.environ[\"RAMP_HOME\"] = os.getcwd()\n",
    "# Print the environment variables to verify that the new variable was added\n",
    "print(os.environ[\"RAMP_HOME\"])\n",
    "# sys.path.append('../')\n",
    "sys.path.append('ramp-code/')\n"
   ]
  },
  {
   "cell_type": "code",
   "execution_count": 3,
   "metadata": {},
   "outputs": [
    {
     "name": "stdout",
     "output_type": "stream",
     "text": [
      "Segmentation Models: using `tf.keras` framework.\n"
     ]
    }
   ],
   "source": [
    "os.environ[\"SM_FRAMEWORK\"] = \"tf.keras\"\n",
    "import ramp.utils\n",
    "import hot_fair_utilities\n",
    "base_path = f\"{os.getcwd()}/ramp-data/sample_2\""
   ]
  },
  {
   "cell_type": "code",
   "execution_count": 4,
   "metadata": {},
   "outputs": [
    {
     "name": "stderr",
     "output_type": "stream",
     "text": [
      "Georeferencing for input: 100%|██████████| 147/147 [00:06<00:00, 23.45it/s]\n",
      "ERROR:fiona._env:PROJ: proj_create_from_database: /usr/local/anaconda3/envs/fairtest/share/proj/proj.db lacks DATABASE.LAYOUT.VERSION.MAJOR / DATABASE.LAYOUT.VERSION.MINOR metadata. It comes from another PROJ installation.\n",
      "Clipping labels for input:   0%|          | 0/147 [00:00<?, ?it/s]ERROR:fiona._env:PROJ: proj_create: no database context specified\n",
      "Clipping labels for input:   1%|          | 1/147 [00:00<00:21,  6.91it/s]ERROR:fiona._env:PROJ: proj_create: no database context specified\n",
      "Clipping labels for input:   1%|▏         | 2/147 [00:00<00:19,  7.56it/s]ERROR:fiona._env:PROJ: proj_create: no database context specified\n",
      "Clipping labels for input:   2%|▏         | 3/147 [00:00<00:18,  7.69it/s]ERROR:fiona._env:PROJ: proj_create: no database context specified\n",
      "Clipping labels for input:   3%|▎         | 4/147 [00:00<00:18,  7.90it/s]ERROR:fiona._env:PROJ: proj_create: no database context specified\n",
      "Clipping labels for input:   3%|▎         | 5/147 [00:00<00:17,  8.22it/s]ERROR:fiona._env:PROJ: proj_create: no database context specified\n",
      "Clipping labels for input:   4%|▍         | 6/147 [00:00<00:17,  8.15it/s]ERROR:fiona._env:PROJ: proj_create: no database context specified\n",
      "Clipping labels for input:   5%|▍         | 7/147 [00:00<00:16,  8.30it/s]ERROR:fiona._env:PROJ: proj_create: no database context specified\n",
      "Clipping labels for input:   5%|▌         | 8/147 [00:00<00:16,  8.35it/s]ERROR:fiona._env:PROJ: proj_create: no database context specified\n",
      "Clipping labels for input:   6%|▌         | 9/147 [00:01<00:16,  8.27it/s]ERROR:fiona._env:PROJ: proj_create: no database context specified\n",
      "Clipping labels for input:   7%|▋         | 10/147 [00:01<00:16,  8.26it/s]ERROR:fiona._env:PROJ: proj_create: no database context specified\n",
      "Clipping labels for input:   7%|▋         | 11/147 [00:01<00:16,  8.22it/s]ERROR:fiona._env:PROJ: proj_create: no database context specified\n",
      "Clipping labels for input:   8%|▊         | 12/147 [00:01<00:16,  8.12it/s]ERROR:fiona._env:PROJ: proj_create: no database context specified\n",
      "Clipping labels for input:   9%|▉         | 13/147 [00:01<00:16,  8.15it/s]ERROR:fiona._env:PROJ: proj_create: no database context specified\n",
      "Clipping labels for input:  10%|▉         | 14/147 [00:01<00:16,  8.01it/s]ERROR:fiona._env:PROJ: proj_create: no database context specified\n",
      "Clipping labels for input:  10%|█         | 15/147 [00:01<00:16,  7.93it/s]ERROR:fiona._env:PROJ: proj_create: no database context specified\n",
      "Clipping labels for input:  11%|█         | 16/147 [00:01<00:16,  7.86it/s]ERROR:fiona._env:PROJ: proj_create: no database context specified\n",
      "Clipping labels for input:  12%|█▏        | 17/147 [00:02<00:16,  7.70it/s]ERROR:fiona._env:PROJ: proj_create: no database context specified\n",
      "Clipping labels for input:  12%|█▏        | 18/147 [00:02<00:16,  7.63it/s]ERROR:fiona._env:PROJ: proj_create: no database context specified\n",
      "Clipping labels for input:  13%|█▎        | 19/147 [00:02<00:17,  7.42it/s]ERROR:fiona._env:PROJ: proj_create: no database context specified\n",
      "Clipping labels for input:  14%|█▎        | 20/147 [00:02<00:16,  7.65it/s]ERROR:fiona._env:PROJ: proj_create: no database context specified\n",
      "Clipping labels for input:  14%|█▍        | 21/147 [00:02<00:16,  7.85it/s]ERROR:fiona._env:PROJ: proj_create: no database context specified\n",
      "Clipping labels for input:  15%|█▍        | 22/147 [00:02<00:15,  8.01it/s]ERROR:fiona._env:PROJ: proj_create: no database context specified\n",
      "Clipping labels for input:  16%|█▌        | 23/147 [00:02<00:15,  8.13it/s]ERROR:fiona._env:PROJ: proj_create: no database context specified\n",
      "Clipping labels for input:  16%|█▋        | 24/147 [00:03<00:15,  8.01it/s]ERROR:fiona._env:PROJ: proj_create: no database context specified\n",
      "Clipping labels for input:  17%|█▋        | 25/147 [00:03<00:15,  7.82it/s]ERROR:fiona._env:PROJ: proj_create: no database context specified\n",
      "Clipping labels for input:  18%|█▊        | 26/147 [00:03<00:15,  7.59it/s]ERROR:fiona._env:PROJ: proj_create: no database context specified\n",
      "Clipping labels for input:  18%|█▊        | 27/147 [00:03<00:16,  7.23it/s]ERROR:fiona._env:PROJ: proj_create: no database context specified\n",
      "Clipping labels for input:  19%|█▉        | 28/147 [00:03<00:16,  7.22it/s]ERROR:fiona._env:PROJ: proj_create: no database context specified\n",
      "Clipping labels for input:  20%|█▉        | 29/147 [00:03<00:15,  7.48it/s]ERROR:fiona._env:PROJ: proj_create: no database context specified\n",
      "Clipping labels for input:  20%|██        | 30/147 [00:03<00:15,  7.77it/s]ERROR:fiona._env:PROJ: proj_create: no database context specified\n",
      "Clipping labels for input:  21%|██        | 31/147 [00:03<00:14,  7.84it/s]ERROR:fiona._env:PROJ: proj_create: no database context specified\n",
      "Clipping labels for input:  22%|██▏       | 32/147 [00:04<00:14,  7.90it/s]ERROR:fiona._env:PROJ: proj_create: no database context specified\n",
      "Clipping labels for input:  22%|██▏       | 33/147 [00:04<00:14,  8.02it/s]ERROR:fiona._env:PROJ: proj_create: no database context specified\n",
      "Clipping labels for input:  23%|██▎       | 34/147 [00:04<00:13,  8.09it/s]ERROR:fiona._env:PROJ: proj_create: no database context specified\n",
      "Clipping labels for input:  24%|██▍       | 35/147 [00:04<00:14,  7.99it/s]ERROR:fiona._env:PROJ: proj_create: no database context specified\n",
      "Clipping labels for input:  24%|██▍       | 36/147 [00:04<00:13,  8.07it/s]ERROR:fiona._env:PROJ: proj_create: no database context specified\n",
      "Clipping labels for input:  25%|██▌       | 37/147 [00:04<00:13,  7.88it/s]ERROR:fiona._env:PROJ: proj_create: no database context specified\n",
      "Clipping labels for input:  26%|██▌       | 38/147 [00:04<00:14,  7.77it/s]ERROR:fiona._env:PROJ: proj_create: no database context specified\n",
      "Clipping labels for input:  27%|██▋       | 39/147 [00:04<00:13,  7.88it/s]ERROR:fiona._env:PROJ: proj_create: no database context specified\n",
      "Clipping labels for input:  27%|██▋       | 40/147 [00:05<00:13,  8.07it/s]ERROR:fiona._env:PROJ: proj_create: no database context specified\n",
      "Clipping labels for input:  28%|██▊       | 41/147 [00:05<00:13,  8.13it/s]ERROR:fiona._env:PROJ: proj_create: no database context specified\n",
      "Clipping labels for input:  29%|██▊       | 42/147 [00:05<00:12,  8.14it/s]ERROR:fiona._env:PROJ: proj_create: no database context specified\n",
      "Clipping labels for input:  29%|██▉       | 43/147 [00:05<00:13,  7.86it/s]ERROR:fiona._env:PROJ: proj_create: no database context specified\n",
      "Clipping labels for input:  30%|██▉       | 44/147 [00:05<00:13,  7.71it/s]ERROR:fiona._env:PROJ: proj_create: no database context specified\n",
      "Clipping labels for input:  31%|███       | 45/147 [00:05<00:13,  7.84it/s]ERROR:fiona._env:PROJ: proj_create: no database context specified\n",
      "Clipping labels for input:  31%|███▏      | 46/147 [00:05<00:12,  8.01it/s]ERROR:fiona._env:PROJ: proj_create: no database context specified\n",
      "Clipping labels for input:  32%|███▏      | 47/147 [00:05<00:12,  8.07it/s]ERROR:fiona._env:PROJ: proj_create: no database context specified\n",
      "Clipping labels for input:  33%|███▎      | 48/147 [00:06<00:12,  7.94it/s]ERROR:fiona._env:PROJ: proj_create: no database context specified\n",
      "Clipping labels for input:  33%|███▎      | 49/147 [00:06<00:12,  8.07it/s]ERROR:fiona._env:PROJ: proj_create: no database context specified\n",
      "Clipping labels for input:  34%|███▍      | 50/147 [00:06<00:11,  8.14it/s]ERROR:fiona._env:PROJ: proj_create: no database context specified\n",
      "Clipping labels for input:  35%|███▍      | 51/147 [00:06<00:11,  8.17it/s]ERROR:fiona._env:PROJ: proj_create: no database context specified\n",
      "Clipping labels for input:  35%|███▌      | 52/147 [00:06<00:11,  8.08it/s]ERROR:fiona._env:PROJ: proj_create: no database context specified\n",
      "Clipping labels for input:  36%|███▌      | 53/147 [00:06<00:11,  7.93it/s]ERROR:fiona._env:PROJ: proj_create: no database context specified\n",
      "Clipping labels for input:  37%|███▋      | 54/147 [00:06<00:11,  7.91it/s]ERROR:fiona._env:PROJ: proj_create: no database context specified\n",
      "Clipping labels for input:  37%|███▋      | 55/147 [00:06<00:12,  7.20it/s]ERROR:fiona._env:PROJ: proj_create: no database context specified\n",
      "Clipping labels for input:  38%|███▊      | 56/147 [00:07<00:12,  7.36it/s]ERROR:fiona._env:PROJ: proj_create: no database context specified\n",
      "Clipping labels for input:  39%|███▉      | 57/147 [00:07<00:11,  7.57it/s]ERROR:fiona._env:PROJ: proj_create: no database context specified\n",
      "Clipping labels for input:  39%|███▉      | 58/147 [00:07<00:11,  7.79it/s]ERROR:fiona._env:PROJ: proj_create: no database context specified\n",
      "Clipping labels for input:  40%|████      | 59/147 [00:07<00:11,  7.92it/s]ERROR:fiona._env:PROJ: proj_create: no database context specified\n",
      "Clipping labels for input:  41%|████      | 60/147 [00:07<00:11,  7.90it/s]ERROR:fiona._env:PROJ: proj_create: no database context specified\n",
      "Clipping labels for input:  41%|████▏     | 61/147 [00:07<00:10,  8.02it/s]ERROR:fiona._env:PROJ: proj_create: no database context specified\n",
      "Clipping labels for input:  42%|████▏     | 62/147 [00:07<00:10,  8.17it/s]ERROR:fiona._env:PROJ: proj_create: no database context specified\n",
      "Clipping labels for input:  43%|████▎     | 63/147 [00:07<00:10,  8.22it/s]ERROR:fiona._env:PROJ: proj_create: no database context specified\n",
      "Clipping labels for input:  44%|████▎     | 64/147 [00:08<00:09,  8.31it/s]ERROR:fiona._env:PROJ: proj_create: no database context specified\n",
      "Clipping labels for input:  44%|████▍     | 65/147 [00:08<00:09,  8.32it/s]ERROR:fiona._env:PROJ: proj_create: no database context specified\n",
      "Clipping labels for input:  45%|████▍     | 66/147 [00:08<00:09,  8.25it/s]ERROR:fiona._env:PROJ: proj_create: no database context specified\n",
      "Clipping labels for input:  46%|████▌     | 67/147 [00:08<00:09,  8.21it/s]ERROR:fiona._env:PROJ: proj_create: no database context specified\n",
      "Clipping labels for input:  46%|████▋     | 68/147 [00:08<00:09,  8.00it/s]ERROR:fiona._env:PROJ: proj_create: no database context specified\n",
      "Clipping labels for input:  47%|████▋     | 69/147 [00:08<00:09,  8.04it/s]ERROR:fiona._env:PROJ: proj_create: no database context specified\n",
      "Clipping labels for input:  48%|████▊     | 70/147 [00:08<00:09,  8.12it/s]ERROR:fiona._env:PROJ: proj_create: no database context specified\n",
      "Clipping labels for input:  48%|████▊     | 71/147 [00:08<00:09,  8.15it/s]ERROR:fiona._env:PROJ: proj_create: no database context specified\n",
      "Clipping labels for input:  49%|████▉     | 72/147 [00:09<00:09,  8.22it/s]ERROR:fiona._env:PROJ: proj_create: no database context specified\n",
      "Clipping labels for input:  50%|████▉     | 73/147 [00:09<00:08,  8.25it/s]ERROR:fiona._env:PROJ: proj_create: no database context specified\n",
      "Clipping labels for input:  50%|█████     | 74/147 [00:09<00:08,  8.26it/s]ERROR:fiona._env:PROJ: proj_create: no database context specified\n",
      "Clipping labels for input:  51%|█████     | 75/147 [00:09<00:08,  8.30it/s]ERROR:fiona._env:PROJ: proj_create: no database context specified\n",
      "Clipping labels for input:  52%|█████▏    | 76/147 [00:09<00:08,  8.13it/s]ERROR:fiona._env:PROJ: proj_create: no database context specified\n",
      "Clipping labels for input:  52%|█████▏    | 77/147 [00:09<00:08,  8.11it/s]ERROR:fiona._env:PROJ: proj_create: no database context specified\n",
      "Clipping labels for input:  53%|█████▎    | 78/147 [00:09<00:08,  8.05it/s]ERROR:fiona._env:PROJ: proj_create: no database context specified\n",
      "Clipping labels for input:  54%|█████▎    | 79/147 [00:09<00:08,  7.82it/s]ERROR:fiona._env:PROJ: proj_create: no database context specified\n",
      "Clipping labels for input:  54%|█████▍    | 80/147 [00:10<00:08,  7.72it/s]ERROR:fiona._env:PROJ: proj_create: no database context specified\n",
      "Clipping labels for input:  55%|█████▌    | 81/147 [00:10<00:08,  7.56it/s]ERROR:fiona._env:PROJ: proj_create: no database context specified\n",
      "Clipping labels for input:  56%|█████▌    | 82/147 [00:10<00:08,  7.70it/s]ERROR:fiona._env:PROJ: proj_create: no database context specified\n",
      "Clipping labels for input:  56%|█████▋    | 83/147 [00:10<00:08,  7.80it/s]ERROR:fiona._env:PROJ: proj_create: no database context specified\n",
      "Clipping labels for input:  57%|█████▋    | 84/147 [00:10<00:07,  7.93it/s]ERROR:fiona._env:PROJ: proj_create: no database context specified\n",
      "Clipping labels for input:  58%|█████▊    | 85/147 [00:10<00:07,  7.96it/s]ERROR:fiona._env:PROJ: proj_create: no database context specified\n",
      "Clipping labels for input:  59%|█████▊    | 86/147 [00:10<00:07,  8.03it/s]ERROR:fiona._env:PROJ: proj_create: no database context specified\n",
      "Clipping labels for input:  59%|█████▉    | 87/147 [00:10<00:07,  8.07it/s]ERROR:fiona._env:PROJ: proj_create: no database context specified\n",
      "Clipping labels for input:  60%|█████▉    | 88/147 [00:11<00:07,  8.10it/s]ERROR:fiona._env:PROJ: proj_create: no database context specified\n",
      "Clipping labels for input:  61%|██████    | 89/147 [00:11<00:07,  8.22it/s]ERROR:fiona._env:PROJ: proj_create: no database context specified\n",
      "Clipping labels for input:  61%|██████    | 90/147 [00:11<00:06,  8.22it/s]ERROR:fiona._env:PROJ: proj_create: no database context specified\n",
      "Clipping labels for input:  62%|██████▏   | 91/147 [00:11<00:06,  8.19it/s]ERROR:fiona._env:PROJ: proj_create: no database context specified\n",
      "Clipping labels for input:  63%|██████▎   | 92/147 [00:11<00:06,  8.03it/s]ERROR:fiona._env:PROJ: proj_create: no database context specified\n",
      "Clipping labels for input:  63%|██████▎   | 93/147 [00:11<00:06,  7.87it/s]ERROR:fiona._env:PROJ: proj_create: no database context specified\n",
      "Clipping labels for input:  64%|██████▍   | 94/147 [00:11<00:06,  7.79it/s]ERROR:fiona._env:PROJ: proj_create: no database context specified\n",
      "Clipping labels for input:  65%|██████▍   | 95/147 [00:11<00:06,  7.69it/s]ERROR:fiona._env:PROJ: proj_create: no database context specified\n",
      "Clipping labels for input:  65%|██████▌   | 96/147 [00:12<00:06,  7.69it/s]ERROR:fiona._env:PROJ: proj_create: no database context specified\n",
      "Clipping labels for input:  66%|██████▌   | 97/147 [00:12<00:06,  7.89it/s]ERROR:fiona._env:PROJ: proj_create: no database context specified\n",
      "Clipping labels for input:  67%|██████▋   | 98/147 [00:12<00:06,  7.93it/s]ERROR:fiona._env:PROJ: proj_create: no database context specified\n",
      "Clipping labels for input:  67%|██████▋   | 99/147 [00:12<00:05,  8.00it/s]ERROR:fiona._env:PROJ: proj_create: no database context specified\n",
      "Clipping labels for input:  68%|██████▊   | 100/147 [00:12<00:05,  8.04it/s]ERROR:fiona._env:PROJ: proj_create: no database context specified\n",
      "Clipping labels for input:  69%|██████▊   | 101/147 [00:12<00:05,  8.03it/s]ERROR:fiona._env:PROJ: proj_create: no database context specified\n",
      "Clipping labels for input:  69%|██████▉   | 102/147 [00:12<00:05,  8.08it/s]ERROR:fiona._env:PROJ: proj_create: no database context specified\n",
      "Clipping labels for input:  70%|███████   | 103/147 [00:12<00:05,  8.18it/s]ERROR:fiona._env:PROJ: proj_create: no database context specified\n",
      "Clipping labels for input:  71%|███████   | 104/147 [00:13<00:05,  7.80it/s]ERROR:fiona._env:PROJ: proj_create: no database context specified\n",
      "Clipping labels for input:  71%|███████▏  | 105/147 [00:13<00:05,  7.91it/s]ERROR:fiona._env:PROJ: proj_create: no database context specified\n",
      "Clipping labels for input:  72%|███████▏  | 106/147 [00:13<00:05,  7.86it/s]ERROR:fiona._env:PROJ: proj_create: no database context specified\n",
      "Clipping labels for input:  73%|███████▎  | 107/147 [00:13<00:05,  7.93it/s]ERROR:fiona._env:PROJ: proj_create: no database context specified\n",
      "Clipping labels for input:  73%|███████▎  | 108/147 [00:13<00:04,  7.97it/s]ERROR:fiona._env:PROJ: proj_create: no database context specified\n",
      "Clipping labels for input:  74%|███████▍  | 109/147 [00:13<00:04,  8.05it/s]ERROR:fiona._env:PROJ: proj_create: no database context specified\n",
      "Clipping labels for input:  75%|███████▍  | 110/147 [00:13<00:04,  8.10it/s]ERROR:fiona._env:PROJ: proj_create: no database context specified\n",
      "Clipping labels for input:  76%|███████▌  | 111/147 [00:13<00:04,  7.99it/s]ERROR:fiona._env:PROJ: proj_create: no database context specified\n",
      "Clipping labels for input:  76%|███████▌  | 112/147 [00:14<00:04,  7.94it/s]ERROR:fiona._env:PROJ: proj_create: no database context specified\n",
      "Clipping labels for input:  77%|███████▋  | 113/147 [00:14<00:04,  7.90it/s]ERROR:fiona._env:PROJ: proj_create: no database context specified\n",
      "Clipping labels for input:  78%|███████▊  | 114/147 [00:14<00:04,  7.91it/s]ERROR:fiona._env:PROJ: proj_create: no database context specified\n",
      "Clipping labels for input:  78%|███████▊  | 115/147 [00:14<00:03,  8.03it/s]ERROR:fiona._env:PROJ: proj_create: no database context specified\n",
      "Clipping labels for input:  79%|███████▉  | 116/147 [00:14<00:03,  8.02it/s]ERROR:fiona._env:PROJ: proj_create: no database context specified\n",
      "Clipping labels for input:  80%|███████▉  | 117/147 [00:14<00:03,  7.80it/s]ERROR:fiona._env:PROJ: proj_create: no database context specified\n",
      "Clipping labels for input:  80%|████████  | 118/147 [00:14<00:03,  7.85it/s]ERROR:fiona._env:PROJ: proj_create: no database context specified\n",
      "Clipping labels for input:  81%|████████  | 119/147 [00:14<00:03,  7.98it/s]ERROR:fiona._env:PROJ: proj_create: no database context specified\n",
      "Clipping labels for input:  82%|████████▏ | 120/147 [00:15<00:03,  7.93it/s]ERROR:fiona._env:PROJ: proj_create: no database context specified\n",
      "Clipping labels for input:  82%|████████▏ | 121/147 [00:15<00:03,  7.81it/s]ERROR:fiona._env:PROJ: proj_create: no database context specified\n",
      "Clipping labels for input:  83%|████████▎ | 122/147 [00:15<00:03,  7.93it/s]ERROR:fiona._env:PROJ: proj_create: no database context specified\n",
      "Clipping labels for input:  84%|████████▎ | 123/147 [00:15<00:02,  8.00it/s]ERROR:fiona._env:PROJ: proj_create: no database context specified\n",
      "Clipping labels for input:  84%|████████▍ | 124/147 [00:15<00:02,  7.92it/s]ERROR:fiona._env:PROJ: proj_create: no database context specified\n",
      "Clipping labels for input:  85%|████████▌ | 125/147 [00:15<00:02,  7.39it/s]ERROR:fiona._env:PROJ: proj_create: no database context specified\n",
      "Clipping labels for input:  86%|████████▌ | 126/147 [00:15<00:02,  7.31it/s]ERROR:fiona._env:PROJ: proj_create: no database context specified\n",
      "Clipping labels for input:  86%|████████▋ | 127/147 [00:16<00:02,  7.24it/s]ERROR:fiona._env:PROJ: proj_create: no database context specified\n",
      "Clipping labels for input:  87%|████████▋ | 128/147 [00:16<00:02,  7.54it/s]ERROR:fiona._env:PROJ: proj_create: no database context specified\n",
      "Clipping labels for input:  88%|████████▊ | 129/147 [00:16<00:02,  7.72it/s]ERROR:fiona._env:PROJ: proj_create: no database context specified\n",
      "Clipping labels for input:  88%|████████▊ | 130/147 [00:16<00:02,  7.80it/s]ERROR:fiona._env:PROJ: proj_create: no database context specified\n",
      "Clipping labels for input:  89%|████████▉ | 131/147 [00:16<00:02,  7.89it/s]ERROR:fiona._env:PROJ: proj_create: no database context specified\n",
      "Clipping labels for input:  90%|████████▉ | 132/147 [00:16<00:01,  8.01it/s]ERROR:fiona._env:PROJ: proj_create: no database context specified\n",
      "Clipping labels for input:  90%|█████████ | 133/147 [00:16<00:01,  7.73it/s]ERROR:fiona._env:PROJ: proj_create: no database context specified\n",
      "Clipping labels for input:  91%|█████████ | 134/147 [00:16<00:01,  7.85it/s]ERROR:fiona._env:PROJ: proj_create: no database context specified\n",
      "Clipping labels for input:  92%|█████████▏| 135/147 [00:17<00:01,  7.88it/s]ERROR:fiona._env:PROJ: proj_create: no database context specified\n",
      "Clipping labels for input:  93%|█████████▎| 136/147 [00:17<00:01,  7.78it/s]ERROR:fiona._env:PROJ: proj_create: no database context specified\n",
      "Clipping labels for input:  93%|█████████▎| 137/147 [00:17<00:01,  8.00it/s]ERROR:fiona._env:PROJ: proj_create: no database context specified\n",
      "Clipping labels for input:  94%|█████████▍| 138/147 [00:17<00:01,  7.93it/s]ERROR:fiona._env:PROJ: proj_create: no database context specified\n",
      "Clipping labels for input:  95%|█████████▍| 139/147 [00:17<00:01,  7.65it/s]ERROR:fiona._env:PROJ: proj_create: no database context specified\n",
      "Clipping labels for input:  95%|█████████▌| 140/147 [00:17<00:00,  7.75it/s]ERROR:fiona._env:PROJ: proj_create: no database context specified\n",
      "Clipping labels for input:  96%|█████████▌| 141/147 [00:17<00:00,  7.94it/s]ERROR:fiona._env:PROJ: proj_create: no database context specified\n",
      "Clipping labels for input:  97%|█████████▋| 142/147 [00:17<00:00,  8.05it/s]ERROR:fiona._env:PROJ: proj_create: no database context specified\n",
      "Clipping labels for input:  97%|█████████▋| 143/147 [00:18<00:00,  8.10it/s]ERROR:fiona._env:PROJ: proj_create: no database context specified\n",
      "Clipping labels for input:  98%|█████████▊| 144/147 [00:18<00:00,  8.01it/s]ERROR:fiona._env:PROJ: proj_create: no database context specified\n",
      "Clipping labels for input:  99%|█████████▊| 145/147 [00:18<00:00,  8.04it/s]ERROR:fiona._env:PROJ: proj_create: no database context specified\n",
      "Clipping labels for input:  99%|█████████▉| 146/147 [00:18<00:00,  8.04it/s]ERROR:fiona._env:PROJ: proj_create: no database context specified\n",
      "Clipping labels for input: 100%|██████████| 147/147 [00:18<00:00,  7.92it/s]\n"
     ]
    }
   ],
   "source": [
    "from hot_fair_utilities import preprocess\n",
    "model_input_image_path = f\"{base_path}/input\"\n",
    "preprocess_output=f\"{base_path}/preprocessed\"\n",
    "preprocess(\n",
    "            input_path = model_input_image_path,\n",
    "            output_path = preprocess_output,\n",
    "            rasterize=True,\n",
    "            rasterize_options=[\"binary\"],\n",
    "            georeference_images=True,\n",
    "        )"
   ]
  },
  {
   "cell_type": "code",
   "execution_count": 5,
   "metadata": {},
   "outputs": [],
   "source": [
    "from hot_fair_utilities import train"
   ]
  },
  {
   "cell_type": "code",
   "execution_count": 11,
   "metadata": {},
   "outputs": [
    {
     "name": "stdout",
     "output_type": "stream",
     "text": [
      "variables are /Users/azanchetta/fAIr-utilities/ramp-data/sample_2/preprocessed\n",
      " and /Users/azanchetta/fAIr-utilities/ramp-data/sample_2/train\n",
      "gggStarting to prepare data for training\n",
      "ramp home is /Users/azanchetta/fAIr-utilities\n",
      "python home is None\n",
      "variables are: src /Users/azanchetta/fAIr-utilities/ramp-data/sample_2/preprocessed\n",
      " and dst:/Users/azanchetta/fAIr-utilities/ramp-data/sample_2/train\n"
     ]
    },
    {
     "name": "stderr",
     "output_type": "stream",
     "text": [
      "Writing /Users/azanchetta/fAIr-utilities/ramp-data/sample_2/train/fair_split_train.csv\n",
      "Writing /Users/azanchetta/fAIr-utilities/ramp-data/sample_2/train/fair_split_val.csv\n"
     ]
    },
    {
     "name": "stdout",
     "output_type": "stream",
     "text": [
      "done split\n",
      "Data is ready for training\n",
      "Metric constructor function: get_sparse_categorical_accuracy_fn\n",
      "Model: importing saved model /Users/azanchetta/fAIr-utilities/ramp-code/ramp/checkpoint.tf\n",
      "<keras.engine.functional.Functional object at 0x7fa410795ee0>\n",
      "Starting Training with 2 epochs , 2 batch size , 62 steps per epoch , 11 validation steps......\n",
      "Epoch 1/2\n"
     ]
    },
    {
     "name": "stderr",
     "output_type": "stream",
     "text": [
      "2023-06-22 14:10:13.788892: I tensorflow/core/common_runtime/executor.cc:1197] [/device:CPU:0] (DEBUG INFO) Executor start aborting (this does not indicate an error and you can ignore this message): INVALID_ARGUMENT: You must feed a value for placeholder tensor 'Placeholder/_0' with dtype string and shape [125]\n",
      "\t [[{{node Placeholder/_0}}]]\n",
      "2023-06-22 14:10:13.789958: I tensorflow/core/common_runtime/executor.cc:1197] [/device:CPU:0] (DEBUG INFO) Executor start aborting (this does not indicate an error and you can ignore this message): INVALID_ARGUMENT: You must feed a value for placeholder tensor 'Placeholder/_9' with dtype string and shape [125]\n",
      "\t [[{{node Placeholder/_9}}]]\n"
     ]
    },
    {
     "name": "stdout",
     "output_type": "stream",
     "text": [
      "62/62 [==============================] - ETA: 0s - loss: 0.7407 - sparse_categorical_accuracy: 0.8235"
     ]
    },
    {
     "name": "stderr",
     "output_type": "stream",
     "text": [
      "2023-06-22 14:11:15.271898: I tensorflow/core/common_runtime/executor.cc:1197] [/device:CPU:0] (DEBUG INFO) Executor start aborting (this does not indicate an error and you can ignore this message): INVALID_ARGUMENT: You must feed a value for placeholder tensor 'Placeholder/_9' with dtype string and shape [22]\n",
      "\t [[{{node Placeholder/_9}}]]\n",
      "2023-06-22 14:11:15.272366: I tensorflow/core/common_runtime/executor.cc:1197] [/device:CPU:0] (DEBUG INFO) Executor start aborting (this does not indicate an error and you can ignore this message): INVALID_ARGUMENT: You must feed a value for placeholder tensor 'Placeholder/_0' with dtype string and shape [22]\n",
      "\t [[{{node Placeholder/_0}}]]\n",
      "2023-06-22 14:11:20.197248: I tensorflow/core/common_runtime/executor.cc:1197] [/device:CPU:0] (DEBUG INFO) Executor start aborting (this does not indicate an error and you can ignore this message): INVALID_ARGUMENT: You must feed a value for placeholder tensor 'inputs' with dtype float and shape [?,?,?,?]\n",
      "\t [[{{node inputs}}]]\n",
      "2023-06-22 14:11:20.256873: I tensorflow/core/common_runtime/executor.cc:1197] [/device:CPU:0] (DEBUG INFO) Executor start aborting (this does not indicate an error and you can ignore this message): INVALID_ARGUMENT: You must feed a value for placeholder tensor 'inputs' with dtype float and shape [?,?,?,?]\n",
      "\t [[{{node inputs}}]]\n",
      "2023-06-22 14:11:20.316663: I tensorflow/core/common_runtime/executor.cc:1197] [/device:CPU:0] (DEBUG INFO) Executor start aborting (this does not indicate an error and you can ignore this message): INVALID_ARGUMENT: You must feed a value for placeholder tensor 'inputs' with dtype float and shape [?,?,?,?]\n",
      "\t [[{{node inputs}}]]\n",
      "2023-06-22 14:11:20.375420: I tensorflow/core/common_runtime/executor.cc:1197] [/device:CPU:0] (DEBUG INFO) Executor start aborting (this does not indicate an error and you can ignore this message): INVALID_ARGUMENT: You must feed a value for placeholder tensor 'inputs' with dtype float and shape [?,?,?,?]\n",
      "\t [[{{node inputs}}]]\n",
      "2023-06-22 14:11:20.435619: I tensorflow/core/common_runtime/executor.cc:1197] [/device:CPU:0] (DEBUG INFO) Executor start aborting (this does not indicate an error and you can ignore this message): INVALID_ARGUMENT: You must feed a value for placeholder tensor 'inputs' with dtype float and shape [?,?,?,?]\n",
      "\t [[{{node inputs}}]]\n",
      "2023-06-22 14:11:23.212832: I tensorflow/core/common_runtime/executor.cc:1197] [/device:CPU:0] (DEBUG INFO) Executor start aborting (this does not indicate an error and you can ignore this message): INVALID_ARGUMENT: You must feed a value for placeholder tensor 'inputs' with dtype float and shape [?,32]\n",
      "\t [[{{node inputs}}]]\n",
      "2023-06-22 14:11:23.246607: I tensorflow/core/common_runtime/executor.cc:1197] [/device:CPU:0] (DEBUG INFO) Executor start aborting (this does not indicate an error and you can ignore this message): INVALID_ARGUMENT: You must feed a value for placeholder tensor 'inputs' with dtype float and shape [?,96]\n",
      "\t [[{{node inputs}}]]\n",
      "2023-06-22 14:11:23.282640: I tensorflow/core/common_runtime/executor.cc:1197] [/device:CPU:0] (DEBUG INFO) Executor start aborting (this does not indicate an error and you can ignore this message): INVALID_ARGUMENT: You must feed a value for placeholder tensor 'inputs' with dtype float and shape [?,144]\n",
      "\t [[{{node inputs}}]]\n",
      "2023-06-22 14:11:23.303011: I tensorflow/core/common_runtime/executor.cc:1197] [/device:CPU:0] (DEBUG INFO) Executor start aborting (this does not indicate an error and you can ignore this message): INVALID_ARGUMENT: You must feed a value for placeholder tensor 'inputs' with dtype float and shape [?,?,?,24]\n",
      "\t [[{{node inputs}}]]\n",
      "2023-06-22 14:11:23.326590: I tensorflow/core/common_runtime/executor.cc:1197] [/device:CPU:0] (DEBUG INFO) Executor start aborting (this does not indicate an error and you can ignore this message): INVALID_ARGUMENT: You must feed a value for placeholder tensor 'inputs' with dtype float and shape [?,144]\n",
      "\t [[{{node inputs}}]]\n",
      "2023-06-22 14:11:23.360268: I tensorflow/core/common_runtime/executor.cc:1197] [/device:CPU:0] (DEBUG INFO) Executor start aborting (this does not indicate an error and you can ignore this message): INVALID_ARGUMENT: You must feed a value for placeholder tensor 'inputs' with dtype float and shape [?,240]\n",
      "\t [[{{node inputs}}]]\n",
      "2023-06-22 14:11:23.379597: I tensorflow/core/common_runtime/executor.cc:1197] [/device:CPU:0] (DEBUG INFO) Executor start aborting (this does not indicate an error and you can ignore this message): INVALID_ARGUMENT: You must feed a value for placeholder tensor 'inputs' with dtype float and shape [?,?,?,40]\n",
      "\t [[{{node inputs}}]]\n",
      "2023-06-22 14:11:23.405465: I tensorflow/core/common_runtime/executor.cc:1197] [/device:CPU:0] (DEBUG INFO) Executor start aborting (this does not indicate an error and you can ignore this message): INVALID_ARGUMENT: You must feed a value for placeholder tensor 'inputs' with dtype float and shape [?,240]\n",
      "\t [[{{node inputs}}]]\n",
      "2023-06-22 14:11:23.440921: I tensorflow/core/common_runtime/executor.cc:1197] [/device:CPU:0] (DEBUG INFO) Executor start aborting (this does not indicate an error and you can ignore this message): INVALID_ARGUMENT: You must feed a value for placeholder tensor 'inputs' with dtype float and shape [?,480]\n",
      "\t [[{{node inputs}}]]\n",
      "2023-06-22 14:11:23.461617: I tensorflow/core/common_runtime/executor.cc:1197] [/device:CPU:0] (DEBUG INFO) Executor start aborting (this does not indicate an error and you can ignore this message): INVALID_ARGUMENT: You must feed a value for placeholder tensor 'inputs' with dtype float and shape [?,?,?,80]\n",
      "\t [[{{node inputs}}]]\n",
      "2023-06-22 14:11:23.486234: I tensorflow/core/common_runtime/executor.cc:1197] [/device:CPU:0] (DEBUG INFO) Executor start aborting (this does not indicate an error and you can ignore this message): INVALID_ARGUMENT: You must feed a value for placeholder tensor 'inputs' with dtype float and shape [?,480]\n",
      "\t [[{{node inputs}}]]\n",
      "2023-06-22 14:11:23.506445: I tensorflow/core/common_runtime/executor.cc:1197] [/device:CPU:0] (DEBUG INFO) Executor start aborting (this does not indicate an error and you can ignore this message): INVALID_ARGUMENT: You must feed a value for placeholder tensor 'inputs' with dtype float and shape [?,?,?,80]\n",
      "\t [[{{node inputs}}]]\n",
      "2023-06-22 14:11:23.532174: I tensorflow/core/common_runtime/executor.cc:1197] [/device:CPU:0] (DEBUG INFO) Executor start aborting (this does not indicate an error and you can ignore this message): INVALID_ARGUMENT: You must feed a value for placeholder tensor 'inputs' with dtype float and shape [?,480]\n",
      "\t [[{{node inputs}}]]\n",
      "2023-06-22 14:11:23.567140: I tensorflow/core/common_runtime/executor.cc:1197] [/device:CPU:0] (DEBUG INFO) Executor start aborting (this does not indicate an error and you can ignore this message): INVALID_ARGUMENT: You must feed a value for placeholder tensor 'inputs' with dtype float and shape [?,672]\n",
      "\t [[{{node inputs}}]]\n",
      "2023-06-22 14:11:23.587678: I tensorflow/core/common_runtime/executor.cc:1197] [/device:CPU:0] (DEBUG INFO) Executor start aborting (this does not indicate an error and you can ignore this message): INVALID_ARGUMENT: You must feed a value for placeholder tensor 'inputs' with dtype float and shape [?,?,?,112]\n",
      "\t [[{{node inputs}}]]\n",
      "2023-06-22 14:11:23.613620: I tensorflow/core/common_runtime/executor.cc:1197] [/device:CPU:0] (DEBUG INFO) Executor start aborting (this does not indicate an error and you can ignore this message): INVALID_ARGUMENT: You must feed a value for placeholder tensor 'inputs' with dtype float and shape [?,672]\n",
      "\t [[{{node inputs}}]]\n",
      "2023-06-22 14:11:23.633804: I tensorflow/core/common_runtime/executor.cc:1197] [/device:CPU:0] (DEBUG INFO) Executor start aborting (this does not indicate an error and you can ignore this message): INVALID_ARGUMENT: You must feed a value for placeholder tensor 'inputs' with dtype float and shape [?,?,?,112]\n",
      "\t [[{{node inputs}}]]\n",
      "2023-06-22 14:11:23.660283: I tensorflow/core/common_runtime/executor.cc:1197] [/device:CPU:0] (DEBUG INFO) Executor start aborting (this does not indicate an error and you can ignore this message): INVALID_ARGUMENT: You must feed a value for placeholder tensor 'inputs' with dtype float and shape [?,672]\n",
      "\t [[{{node inputs}}]]\n",
      "2023-06-22 14:11:23.697338: I tensorflow/core/common_runtime/executor.cc:1197] [/device:CPU:0] (DEBUG INFO) Executor start aborting (this does not indicate an error and you can ignore this message): INVALID_ARGUMENT: You must feed a value for placeholder tensor 'inputs' with dtype float and shape [?,1152]\n",
      "\t [[{{node inputs}}]]\n",
      "2023-06-22 14:11:23.717414: I tensorflow/core/common_runtime/executor.cc:1197] [/device:CPU:0] (DEBUG INFO) Executor start aborting (this does not indicate an error and you can ignore this message): INVALID_ARGUMENT: You must feed a value for placeholder tensor 'inputs' with dtype float and shape [?,?,?,192]\n",
      "\t [[{{node inputs}}]]\n",
      "2023-06-22 14:11:23.743358: I tensorflow/core/common_runtime/executor.cc:1197] [/device:CPU:0] (DEBUG INFO) Executor start aborting (this does not indicate an error and you can ignore this message): INVALID_ARGUMENT: You must feed a value for placeholder tensor 'inputs' with dtype float and shape [?,1152]\n",
      "\t [[{{node inputs}}]]\n",
      "2023-06-22 14:11:23.762397: I tensorflow/core/common_runtime/executor.cc:1197] [/device:CPU:0] (DEBUG INFO) Executor start aborting (this does not indicate an error and you can ignore this message): INVALID_ARGUMENT: You must feed a value for placeholder tensor 'inputs' with dtype float and shape [?,?,?,192]\n",
      "\t [[{{node inputs}}]]\n",
      "2023-06-22 14:11:23.789330: I tensorflow/core/common_runtime/executor.cc:1197] [/device:CPU:0] (DEBUG INFO) Executor start aborting (this does not indicate an error and you can ignore this message): INVALID_ARGUMENT: You must feed a value for placeholder tensor 'inputs' with dtype float and shape [?,1152]\n",
      "\t [[{{node inputs}}]]\n",
      "2023-06-22 14:11:23.808395: I tensorflow/core/common_runtime/executor.cc:1197] [/device:CPU:0] (DEBUG INFO) Executor start aborting (this does not indicate an error and you can ignore this message): INVALID_ARGUMENT: You must feed a value for placeholder tensor 'inputs' with dtype float and shape [?,?,?,192]\n",
      "\t [[{{node inputs}}]]\n",
      "2023-06-22 14:11:23.831926: I tensorflow/core/common_runtime/executor.cc:1197] [/device:CPU:0] (DEBUG INFO) Executor start aborting (this does not indicate an error and you can ignore this message): INVALID_ARGUMENT: You must feed a value for placeholder tensor 'inputs' with dtype float and shape [?,1152]\n",
      "\t [[{{node inputs}}]]\n",
      "2023-06-22 14:11:27.769030: I tensorflow/core/common_runtime/executor.cc:1197] [/device:CPU:0] (DEBUG INFO) Executor start aborting (this does not indicate an error and you can ignore this message): INVALID_ARGUMENT: You must feed a value for placeholder tensor 'inputs' with dtype float and shape [?,32]\n",
      "\t [[{{node inputs}}]]\n",
      "2023-06-22 14:11:27.918499: I tensorflow/core/common_runtime/executor.cc:1197] [/device:CPU:0] (DEBUG INFO) Executor start aborting (this does not indicate an error and you can ignore this message): INVALID_ARGUMENT: You must feed a value for placeholder tensor 'inputs' with dtype float and shape [?,96]\n",
      "\t [[{{node inputs}}]]\n",
      "2023-06-22 14:11:28.066466: I tensorflow/core/common_runtime/executor.cc:1197] [/device:CPU:0] (DEBUG INFO) Executor start aborting (this does not indicate an error and you can ignore this message): INVALID_ARGUMENT: You must feed a value for placeholder tensor 'inputs' with dtype float and shape [?,144]\n",
      "\t [[{{node inputs}}]]\n",
      "2023-06-22 14:11:28.132581: I tensorflow/core/common_runtime/executor.cc:1197] [/device:CPU:0] (DEBUG INFO) Executor start aborting (this does not indicate an error and you can ignore this message): INVALID_ARGUMENT: You must feed a value for placeholder tensor 'inputs' with dtype float and shape [?,?,?,24]\n",
      "\t [[{{node inputs}}]]\n",
      "2023-06-22 14:11:28.254279: I tensorflow/core/common_runtime/executor.cc:1197] [/device:CPU:0] (DEBUG INFO) Executor start aborting (this does not indicate an error and you can ignore this message): INVALID_ARGUMENT: You must feed a value for placeholder tensor 'inputs' with dtype float and shape [?,144]\n",
      "\t [[{{node inputs}}]]\n",
      "2023-06-22 14:11:28.440119: I tensorflow/core/common_runtime/executor.cc:1197] [/device:CPU:0] (DEBUG INFO) Executor start aborting (this does not indicate an error and you can ignore this message): INVALID_ARGUMENT: You must feed a value for placeholder tensor 'inputs' with dtype float and shape [?,240]\n",
      "\t [[{{node inputs}}]]\n",
      "2023-06-22 14:11:28.522227: I tensorflow/core/common_runtime/executor.cc:1197] [/device:CPU:0] (DEBUG INFO) Executor start aborting (this does not indicate an error and you can ignore this message): INVALID_ARGUMENT: You must feed a value for placeholder tensor 'inputs' with dtype float and shape [?,?,?,40]\n",
      "\t [[{{node inputs}}]]\n",
      "2023-06-22 14:11:28.656928: I tensorflow/core/common_runtime/executor.cc:1197] [/device:CPU:0] (DEBUG INFO) Executor start aborting (this does not indicate an error and you can ignore this message): INVALID_ARGUMENT: You must feed a value for placeholder tensor 'inputs' with dtype float and shape [?,240]\n",
      "\t [[{{node inputs}}]]\n",
      "2023-06-22 14:11:28.814659: I tensorflow/core/common_runtime/executor.cc:1197] [/device:CPU:0] (DEBUG INFO) Executor start aborting (this does not indicate an error and you can ignore this message): INVALID_ARGUMENT: You must feed a value for placeholder tensor 'inputs' with dtype float and shape [?,480]\n",
      "\t [[{{node inputs}}]]\n",
      "2023-06-22 14:11:28.882177: I tensorflow/core/common_runtime/executor.cc:1197] [/device:CPU:0] (DEBUG INFO) Executor start aborting (this does not indicate an error and you can ignore this message): INVALID_ARGUMENT: You must feed a value for placeholder tensor 'inputs' with dtype float and shape [?,?,?,80]\n",
      "\t [[{{node inputs}}]]\n",
      "2023-06-22 14:11:28.997902: I tensorflow/core/common_runtime/executor.cc:1197] [/device:CPU:0] (DEBUG INFO) Executor start aborting (this does not indicate an error and you can ignore this message): INVALID_ARGUMENT: You must feed a value for placeholder tensor 'inputs' with dtype float and shape [?,480]\n",
      "\t [[{{node inputs}}]]\n",
      "2023-06-22 14:11:29.077853: I tensorflow/core/common_runtime/executor.cc:1197] [/device:CPU:0] (DEBUG INFO) Executor start aborting (this does not indicate an error and you can ignore this message): INVALID_ARGUMENT: You must feed a value for placeholder tensor 'inputs' with dtype float and shape [?,?,?,80]\n",
      "\t [[{{node inputs}}]]\n",
      "2023-06-22 14:11:29.193450: I tensorflow/core/common_runtime/executor.cc:1197] [/device:CPU:0] (DEBUG INFO) Executor start aborting (this does not indicate an error and you can ignore this message): INVALID_ARGUMENT: You must feed a value for placeholder tensor 'inputs' with dtype float and shape [?,480]\n",
      "\t [[{{node inputs}}]]\n",
      "2023-06-22 14:11:29.341291: I tensorflow/core/common_runtime/executor.cc:1197] [/device:CPU:0] (DEBUG INFO) Executor start aborting (this does not indicate an error and you can ignore this message): INVALID_ARGUMENT: You must feed a value for placeholder tensor 'inputs' with dtype float and shape [?,672]\n",
      "\t [[{{node inputs}}]]\n",
      "2023-06-22 14:11:29.415503: I tensorflow/core/common_runtime/executor.cc:1197] [/device:CPU:0] (DEBUG INFO) Executor start aborting (this does not indicate an error and you can ignore this message): INVALID_ARGUMENT: You must feed a value for placeholder tensor 'inputs' with dtype float and shape [?,?,?,112]\n",
      "\t [[{{node inputs}}]]\n",
      "2023-06-22 14:11:29.540732: I tensorflow/core/common_runtime/executor.cc:1197] [/device:CPU:0] (DEBUG INFO) Executor start aborting (this does not indicate an error and you can ignore this message): INVALID_ARGUMENT: You must feed a value for placeholder tensor 'inputs' with dtype float and shape [?,672]\n",
      "\t [[{{node inputs}}]]\n",
      "2023-06-22 14:11:29.623612: I tensorflow/core/common_runtime/executor.cc:1197] [/device:CPU:0] (DEBUG INFO) Executor start aborting (this does not indicate an error and you can ignore this message): INVALID_ARGUMENT: You must feed a value for placeholder tensor 'inputs' with dtype float and shape [?,?,?,112]\n",
      "\t [[{{node inputs}}]]\n",
      "2023-06-22 14:11:29.742704: I tensorflow/core/common_runtime/executor.cc:1197] [/device:CPU:0] (DEBUG INFO) Executor start aborting (this does not indicate an error and you can ignore this message): INVALID_ARGUMENT: You must feed a value for placeholder tensor 'inputs' with dtype float and shape [?,672]\n",
      "\t [[{{node inputs}}]]\n",
      "2023-06-22 14:11:29.905456: I tensorflow/core/common_runtime/executor.cc:1197] [/device:CPU:0] (DEBUG INFO) Executor start aborting (this does not indicate an error and you can ignore this message): INVALID_ARGUMENT: You must feed a value for placeholder tensor 'inputs' with dtype float and shape [?,1152]\n",
      "\t [[{{node inputs}}]]\n",
      "2023-06-22 14:11:29.986040: I tensorflow/core/common_runtime/executor.cc:1197] [/device:CPU:0] (DEBUG INFO) Executor start aborting (this does not indicate an error and you can ignore this message): INVALID_ARGUMENT: You must feed a value for placeholder tensor 'inputs' with dtype float and shape [?,?,?,192]\n",
      "\t [[{{node inputs}}]]\n",
      "2023-06-22 14:11:30.110893: I tensorflow/core/common_runtime/executor.cc:1197] [/device:CPU:0] (DEBUG INFO) Executor start aborting (this does not indicate an error and you can ignore this message): INVALID_ARGUMENT: You must feed a value for placeholder tensor 'inputs' with dtype float and shape [?,1152]\n",
      "\t [[{{node inputs}}]]\n",
      "2023-06-22 14:11:30.191632: I tensorflow/core/common_runtime/executor.cc:1197] [/device:CPU:0] (DEBUG INFO) Executor start aborting (this does not indicate an error and you can ignore this message): INVALID_ARGUMENT: You must feed a value for placeholder tensor 'inputs' with dtype float and shape [?,?,?,192]\n",
      "\t [[{{node inputs}}]]\n",
      "2023-06-22 14:11:30.304346: I tensorflow/core/common_runtime/executor.cc:1197] [/device:CPU:0] (DEBUG INFO) Executor start aborting (this does not indicate an error and you can ignore this message): INVALID_ARGUMENT: You must feed a value for placeholder tensor 'inputs' with dtype float and shape [?,1152]\n",
      "\t [[{{node inputs}}]]\n",
      "2023-06-22 14:11:30.373971: I tensorflow/core/common_runtime/executor.cc:1197] [/device:CPU:0] (DEBUG INFO) Executor start aborting (this does not indicate an error and you can ignore this message): INVALID_ARGUMENT: You must feed a value for placeholder tensor 'inputs' with dtype float and shape [?,?,?,192]\n",
      "\t [[{{node inputs}}]]\n",
      "2023-06-22 14:11:30.493751: I tensorflow/core/common_runtime/executor.cc:1197] [/device:CPU:0] (DEBUG INFO) Executor start aborting (this does not indicate an error and you can ignore this message): INVALID_ARGUMENT: You must feed a value for placeholder tensor 'inputs' with dtype float and shape [?,1152]\n",
      "\t [[{{node inputs}}]]\n",
      "2023-06-22 14:11:30.619342: I tensorflow/core/common_runtime/executor.cc:1197] [/device:CPU:0] (DEBUG INFO) Executor start aborting (this does not indicate an error and you can ignore this message): INVALID_ARGUMENT: You must feed a value for placeholder tensor 'inputs' with dtype float and shape [?,?,?,?]\n",
      "\t [[{{node inputs}}]]\n",
      "2023-06-22 14:11:30.723118: I tensorflow/core/common_runtime/executor.cc:1197] [/device:CPU:0] (DEBUG INFO) Executor start aborting (this does not indicate an error and you can ignore this message): INVALID_ARGUMENT: You must feed a value for placeholder tensor 'inputs' with dtype float and shape [?,?,?,?]\n",
      "\t [[{{node inputs}}]]\n",
      "2023-06-22 14:11:30.827055: I tensorflow/core/common_runtime/executor.cc:1197] [/device:CPU:0] (DEBUG INFO) Executor start aborting (this does not indicate an error and you can ignore this message): INVALID_ARGUMENT: You must feed a value for placeholder tensor 'inputs' with dtype float and shape [?,?,?,?]\n",
      "\t [[{{node inputs}}]]\n",
      "2023-06-22 14:11:30.935104: I tensorflow/core/common_runtime/executor.cc:1197] [/device:CPU:0] (DEBUG INFO) Executor start aborting (this does not indicate an error and you can ignore this message): INVALID_ARGUMENT: You must feed a value for placeholder tensor 'inputs' with dtype float and shape [?,?,?,?]\n",
      "\t [[{{node inputs}}]]\n",
      "2023-06-22 14:11:31.040587: I tensorflow/core/common_runtime/executor.cc:1197] [/device:CPU:0] (DEBUG INFO) Executor start aborting (this does not indicate an error and you can ignore this message): INVALID_ARGUMENT: You must feed a value for placeholder tensor 'inputs' with dtype float and shape [?,?,?,?]\n",
      "\t [[{{node inputs}}]]\n",
      "WARNING:absl:Found untraced functions such as _jit_compiled_convolution_op, _jit_compiled_convolution_op, _jit_compiled_convolution_op, _jit_compiled_convolution_op, _jit_compiled_convolution_op while saving (showing 5 of 93). These functions will not be directly callable after loading.\n"
     ]
    },
    {
     "name": "stdout",
     "output_type": "stream",
     "text": [
      "INFO:tensorflow:Assets written to: /Users/azanchetta/fAIr-utilities/ramp-data/sample_2/train/model-checkpts/20230622-141004/model_20230622-141004_001_0.879.tf/assets\n"
     ]
    },
    {
     "name": "stderr",
     "output_type": "stream",
     "text": [
      "INFO:tensorflow:Assets written to: /Users/azanchetta/fAIr-utilities/ramp-data/sample_2/train/model-checkpts/20230622-141004/model_20230622-141004_001_0.879.tf/assets\n",
      "2023-06-22 14:11:43.020981: I tensorflow/core/common_runtime/executor.cc:1197] [/device:CPU:0] (DEBUG INFO) Executor start aborting (this does not indicate an error and you can ignore this message): INVALID_ARGUMENT: You must feed a value for placeholder tensor 'Placeholder/_9' with dtype string and shape [22]\n",
      "\t [[{{node Placeholder/_9}}]]\n",
      "2023-06-22 14:11:43.021351: I tensorflow/core/common_runtime/executor.cc:1197] [/device:CPU:0] (DEBUG INFO) Executor start aborting (this does not indicate an error and you can ignore this message): INVALID_ARGUMENT: You must feed a value for placeholder tensor 'Placeholder/_9' with dtype string and shape [22]\n",
      "\t [[{{node Placeholder/_9}}]]\n"
     ]
    },
    {
     "name": "stdout",
     "output_type": "stream",
     "text": [
      "1/1 [==============================] - 1s 1s/step\n",
      "62/62 [==============================] - 92s 1s/step - loss: 0.7407 - sparse_categorical_accuracy: 0.8235 - val_loss: 0.3506 - val_sparse_categorical_accuracy: 0.8789\n",
      "Epoch 2/2\n",
      "62/62 [==============================] - ETA: 0s - loss: 0.3526 - sparse_categorical_accuracy: 0.8696"
     ]
    },
    {
     "name": "stderr",
     "output_type": "stream",
     "text": [
      "2023-06-22 14:12:36.857846: I tensorflow/core/common_runtime/executor.cc:1197] [/device:CPU:0] (DEBUG INFO) Executor start aborting (this does not indicate an error and you can ignore this message): INVALID_ARGUMENT: You must feed a value for placeholder tensor 'Placeholder/_0' with dtype string and shape [22]\n",
      "\t [[{{node Placeholder/_0}}]]\n",
      "2023-06-22 14:12:36.858209: I tensorflow/core/common_runtime/executor.cc:1197] [/device:CPU:0] (DEBUG INFO) Executor start aborting (this does not indicate an error and you can ignore this message): INVALID_ARGUMENT: You must feed a value for placeholder tensor 'Placeholder/_0' with dtype string and shape [22]\n",
      "\t [[{{node Placeholder/_0}}]]\n"
     ]
    },
    {
     "name": "stdout",
     "output_type": "stream",
     "text": [
      "1/1 [==============================] - 0s 151ms/step\n",
      "62/62 [==============================] - 52s 851ms/step - loss: 0.3526 - sparse_categorical_accuracy: 0.8696 - val_loss: 0.2945 - val_sparse_categorical_accuracy: 0.8758\n",
      "Training Finished , Time taken to train : 144.46094989199628 seconds\n",
      "Generating graphs ....\n",
      "Graph generated at : /Users/azanchetta/fAIr-utilities/ramp-data/sample_2/train/graphs\n",
      "extracting highest accuracy model\n",
      "/Users/azanchetta/fAIr-utilities/ramp-data/sample_2/train/model-checkpts/20230622-141004\n",
      "model_20230622-141004_001_0.879.tf\n"
     ]
    },
    {
     "data": {
      "image/png": "[encoded data removed]",
      "text/plain": [
       "<Figure size 640x480 with 1 Axes>"
      ]
     },
     "metadata": {},
     "output_type": "display_data"
    }
   ],
   "source": [
    "train_output = f\"{base_path}/train\"\n",
    "final_accuracy, final_model_path = train(\n",
    "    input_path=preprocess_output,\n",
    "    output_path=train_output,\n",
    "    epoch_size=2,\n",
    "    batch_size=2,\n",
    "    model=\"ramp\",\n",
    "    model_home=os.environ[\"RAMP_HOME\"],\n",
    ")"
   ]
  },
  {
   "cell_type": "code",
   "execution_count": 13,
   "metadata": {},
   "outputs": [
    {
     "name": "stdout",
     "output_type": "stream",
     "text": [
      "87.9 /Users/azanchetta/fAIr-utilities/ramp-data/sample_2/train/model-checkpts/20230622-141004/model_20230622-141004_001_0.879.tf\n"
     ]
    }
   ],
   "source": [
    "print(final_accuracy,final_model_path)"
   ]
  },
  {
   "cell_type": "code",
   "execution_count": 14,
   "metadata": {
    "colab": {
     "base_uri": "https://localhost:8080/"
    },
    "id": "w1PLe9S9BL8L",
    "outputId": "e4f3ce64-bbd6-4969-e49d-0f47dc9d6c0a"
   },
   "outputs": [
    {
     "name": "stdout",
     "output_type": "stream",
     "text": [
      "Using : /Users/azanchetta/fAIr-utilities/ramp-data/sample_2/train/model-checkpts/20230622-141004/model_20230622-141004_001_0.879.tf\n",
      "It took 9 sec to load model\n",
      "1/1 [==============================] - 1s 1s/step\n",
      "It took 1 sec to predict with 0.5 Confidence Threshold\n"
     ]
    },
    {
     "name": "stderr",
     "output_type": "stream",
     "text": [
      "Georeferencing for output: 100%|██████████| 2/2 [00:00<00:00, 10.03it/s]\n"
     ]
    },
    {
     "name": "stdout",
     "output_type": "stream",
     "text": [
      "It took 0 sec to georeference\n"
     ]
    }
   ],
   "source": [
    "from hot_fair_utilities import predict\n",
    "prediction_output = f\"{base_path}/prediction/output\"\n",
    "predict(\n",
    "    checkpoint_path=final_model_path,\n",
    "    input_path=f\"{base_path}/prediction/input\",\n",
    "    prediction_path=prediction_output,\n",
    ")"
   ]
  },
  {
   "cell_type": "code",
   "execution_count": 15,
   "metadata": {
    "colab": {
     "base_uri": "https://localhost:8080/"
    },
    "id": "ho4zn_5UBgS3",
    "outputId": "afdec49e-4172-45a6-e7b6-cd34522ca7a0"
   },
   "outputs": [
    {
     "name": "stderr",
     "output_type": "stream",
     "text": [
      "100%|██████████| 2/2 [00:00<00:00, 28.63mask/s]\n",
      "ERROR:fiona._env:PROJ: proj_create_from_database: /usr/local/anaconda3/envs/fairtest/share/proj/proj.db lacks DATABASE.LAYOUT.VERSION.MAJOR / DATABASE.LAYOUT.VERSION.MINOR metadata. It comes from another PROJ installation.\n",
      "Building graph: 100%|██████████| 93/93 [00:03<00:00, 23.37shapes/s]\n",
      "Merging components: 100%|██████████| 85/85 [00:06<00:00, 12.73component/s]\n"
     ]
    }
   ],
   "source": [
    "from hot_fair_utilities import polygonize\n",
    "geojson_output= f\"{prediction_output}/prediction.geojson\"\n",
    "polygonize(\n",
    "    input_path=prediction_output, \n",
    "    output_path=geojson_output,\n",
    "    remove_inputs = True,\n",
    ")"
   ]
  }
 ],
 "metadata": {
  "colab": {
   "provenance": []
  },
  "kernelspec": {
   "display_name": "Python 3",
   "language": "python",
   "name": "python3"
  },
  "language_info": {
   "codemirror_mode": {
    "name": "ipython",
    "version": 3
   },
   "file_extension": ".py",
   "mimetype": "text/x-python",
   "name": "python",
   "nbconvert_exporter": "python",
   "pygments_lexer": "ipython3",
   "version": "3.9.16"
  },
  "vscode": {
   "interpreter": {
    "hash": "5c7b89af1651d0b8571dde13640ecdccf7d5a6204171d6ab33e7c296e100e08a"
   }
  }
 },
 "nbformat": 4,
 "nbformat_minor": 4
}
