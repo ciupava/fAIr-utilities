{
 "cells": [
  {
   "cell_type": "code",
   "execution_count": 1,
   "metadata": {},
   "outputs": [
    {
     "data": {
      "text/plain": [
       "'/home/annazan/miniconda3/envs/fair38/lib/python3.8/site-packages/cv2/../../lib64::/home/annazan/miniconda3/envs/fair38/lib/'"
      ]
     },
     "execution_count": 1,
     "metadata": {},
     "output_type": "execute_result"
    }
   ],
   "source": [
    "import os\n",
    "os.getenv(\"LD_LIBRARY_PATH\")"
   ]
  },
  {
   "cell_type": "code",
   "execution_count": 2,
   "metadata": {},
   "outputs": [
    {
     "name": "stdout",
     "output_type": "stream",
     "text": [
      "/bin/bash: /home/annazan/miniconda3/envs/fair38/lib/libtinfo.so.6: no version information available (required by /bin/bash)\n",
      "/home/annazan/miniconda3/envs/fair38/lib/python3.8/site-packages/cv2/../../lib64::/home/annazan/miniconda3/envs/fair38/lib/\n",
      "/bin/bash: /home/annazan/miniconda3/envs/fair38/lib/libtinfo.so.6: no version information available (required by /bin/bash)\n",
      "/bin/bash: /home/annazan/miniconda3/envs/fair38/lib/libtinfo.so.6: no version information available (required by /bin/bash)\n",
      "/home/annazan/miniconda3/envs/fair38/lib/python3.8/site-packages/cv2/../../lib64::/home/annazan/miniconda3/envs/fair38/lib/\n"
     ]
    }
   ],
   "source": [
    "!echo $LD_LIBRARY_PATH\n",
    "!source ~/.bashrc\n",
    "!echo $LD_LIBRARY_PATH\n"
   ]
  },
  {
   "cell_type": "code",
   "execution_count": 3,
   "metadata": {},
   "outputs": [
    {
     "name": "stdout",
     "output_type": "stream",
     "text": [
      "Num GPUs Available:  1\n"
     ]
    }
   ],
   "source": [
    "\n",
    "import tensorflow as tf\n",
    "print(\"Num GPUs Available: \", len(tf.config.experimental.list_physical_devices('GPU')))"
   ]
  },
  {
   "cell_type": "code",
   "execution_count": 4,
   "metadata": {
    "colab": {
     "base_uri": "https://localhost:8080/"
    },
    "id": "WI8nslrSgROI",
    "outputId": "2cbad97c-765f-4d2b-87df-773447500332"
   },
   "outputs": [
    {
     "name": "stdout",
     "output_type": "stream",
     "text": [
      "/home/annazan/fAIr-utilities\n",
      "/home/annazan/fAIr-utilities\n"
     ]
    }
   ],
   "source": [
    "import os\n",
    "import sys\n",
    "print(os.getcwd())\n",
    "os.environ.update(os.environ)\n",
    "        # Add a new environment variable to the operating system\n",
    "os.environ[\"RAMP_HOME\"] = os.getcwd()\n",
    "# Print the environment variables to verify that the new variable was added\n",
    "print(os.environ[\"RAMP_HOME\"])\n",
    "sys.path.append('../')\n",
    "sys.path.append('../ramp-code/')\n",
    "sys.path.append('ramp-code')\n"
   ]
  },
  {
   "cell_type": "code",
   "execution_count": 5,
   "metadata": {},
   "outputs": [],
   "source": [
    "import cv2"
   ]
  },
  {
   "cell_type": "code",
   "execution_count": 6,
   "metadata": {},
   "outputs": [],
   "source": [
    "os.environ[\"SM_FRAMEWORK\"] = \"tf.keras\"\n",
    "import ramp.utils\n",
    "import hot_fair_utilities\n",
    "# base_path = f\"{os.getcwd()}/ramp-data/sample_2\"\n",
    "# base_path = \"/home/annazan/fAIr-utilities/ramp-data/test_data/1_Zanzibar\"\n",
    "# base_path = f\"{os.getcwd()}/ramp-data/test_data/1_Zanzibar\"\n",
    "base_path = f'{os.getcwd()}/ramp-data/metric_data/model51_td364/'"
   ]
  },
  {
   "cell_type": "code",
   "execution_count": null,
   "metadata": {},
   "outputs": [],
   "source": [
    "# from hot_fair_utilities import preprocess\n",
    "# model_input_image_path = f\"{base_path}/input\"\n",
    "# preprocess_output=f\"{base_path}/preprocessed\"\n",
    "# preprocess(\n",
    "#             input_path = model_input_image_path,\n",
    "#             output_path = preprocess_output,\n",
    "#             rasterize=True,\n",
    "#             rasterize_options=[\"binary\"],\n",
    "#             georeference_images=True,\n",
    "#         )"
   ]
  },
  {
   "cell_type": "code",
   "execution_count": 8,
   "metadata": {},
   "outputs": [],
   "source": [
    "from hot_fair_utilities import train"
   ]
  },
  {
   "cell_type": "code",
   "execution_count": 9,
   "metadata": {},
   "outputs": [],
   "source": [
    "preprocess_output=f\"{base_path}\""
   ]
  },
  {
   "cell_type": "code",
   "execution_count": 10,
   "metadata": {},
   "outputs": [
    {
     "name": "stdout",
     "output_type": "stream",
     "text": [
      "variables are /home/annazan/fAIr-utilities/ramp-data/metric_data/model51_td364/\n",
      " and /home/annazan/fAIr-utilities/ramp-data/metric_data/model51_td364/train\n",
      "Starting to prepare data for training\n",
      "ramp home is /home/annazan/fAIr-utilities\n",
      "python home is None\n",
      "variables are: src /home/annazan/fAIr-utilities/ramp-data/metric_data/model51_td364/\n",
      " and dst:/home/annazan/fAIr-utilities/ramp-data/metric_data/model51_td364/train\n"
     ]
    },
    {
     "name": "stderr",
     "output_type": "stream",
     "text": [
      "Writing /home/annazan/fAIr-utilities/ramp-data/metric_data/model51_td364/train/fair_split_train.csv\n",
      "Writing /home/annazan/fAIr-utilities/ramp-data/metric_data/model51_td364/train/fair_split_val.csv\n"
     ]
    },
    {
     "name": "stdout",
     "output_type": "stream",
     "text": [
      "done split\n",
      "Data is ready for training\n",
      "Metric constructor function: get_sparse_categorical_accuracy_fn\n",
      "Model: importing saved model /home/annazan/fAIr-utilities/ramp-code/ramp/checkpoint.tf\n",
      "<keras.engine.functional.Functional object at 0x7f61d44badf0>\n",
      "Starting Training with 2 epochs , 2 batch size , 170 steps per epoch , 29 validation steps......\n",
      "Epoch 1/2\n"
     ]
    },
    {
     "name": "stderr",
     "output_type": "stream",
     "text": [
      "/home/annazan/miniconda3/envs/fair38/lib/python3.8/site-packages/osgeo/gdal.py:287: FutureWarning: Neither gdal.UseExceptions() nor gdal.DontUseExceptions() has been explicitly called. In GDAL 4.0, exceptions will be enabled by default.\n",
      "  warnings.warn(\n"
     ]
    },
    {
     "name": "stdout",
     "output_type": "stream",
     "text": [
      "170/170 [==============================] - ETA: 0s - loss: 0.2219 - sparse_categorical_accuracy: 0.9390"
     ]
    },
    {
     "name": "stderr",
     "output_type": "stream",
     "text": [
      "WARNING:absl:Found untraced functions such as _jit_compiled_convolution_op, _jit_compiled_convolution_op, _jit_compiled_convolution_op, _jit_compiled_convolution_op, _jit_compiled_convolution_op while saving (showing 5 of 92). These functions will not be directly callable after loading.\n"
     ]
    },
    {
     "name": "stdout",
     "output_type": "stream",
     "text": [
      "INFO:tensorflow:Assets written to: /home/annazan/fAIr-utilities/ramp-data/metric_data/model51_td364/train/model-checkpts/20240207-133214/model_20240207-133214_001_0.956.tf/assets\n"
     ]
    },
    {
     "name": "stderr",
     "output_type": "stream",
     "text": [
      "INFO:tensorflow:Assets written to: /home/annazan/fAIr-utilities/ramp-data/metric_data/model51_td364/train/model-checkpts/20240207-133214/model_20240207-133214_001_0.956.tf/assets\n"
     ]
    },
    {
     "name": "stdout",
     "output_type": "stream",
     "text": [
      "1/1 [==============================] - 1s 1s/step\n",
      "170/170 [==============================] - 48s 218ms/step - loss: 0.2219 - sparse_categorical_accuracy: 0.9390 - val_loss: 0.1289 - val_sparse_categorical_accuracy: 0.9558\n",
      "Epoch 2/2\n",
      "1/1 [==============================] - 0s 28ms/step- loss: 0.1247 - sparse_categorical_accuracy: 0.95\n",
      "170/170 [==============================] - 13s 78ms/step - loss: 0.1247 - sparse_categorical_accuracy: 0.9596 - val_loss: 0.1574 - val_sparse_categorical_accuracy: 0.9390\n",
      "Training Finished , Time taken to train : 61.40026348099855 seconds\n",
      "Generating graphs ....\n",
      "Graph generated at : /home/annazan/fAIr-utilities/ramp-data/metric_data/model51_td364/train/graphs\n",
      "accuracy [0.9389743804931641, 0.9595688581466675]\n",
      "accuracy [0.9557610750198364, 0.9390100836753845]\n",
      "loss [0.22193367779254913, 0.12470809370279312]\n",
      "extracting highest accuracy model\n",
      "/home/annazan/fAIr-utilities/ramp-data/metric_data/model51_td364/train/model-checkpts/20240207-133214\n",
      "model_20240207-133214_001_0.956.tf\n"
     ]
    },
    {
     "data": {
      "image/png": "[encoded data removed]",
      "text/plain": [
       "<Figure size 640x480 with 1 Axes>"
      ]
     },
     "metadata": {},
     "output_type": "display_data"
    }
   ],
   "source": [
    "train_output = f\"{base_path}train\"\n",
    "final_accuracy, final_model_path = train(\n",
    "    input_path=preprocess_output,\n",
    "    output_path=train_output,\n",
    "    epoch_size=2,\n",
    "    batch_size=2,\n",
    "    model=\"ramp\",\n",
    "    model_home=os.environ[\"RAMP_HOME\"]\n",
    ")"
   ]
  },
  {
   "cell_type": "markdown",
   "metadata": {},
   "source": [
    "[here a tf file is created (weights + structure)]"
   ]
  },
  {
   "cell_type": "code",
   "execution_count": 11,
   "metadata": {},
   "outputs": [
    {
     "name": "stdout",
     "output_type": "stream",
     "text": [
      "95.6 /home/annazan/fAIr-utilities/ramp-data/metric_data/model51_td364/train/model-checkpts/20240207-133214/model_20240207-133214_001_0.956.tf\n"
     ]
    }
   ],
   "source": [
    "print(final_accuracy,final_model_path)"
   ]
  },
  {
   "cell_type": "code",
   "execution_count": 14,
   "metadata": {},
   "outputs": [],
   "source": [
    "prediction_output = f\"{os.getcwd()}/outputs/model51_td364/prediction\""
   ]
  },
  {
   "cell_type": "code",
   "execution_count": 15,
   "metadata": {
    "colab": {
     "base_uri": "https://localhost:8080/"
    },
    "id": "w1PLe9S9BL8L",
    "outputId": "e4f3ce64-bbd6-4969-e49d-0f47dc9d6c0a"
   },
   "outputs": [
    {
     "name": "stdout",
     "output_type": "stream",
     "text": [
      "\n",
      "**\n",
      "** prediction output /home/annazan/fAIr-utilities/outputs/model51_td364/prediction\n",
      "\n",
      "**\n",
      "** prediction input /home/annazan/fAIr-utilities/ramp-data/metric_data/model51_td364/prediction/input\n",
      "Using: /home/annazan/fAIr-utilities/ramp-data/metric_data/model51_td364/train/model-checkpts/20240207-133214/model_20240207-133214_001_0.956.tf\n",
      "It took 9 sec to load model\n",
      "prediction path /home/annazan/fAIr-utilities/outputs/model51_td364/prediction\n",
      "image path['/home/annazan/fAIr-utilities/ramp-data/metric_data/model51_td364/prediction/input/OAM-312862-256651-19.tif', '/home/annazan/fAIr-utilities/ramp-data/metric_data/model51_td364/prediction/input/OAM-312862-256652-19.tif', '/home/annazan/fAIr-utilities/ramp-data/metric_data/model51_td364/prediction/input/OAM-312862-256653-19.tif']\n",
      "image batch ['/home/annazan/fAIr-utilities/ramp-data/metric_data/model51_td364/prediction/input/OAM-312862-256651-19.tif', '/home/annazan/fAIr-utilities/ramp-data/metric_data/model51_td364/prediction/input/OAM-312862-256652-19.tif', '/home/annazan/fAIr-utilities/ramp-data/metric_data/model51_td364/prediction/input/OAM-312862-256653-19.tif']\n",
      "1/1 [==============================] - 1s 1s/step\n",
      "It took 1 sec to predict with 0.5 Confidence Threshold\n"
     ]
    },
    {
     "name": "stderr",
     "output_type": "stream",
     "text": [
      "Georeferencing for prediction: 100%|██████████| 3/3 [00:00<00:00, 106.17it/s]"
     ]
    },
    {
     "name": "stdout",
     "output_type": "stream",
     "text": [
      "It took 0 sec to georeference\n"
     ]
    },
    {
     "name": "stderr",
     "output_type": "stream",
     "text": [
      "\n"
     ]
    }
   ],
   "source": [
    "\n",
    "\n",
    "from hot_fair_utilities import predict\n",
    "\n",
    "\n",
    "print(f\"\\n**\\n** prediction output {prediction_output}\")\n",
    "print(f\"\\n**\\n** prediction input {base_path}prediction/input\")\n",
    "predict(\n",
    "    checkpoint_path=final_model_path,\n",
    "    input_path=f\"{base_path}prediction/input\",\n",
    "    prediction_path=prediction_output,\n",
    ")"
   ]
  },
  {
   "cell_type": "code",
   "execution_count": 16,
   "metadata": {
    "colab": {
     "base_uri": "https://localhost:8080/"
    },
    "id": "ho4zn_5UBgS3",
    "outputId": "afdec49e-4172-45a6-e7b6-cd34522ca7a0"
   },
   "outputs": [
    {
     "name": "stderr",
     "output_type": "stream",
     "text": [
      "100%|██████████| 3/3 [00:00<00:00, 36.67mask/s]\n",
      "/home/annazan/miniconda3/envs/fair38/lib/python3.8/site-packages/geopandas/io/file.py:362: FutureWarning: pandas.Int64Index is deprecated and will be removed from pandas in a future version. Use pandas.Index with the appropriate dtype instead.\n",
      "  pd.Int64Index,\n",
      "Building graph: 100%|██████████| 95/95 [00:06<00:00, 14.96shapes/s]\n",
      "Merging components: 100%|██████████| 94/94 [00:12<00:00,  7.65component/s]\n",
      "/home/annazan/miniconda3/envs/fair38/lib/python3.8/site-packages/geopandas/io/file.py:362: FutureWarning: pandas.Int64Index is deprecated and will be removed from pandas in a future version. Use pandas.Index with the appropriate dtype instead.\n",
      "  pd.Int64Index,\n"
     ]
    }
   ],
   "source": [
    "from hot_fair_utilities import polygonize\n",
    "geojson_output= f\"{prediction_output}/prediction.geojson\"\n",
    "polygonize(\n",
    "    input_path=prediction_output, \n",
    "    output_path=geojson_output,\n",
    "    remove_inputs = True,\n",
    ")"
   ]
  }
 ],
 "metadata": {
  "colab": {
   "provenance": []
  },
  "kernelspec": {
   "display_name": "fairgpu",
   "language": "python",
   "name": "python3"
  },
  "language_info": {
   "codemirror_mode": {
    "name": "ipython",
    "version": 3
   },
   "file_extension": ".py",
   "mimetype": "text/x-python",
   "name": "python",
   "nbconvert_exporter": "python",
   "pygments_lexer": "ipython3",
   "version": "3.8.18"
  }
 },
 "nbformat": 4,
 "nbformat_minor": 4
}
