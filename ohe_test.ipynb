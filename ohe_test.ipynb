{
 "cells": [
  {
   "cell_type": "markdown",
   "metadata": {},
   "source": [
    "Building from `sam_test.ipynb`"
   ]
  },
  {
   "cell_type": "code",
   "execution_count": 77,
   "metadata": {},
   "outputs": [
    {
     "data": {
      "text/plain": [
       "'/home/annazan/miniconda3/envs/fair38/lib/python3.8/site-packages/cv2/../../lib64::/home/annazan/miniconda3/envs/fair38/lib/'"
      ]
     },
     "execution_count": 77,
     "metadata": {},
     "output_type": "execute_result"
    }
   ],
   "source": [
    "import os\n",
    "os.getenv(\"LD_LIBRARY_PATH\")"
   ]
  },
  {
   "cell_type": "code",
   "execution_count": 78,
   "metadata": {},
   "outputs": [
    {
     "name": "stdout",
     "output_type": "stream",
     "text": [
      "/bin/bash: /home/annazan/miniconda3/envs/fair38/lib/libtinfo.so.6: no version information available (required by /bin/bash)\n",
      "/home/annazan/miniconda3/envs/fair38/lib/python3.8/site-packages/cv2/../../lib64::/home/annazan/miniconda3/envs/fair38/lib/\n",
      "/bin/bash: /home/annazan/miniconda3/envs/fair38/lib/libtinfo.so.6: no version information available (required by /bin/bash)\n",
      "/bin/bash: /home/annazan/miniconda3/envs/fair38/lib/libtinfo.so.6: no version information available (required by /bin/bash)\n",
      "/home/annazan/miniconda3/envs/fair38/lib/python3.8/site-packages/cv2/../../lib64::/home/annazan/miniconda3/envs/fair38/lib/\n"
     ]
    }
   ],
   "source": [
    "!echo $LD_LIBRARY_PATH\n",
    "!source ~/.bashrc\n",
    "!echo $LD_LIBRARY_PATH\n"
   ]
  },
  {
   "cell_type": "code",
   "execution_count": 79,
   "metadata": {},
   "outputs": [
    {
     "name": "stdout",
     "output_type": "stream",
     "text": [
      "Num GPUs Available:  1\n"
     ]
    }
   ],
   "source": [
    "\n",
    "import tensorflow as tf\n",
    "print(\"Num GPUs Available: \", len(tf.config.experimental.list_physical_devices('GPU')))"
   ]
  },
  {
   "cell_type": "code",
   "execution_count": 80,
   "metadata": {
    "colab": {
     "base_uri": "https://localhost:8080/"
    },
    "id": "WI8nslrSgROI",
    "outputId": "2cbad97c-765f-4d2b-87df-773447500332"
   },
   "outputs": [
    {
     "name": "stdout",
     "output_type": "stream",
     "text": [
      "/home/annazan/fAIr-utilities\n",
      "/home/annazan/fAIr-utilities\n"
     ]
    }
   ],
   "source": [
    "import os\n",
    "import sys\n",
    "print(os.getcwd())\n",
    "os.environ.update(os.environ)\n",
    "        # Add a new environment variable to the operating system\n",
    "os.environ[\"RAMP_HOME\"] = os.getcwd()\n",
    "# Print the environment variables to verify that the new variable was added\n",
    "print(os.environ[\"RAMP_HOME\"])\n",
    "sys.path.append('../')\n",
    "sys.path.append('../ramp-code/')\n",
    "sys.path.append('ramp-code')\n"
   ]
  },
  {
   "cell_type": "code",
   "execution_count": 84,
   "metadata": {},
   "outputs": [],
   "source": [
    "import warnings\n",
    "warnings.filterwarnings(\"ignore\")\n",
    "os.environ[\"SM_FRAMEWORK\"] = \"tf.keras\"\n",
    "import cv2\n",
    "import ramp.utils\n",
    "import hot_fair_utilities\n",
    "\n",
    "# base_path = f\"{os.getcwd()}/ramp-data/sample_2\"\n",
    "# base_path = \"/home/annazan/fAIr-utilities/ramp-data/test_data/1_Zanzibar\"\n",
    "# base_path = f\"{os.getcwd()}/ramp-data/test_data/1_Zanzibar\"\n",
    "base_path = f'{os.getcwd()}/ramp-data/test_data/model95_td370'\n",
    "model_input_image_path = f\"{base_path}/input\"\n",
    "# preprocess_output=f\"{base_path}/preprocessed\"\n",
    "preprocess_output=f\"{base_path}\"\n",
    "train_output = f\"{base_path}/train\""
   ]
  },
  {
   "cell_type": "code",
   "execution_count": 83,
   "metadata": {},
   "outputs": [
    {
     "data": {
      "text/plain": [
       "'/home/annazan/fAIr-utilities/ramp-data/test_data/model95_td370'"
      ]
     },
     "execution_count": 83,
     "metadata": {},
     "output_type": "execute_result"
    }
   ],
   "source": [
    "train_output\n",
    "# preprocess_output\n",
    "# model_input_image_path\n",
    "# base_path"
   ]
  },
  {
   "cell_type": "code",
   "execution_count": 6,
   "metadata": {},
   "outputs": [],
   "source": [
    "# from hot_fair_utilities import preprocess\n",
    "\n",
    "# preprocess(\n",
    "#     input_path = model_input_image_path,\n",
    "#     output_path = preprocess_output,\n",
    "#     rasterize=True,\n",
    "#     # rasterize_options=[\"binary\"],\n",
    "#     rasterize_options=[\"binary\"],\n",
    "#     georeference_images=True,\n",
    "\n",
    "# )"
   ]
  },
  {
   "cell_type": "code",
   "execution_count": 7,
   "metadata": {},
   "outputs": [],
   "source": [
    "# # Make multimask path\n",
    "# !mkdir ramp-data/test_data/1_Zanzibar/preprocessed/multimasks/\n",
    "# # Run script for multi-mask: https://github.com/kshitijrajsharma/ramp-code-fAIr/blob/ae33b11364f0a61f278ce9ff93446586704ea275/scripts/multi_masks_from_polygons.py\n",
    "# !python ramp-code/scripts/multi_masks_from_polygons.py -in_vecs ramp-data/test_data/1_Zanzibar/preprocessed/labels/ -in_chips ramp-data/test_data/1_Zanzibar/preprocessed/chips/ -out ramp-data/test_data/1_Zanzibar/preprocessed/multimasks/ -bwidth 2 -csp 4"
   ]
  },
  {
   "cell_type": "code",
   "execution_count": 8,
   "metadata": {},
   "outputs": [
    {
     "name": "stdout",
     "output_type": "stream",
     "text": [
      "ramp home is /home/annazan/fAIr-utilities\n",
      "python home is None\n",
      "variables are: src /home/annazan/fAIr-utilities/ramp-data/test_data/model95_td370/\n",
      " and dst:/home/annazan/fAIr-utilities/ramp-data/test_data/model95_td370//train\n"
     ]
    },
    {
     "name": "stderr",
     "output_type": "stream",
     "text": [
      "Writing /home/annazan/fAIr-utilities/ramp-data/test_data/model95_td370//train/fair_split_train.csv\n",
      "Writing /home/annazan/fAIr-utilities/ramp-data/test_data/model95_td370//train/fair_split_val.csv\n"
     ]
    }
   ],
   "source": [
    "preprocess_output=f\"{base_path}\"\n",
    "\n",
    "from hot_fair_utilities.training.prepare_data import split_training_2_validation\n",
    "x = split_training_2_validation(preprocess_output, train_output)"
   ]
  },
  {
   "cell_type": "code",
   "execution_count": 9,
   "metadata": {},
   "outputs": [],
   "source": [
    "import datetime\n",
    "from ramp.training import (\n",
    "    callback_constructors,\n",
    "    loss_constructors,\n",
    "    metric_constructors,\n",
    "    model_constructors,\n",
    "    optimizer_constructors,\n",
    ")"
   ]
  },
  {
   "cell_type": "code",
   "execution_count": 10,
   "metadata": {},
   "outputs": [],
   "source": [
    "from hot_fair_utilities.training.run_training import manage_fine_tuning_config\n",
    "\n",
    "output_path=train_output\n",
    "epoch_size=2\n",
    "batch_size=2\n",
    "freeze_layers=False\n",
    "cfg = manage_fine_tuning_config(\n",
    "            output_path, epoch_size, batch_size, freeze_layers\n",
    "        )"
   ]
  },
  {
   "cell_type": "code",
   "execution_count": 11,
   "metadata": {},
   "outputs": [
    {
     "name": "stdout",
     "output_type": "stream",
     "text": [
      "Config:\n",
      "{'experiment_name': 'HOT-OSM Efficient-Unet Finetune model_set1_batch20_epoch20_imgAug', 'discard_experiment': False, 'logging': {'log_experiment': True, 'experiment_log_path': 'ramp-data/TRAIN/fAIr-experiments.csv', 'experiment_notes': 'Binary Mask model, batchsize 20, 20 epochs on HOT-OSM dataset 1 Multizoom, finetuning from RAMP saved model', 'fields_to_log': ['experiment_name', 'experiment_notes', 'timestamp', 'num_epochs', 'batch_size', 'output_img_shape', 'input_img_shape', 'get_loss_fn_name', 'use_saved_model', 'use_aug', 'use_early_stopping', 'use_clr', 'random_seed', 'num_classes', 'get_optimizer_fn_name', 'tb_logs_dir', 'get_model_fn_name', 'backbone', 'train_img_dir', 'train_mask_dir', 'val_img_dir', 'val_mask_dir']}, 'datasets': {'train_img_dir': '/home/annazan/fAIr-utilities/ramp-data/test_data/model95_td370//train/chips', 'train_mask_dir': '/home/annazan/fAIr-utilities/ramp-data/test_data/model95_td370//train/binarymasks', 'val_img_dir': '/home/annazan/fAIr-utilities/ramp-data/test_data/model95_td370//train/val-chips', 'val_mask_dir': '/home/annazan/fAIr-utilities/ramp-data/test_data/model95_td370//train/val-binarymasks'}, 'num_classes': 2, 'num_epochs': 2, 'batch_size': 2, 'input_img_shape': [256, 256], 'output_img_shape': [256, 256], 'loss': {'get_loss_fn_name': 'get_sparse_categorical_crossentropy_fn', 'loss_fn_parms': {}}, 'metrics': {'use_metrics': True, 'get_metrics_fn_names': ['get_recall_fn'], 'metrics_fn_parms': [{}]}, 'optimizer': {'get_optimizer_fn_name': 'get_adam_optimizer', 'optimizer_fn_parms': {'learning_rate': 0.0003}}, 'model': {'get_model_fn_name': 'get_effunet_model', 'model_fn_parms': {'backbone': 'efficientnetb0', 'classes': ['background', 'buildings']}}, 'saved_model': {'use_saved_model': True, 'saved_model_path': 'ramp-code/ramp/checkpoint.tf', 'save_optimizer_state': False}, 'augmentation': {'use_aug': True, 'get_augmentation_fn_name': 'get_augmentation_fn', 'aug_list': ['Rotate', 'ColorJitter'], 'aug_parms': [{'border_mode': 'BORDER_CONSTANT', 'interpolation': 'INTER_NEAREST', 'value': [0.0, 0.0, 0.0], 'mask_value': 0, 'p': 0.7}, {'p': 0.7}]}, 'early_stopping': {'use_early_stopping': True, 'early_stopping_parms': {'monitor': 'val_loss', 'min_delta': 0.005, 'patience': 50, 'verbose': 0, 'mode': 'auto', 'restore_best_weights': False}}, 'cyclic_learning_scheduler': {'use_clr': False, 'get_clr_callback_fn_name': 'get_clr_callback_fn', 'clr_callback_parms': {'mode': 'triangular2', 'stepsize': 8, 'max_lr': 0.0001, 'base_lr': 3.25e-06}, 'clr_plot_dir': '/home/annazan/fAIr-utilities/ramp-data/test_data/model95_td370//train/plots'}, 'tensorboard': {'use_tb': True, 'tb_logs_dir': '/home/annazan/fAIr-utilities/ramp-data/test_data/model95_td370//train/logs', 'get_tb_callback_fn_name': 'get_tb_callback_fn', 'tb_callback_parms': {'histogram_freq': 1, 'update_freq': 'batch'}}, 'prediction_logging': {'use_prediction_logging': True, 'get_prediction_logging_fn_name': 'get_pred_logging_callback_fn'}, 'model_checkpts': {'use_model_checkpts': True, 'model_checkpts_dir': '/home/annazan/fAIr-utilities/ramp-data/test_data/model95_td370//train/model-checkpts', 'get_model_checkpt_callback_fn_name': 'get_model_checkpt_callback_fn', 'model_checkpt_callback_parms': {'mode': 'max', 'save_best_only': True}}, 'feedback': {'freeze_layers': False}, 'random_seed': 20220523, 'freeze_layers': False, 'graph_location': '/home/annazan/fAIr-utilities/ramp-data/test_data/model95_td370//train/graphs'}\n"
     ]
    }
   ],
   "source": [
    "print(\"Config:\")\n",
    "print(cfg)"
   ]
  },
  {
   "cell_type": "code",
   "execution_count": 12,
   "metadata": {},
   "outputs": [],
   "source": [
    "discard_experiment = False\n",
    "if \"discard_experiment\" in cfg:\n",
    "    discard_experiment = cfg[\"discard_experiment\"]\n",
    "cfg[\"timestamp\"] = datetime.datetime.now().strftime(\"%Y%m%d-%H%M%S\")"
   ]
  },
  {
   "cell_type": "code",
   "execution_count": 13,
   "metadata": {},
   "outputs": [
    {
     "name": "stdout",
     "output_type": "stream",
     "text": [
      "Metric constructor function: get_precision_fn\n",
      "Metric constructor function: get_iou_fn\n",
      "Metric constructor function: get_recall_fn\n",
      "Loss constructor functions: get_categorical_crossentropy_fn\n"
     ]
    }
   ],
   "source": [
    "\n",
    "the_metrics = []\n",
    "if cfg[\"metrics\"][\"use_metrics\"]:\n",
    "    get_metrics_fn_names = cfg[\"metrics\"][\"get_metrics_fn_names\"]\n",
    "    get_metrics_fn_parms = cfg[\"metrics\"][\"metrics_fn_parms\"]\n",
    "    assert len(get_metrics_fn_names) == len(get_metrics_fn_parms)\n",
    "    \n",
    "    \n",
    "    #---\n",
    "    # TODO: manually changing here for OHE experiment\n",
    "    # get_metrics_fn_names = [\"get_precision_fn\", \"get_iou_fn\"]\n",
    "    # get_metrics_fn_names = [\"get_sparse_categorical_accuracy_fn\", \"get_precision_fn\", \"get_iou_fn\", \"get_recall_fn\"]\n",
    "    # get_metrics_fn_parms = [{}, {}, {}, {}]\n",
    "    # get_metrics_fn_names = [\"get_precision_fn\", \"get_recall_fn\"]\n",
    "    get_metrics_fn_names = [ \"get_precision_fn\", \"get_iou_fn\", \"get_recall_fn\"]\n",
    "    get_metrics_fn_parms = [{}, {}, {}]\n",
    "    #---\n",
    "    for get_mf_name, mf_parms in zip(get_metrics_fn_names, get_metrics_fn_parms):\n",
    "        \n",
    "        get_metric_fn = getattr(metric_constructors, get_mf_name)\n",
    "        print(f\"Metric constructor function: {get_metric_fn.__name__}\")\n",
    "        metric_fn = get_metric_fn(mf_parms)\n",
    "        the_metrics.append(metric_fn)\n",
    "\n",
    "# specify a function that will construct the loss function\n",
    "get_loss_fn_name = cfg[\"loss\"][\"get_loss_fn_name\"]\n",
    "\n",
    "#---\n",
    "# TODO: manually changing here for OHE experiment\n",
    "# get_loss_fn_name = [\"get_sparse_categorical_crossentropy_fn\", \"get_categorical_crossentropy_fn\"]\n",
    "# get_loss_fn_parms = [{}, {}]\n",
    "get_loss_fn_name = [\"get_categorical_crossentropy_fn\"]\n",
    "get_loss_fn_parms = [{}]\n",
    "# ---\n",
    "\n",
    "# get_loss_fn = getattr(loss_constructors, get_loss_fn_name)\n",
    "# # Construct the loss function\n",
    "# loss_fn = get_loss_fn(cfg)\n",
    "\n",
    "# print(f\"Loss constructor function: {get_loss_fn.__name__}\")\n",
    "\n",
    "the_losses = []\n",
    "for get_lf_name, lf_parms in zip(get_loss_fn_name, get_loss_fn_parms):\n",
    "    \n",
    "    get_loss_fn = getattr(loss_constructors, get_lf_name)\n",
    "    print(f\"Loss constructor functions: {get_loss_fn.__name__}\")\n",
    "    loss_fn = get_loss_fn(lf_parms)\n",
    "    the_losses.append(loss_fn)"
   ]
  },
  {
   "cell_type": "code",
   "execution_count": 14,
   "metadata": {},
   "outputs": [
    {
     "name": "stdout",
     "output_type": "stream",
     "text": [
      "Model: importing saved model /home/annazan/fAIr-utilities/ramp-code/ramp/checkpoint.tf\n",
      "-------\n",
      "-------[<keras.metrics.metrics.Precision object at 0x7f85c464a580>, <keras.metrics.metrics.IoU object at 0x7f85c464a970>, <keras.metrics.metrics.Recall object at 0x7f85c464a490>]\n",
      "-------\n"
     ]
    }
   ],
   "source": [
    "from pathlib import Path\n",
    "\n",
    "#### construct optimizer ####\n",
    "get_optimizer_fn_name = cfg[\"optimizer\"][\"get_optimizer_fn_name\"]\n",
    "get_optimizer_fn = getattr(optimizer_constructors, get_optimizer_fn_name)\n",
    "\n",
    "optimizer = get_optimizer_fn(cfg)\n",
    "\n",
    "the_model = None\n",
    "\n",
    "# SG: Using the saved model in this cell\n",
    "working_ramp_home = os.environ[\"RAMP_HOME\"]\n",
    "# load (construct) the model\n",
    "model_path = Path(working_ramp_home) / cfg[\"saved_model\"][\"saved_model_path\"]\n",
    "print(f\"Model: importing saved model {str(model_path)}\")\n",
    "the_model = tf.keras.models.load_model(model_path)\n",
    "assert (\n",
    "    the_model is not None\n",
    "), f\"the saved model was not constructed: {model_path}\"\n",
    "\n",
    "if cfg[\"freeze_layers\"]:\n",
    "    for layer in the_model.layers:\n",
    "        layer.trainable = False  # freeze previous layers only update new layers\n",
    "        # print(\"Setting previous model layers traininable : False\")\n",
    "\n",
    "\n",
    "print(\"-------\")\n",
    "print(f'-------{the_metrics}')\n",
    "print(\"-------\")\n",
    "\n",
    "# If you don't want to save the original state of training, recompile the model.\n",
    "the_model.compile(optimizer=optimizer, loss=loss_fn, metrics=[the_metrics])\n",
    "# the_model.compile(optimizer=optimizer, loss=loss_fn, metrics=[precision_class_0,precision_class_1])\n",
    "\n",
    "# the_model.compile(optimizer = optimizer,\n",
    "#    loss=loss_fn,\n",
    "#    metrics = [get_iou_coef_fn])"
   ]
  },
  {
   "cell_type": "code",
   "execution_count": 15,
   "metadata": {},
   "outputs": [
    {
     "data": {
      "text/plain": [
       "<tf.Tensor: shape=(), dtype=float32, numpy=1.609438>"
      ]
     },
     "execution_count": 15,
     "metadata": {},
     "output_type": "execute_result"
    }
   ],
   "source": [
    "# Example of non-sparse loss fn with probs over labels and OHE labels (total 4 classes)\n",
    "y_true = tf.one_hot([0, 1], depth=4, axis=-1)\n",
    "y_pred = [[0.05, 0.95, 0, 0], [0.1, 0.8, 0.1, 0]]\n",
    "loss_fn(y_true, y_pred)"
   ]
  },
  {
   "cell_type": "code",
   "execution_count": 16,
   "metadata": {},
   "outputs": [
    {
     "data": {
      "text/plain": [
       "<tf.Tensor: shape=(2, 4), dtype=float32, numpy=\n",
       "array([[1., 0., 0., 0.],\n",
       "       [0., 1., 0., 0.]], dtype=float32)>"
      ]
     },
     "execution_count": 16,
     "metadata": {},
     "output_type": "execute_result"
    }
   ],
   "source": [
    "y_true"
   ]
  },
  {
   "cell_type": "code",
   "execution_count": 17,
   "metadata": {},
   "outputs": [
    {
     "data": {
      "text/plain": [
       "[[0.05, 0.95, 0, 0], [0.1, 0.8, 0.1, 0]]"
      ]
     },
     "execution_count": 17,
     "metadata": {},
     "output_type": "execute_result"
    }
   ],
   "source": [
    "y_pred"
   ]
  },
  {
   "cell_type": "code",
   "execution_count": 18,
   "metadata": {},
   "outputs": [
    {
     "name": "stdout",
     "output_type": "stream",
     "text": [
      "Loss constructor function: <keras.losses.CategoricalCrossentropy object at 0x7f85c43d3070>\n"
     ]
    }
   ],
   "source": [
    "print(f\"Loss constructor function: {loss_fn}\")"
   ]
  },
  {
   "cell_type": "code",
   "execution_count": 19,
   "metadata": {},
   "outputs": [
    {
     "data": {
      "text/plain": [
       "<tf.Tensor: shape=(), dtype=float32, numpy=1.609438>"
      ]
     },
     "execution_count": 19,
     "metadata": {},
     "output_type": "execute_result"
    }
   ],
   "source": [
    "the_model.loss(y_true, y_pred)"
   ]
  },
  {
   "cell_type": "code",
   "execution_count": 20,
   "metadata": {},
   "outputs": [],
   "source": [
    "# print(\"Model summary:\")\n",
    "# print(the_model.summary())"
   ]
  },
  {
   "cell_type": "code",
   "execution_count": 21,
   "metadata": {},
   "outputs": [],
   "source": [
    "#---\n",
    "# TODO: manually changing here for OHE experiment\n",
    "def ohe_batches(batches: tf.data.Dataset, depth=4) -> tf.data.Dataset:\n",
    "    \"\"\"For given batches and depth map sparse labels to OHE.\"\"\"\n",
    "    return batches.map(lambda x, y: (x, tf.one_hot(y[..., -1], depth, axis=-1)))\n",
    "#---"
   ]
  },
  {
   "cell_type": "code",
   "execution_count": 22,
   "metadata": {},
   "outputs": [
    {
     "name": "stdout",
     "output_type": "stream",
     "text": [
      "-------\n",
      "* train img dir/home/annazan/fAIr-utilities/ramp-data/test_data/model95_td370/train/chips\n",
      "* train mask dir/home/annazan/fAIr-utilities/ramp-data/test_data/model95_td370/train/binarymasks\n",
      "* input img shape[256, 256]\n",
      "* output img shape[256, 256]\n",
      "<MapDataset element_spec=(TensorSpec(shape=(None, 256, 256, 3), dtype=tf.float32, name=None), TensorSpec(shape=(None, 256, 256, 4), dtype=tf.float32, name=None))>\n"
     ]
    }
   ],
   "source": [
    "from ramp.training.augmentation_constructors import get_augmentation_fn\n",
    "from ramp.utils.misc_ramp_utils import get_num_files\n",
    "from ramp.data_mgmt.data_generator import (\n",
    "    test_batches_from_gtiff_dirs,\n",
    "    training_batches_from_gtiff_dirs,\n",
    ")\n",
    "#### define data directories ####\n",
    "train_img_dir = Path(working_ramp_home) / cfg[\"datasets\"][\"train_img_dir\"]\n",
    "train_mask_dir = Path(working_ramp_home) / cfg[\"datasets\"][\"train_mask_dir\"]\n",
    "val_img_dir = Path(working_ramp_home) / cfg[\"datasets\"][\"val_img_dir\"]\n",
    "val_mask_dir = Path(working_ramp_home) / cfg[\"datasets\"][\"val_mask_dir\"]\n",
    "\n",
    "#### get the augmentation transform ####\n",
    "# aug = None\n",
    "if cfg[\"augmentation\"][\"use_aug\"]:\n",
    "    aug = get_augmentation_fn(cfg)\n",
    "\n",
    "## RUNTIME Parameters\n",
    "batch_size = cfg[\"batch_size\"]\n",
    "input_img_shape = cfg[\"input_img_shape\"]\n",
    "output_img_shape = cfg[\"output_img_shape\"]\n",
    "\n",
    "n_training = get_num_files(train_img_dir, \"*.tif\")\n",
    "n_val = get_num_files(val_img_dir, \"*.tif\")\n",
    "steps_per_epoch = n_training // batch_size\n",
    "validation_steps = n_val // batch_size\n",
    "# Testing step , not recommended\n",
    "if validation_steps <= 0:\n",
    "    validation_steps = 1\n",
    "\n",
    "# add these back to the config\n",
    "# in case they are needed by callbacks\n",
    "cfg[\"runtime\"] = {}\n",
    "cfg[\"runtime\"][\"n_training\"] = n_training\n",
    "cfg[\"runtime\"][\"n_val\"] = n_val\n",
    "cfg[\"runtime\"][\"steps_per_epoch\"] = steps_per_epoch\n",
    "cfg[\"runtime\"][\"validation_steps\"] = validation_steps\n",
    "\n",
    "train_batches = None\n",
    "\n",
    "if aug is not None:\n",
    "    train_batches = training_batches_from_gtiff_dirs(\n",
    "        train_img_dir,\n",
    "        train_mask_dir,\n",
    "        batch_size,\n",
    "        input_img_shape,\n",
    "        output_img_shape,\n",
    "        transforms=aug,\n",
    "    )\n",
    "else:\n",
    "    train_batches = training_batches_from_gtiff_dirs(\n",
    "        train_img_dir, train_mask_dir, batch_size, input_img_shape, output_img_shape\n",
    "    )\n",
    "assert train_batches is not None, \"training batches were not constructed\"\n",
    "print(f\"-------\\n* train img dir{train_img_dir}\\n* train mask dir{train_mask_dir}\")\n",
    "print(f\"* input img shape{input_img_shape}\\n* output img shape{output_img_shape}\")\n",
    "\n",
    "\n",
    "#---\n",
    "# TODO: manually changing here for OHE experiment\n",
    "train_batches = ohe_batches(train_batches)\n",
    "#---\n",
    "print(train_batches)"
   ]
  },
  {
   "cell_type": "code",
   "execution_count": 23,
   "metadata": {},
   "outputs": [
    {
     "name": "stdout",
     "output_type": "stream",
     "text": [
      "<MapDataset element_spec=(TensorSpec(shape=(None, 256, 256, 3), dtype=tf.float32, name=None), TensorSpec(shape=(None, 256, 256, 4), dtype=tf.float32, name=None))>\n"
     ]
    }
   ],
   "source": [
    "# Batches are a tf.data.Dataset type\n",
    "print(train_batches)"
   ]
  },
  {
   "cell_type": "code",
   "execution_count": 24,
   "metadata": {},
   "outputs": [],
   "source": [
    "\n",
    "# Get a single batch as numpy to explore\n",
    "iter = tf.data.Dataset.as_numpy_iterator(train_batches)\n",
    "(X_batch, y_true_batch) = iter.next()\n"
   ]
  },
  {
   "cell_type": "code",
   "execution_count": 25,
   "metadata": {},
   "outputs": [],
   "source": [
    "# for elem in iter:\n",
    "#   print(elem)"
   ]
  },
  {
   "cell_type": "code",
   "execution_count": 26,
   "metadata": {},
   "outputs": [
    {
     "data": {
      "text/plain": [
       "524288"
      ]
     },
     "execution_count": 26,
     "metadata": {},
     "output_type": "execute_result"
    }
   ],
   "source": [
    "\n",
    "y_true_batch.size # 524288\n",
    "# y_true_batch.itemsize # 4"
   ]
  },
  {
   "cell_type": "code",
   "execution_count": 27,
   "metadata": {},
   "outputs": [
    {
     "data": {
      "text/plain": [
       "393216"
      ]
     },
     "execution_count": 27,
     "metadata": {},
     "output_type": "execute_result"
    }
   ],
   "source": [
    "X_batch.size # 393216\n",
    "# X_batch.itemsize # 4"
   ]
  },
  {
   "cell_type": "code",
   "execution_count": 28,
   "metadata": {},
   "outputs": [
    {
     "data": {
      "text/plain": [
       "array([1., 0., 0., 0.], dtype=float32)"
      ]
     },
     "execution_count": 28,
     "metadata": {},
     "output_type": "execute_result"
    }
   ],
   "source": [
    "y_true_batch[0, 0, 0, :]"
   ]
  },
  {
   "cell_type": "code",
   "execution_count": 29,
   "metadata": {},
   "outputs": [
    {
     "name": "stdout",
     "output_type": "stream",
     "text": [
      "Batch size is: 2\n",
      "Example X entry: [0.06786785 0.06786785 0.06786785]\n",
      "Input data shape (X): (2, 256, 256, 3)\n",
      "Ground truth data shape (y_true): (2, 256, 256, 4)\n",
      "Example y_true:  [1. 0. 0. 0.]\n",
      "The unique labels in the y_true: [0. 1.]\n"
     ]
    }
   ],
   "source": [
    "import numpy as np\n",
    "# Print useful info\n",
    "print(\"Batch size is:\", X_batch.shape[0])\n",
    "# Appears to be floats between 0 and 1\n",
    "print(\"Example X entry:\", X_batch[0, 0, 0, :])\n",
    "print(\"Input data shape (X):\", X_batch.shape)\n",
    "print(\"Ground truth data shape (y_true):\", y_true_batch.shape)\n",
    "print(\"Example y_true: \", y_true_batch[1, 0, 0, :])\n",
    "print(f\"The unique labels in the y_true: {np.unique(y_true_batch[0, :, :, 0])}\")"
   ]
  },
  {
   "cell_type": "code",
   "execution_count": 30,
   "metadata": {},
   "outputs": [
    {
     "name": "stdout",
     "output_type": "stream",
     "text": [
      "1/1 [==============================] - 3s 3s/step\n"
     ]
    }
   ],
   "source": [
    "# Get some predictions from the model for the batch\n",
    "y_pred_batch = the_model.predict(X_batch)"
   ]
  },
  {
   "cell_type": "code",
   "execution_count": 31,
   "metadata": {},
   "outputs": [
    {
     "name": "stdout",
     "output_type": "stream",
     "text": [
      "Predictions y_pred_batch are: (2, 256, 256, 4)\n"
     ]
    }
   ],
   "source": [
    "# Shape of output predictions\n",
    "print(\"Predictions y_pred_batch are:\", y_pred_batch.shape)\n"
   ]
  },
  {
   "cell_type": "code",
   "execution_count": 32,
   "metadata": {},
   "outputs": [
    {
     "data": {
      "text/plain": [
       "dtype('float32')"
      ]
     },
     "execution_count": 32,
     "metadata": {},
     "output_type": "execute_result"
    }
   ],
   "source": [
    "y_pred_batch.dtype"
   ]
  },
  {
   "cell_type": "code",
   "execution_count": 33,
   "metadata": {},
   "outputs": [
    {
     "name": "stdout",
     "output_type": "stream",
     "text": [
      "[9.9108499e-01 4.7262857e-04 8.2368916e-03 2.0547237e-04]\n"
     ]
    },
    {
     "data": {
      "text/plain": [
       "1.0"
      ]
     },
     "execution_count": 33,
     "metadata": {},
     "output_type": "execute_result"
    }
   ],
   "source": [
    "# Example single pixel prediction\n",
    "single_prediction = y_pred_batch[0, 0, 0, :]\n",
    "print(single_prediction)\n",
    "\n",
    "# Single prediction sums to 1: probabilties over the four categories of the model\n",
    "single_prediction.sum().round()"
   ]
  },
  {
   "cell_type": "code",
   "execution_count": 34,
   "metadata": {},
   "outputs": [
    {
     "data": {
      "text/plain": [
       "<tf.Tensor: shape=(), dtype=float32, numpy=2.2767544>"
      ]
     },
     "execution_count": 34,
     "metadata": {},
     "output_type": "execute_result"
    }
   ],
   "source": [
    "the_model.loss(y_true_batch, y_pred_batch)"
   ]
  },
  {
   "cell_type": "code",
   "execution_count": 35,
   "metadata": {},
   "outputs": [
    {
     "name": "stdout",
     "output_type": "stream",
     "text": [
      "-------\n",
      "* val img dir/home/annazan/fAIr-utilities/ramp-data/test_data/model95_td370/train/val-chips\n",
      "* val mask dir/home/annazan/fAIr-utilities/ramp-data/test_data/model95_td370/train/val-binarymasks\n",
      "-------\n",
      "<MapDataset element_spec=(TensorSpec(shape=(None, 256, 256, 3), dtype=tf.float32, name=None), TensorSpec(shape=(None, 256, 256, 4), dtype=tf.float32, name=None))>\n",
      "*\n",
      "*\n",
      "\n"
     ]
    }
   ],
   "source": [
    "# Validation batches\n",
    "val_batches = test_batches_from_gtiff_dirs(\n",
    "    val_img_dir, val_mask_dir, batch_size, input_img_shape, output_img_shape\n",
    ")\n",
    "\n",
    "#---\n",
    "# TODO: manually changing here for OHE experiment\n",
    "val_batches = ohe_batches(val_batches)\n",
    "#---\n",
    "\n",
    "assert val_batches is not None, \"validation batches were not constructed\"\n",
    "print(f\"-------\\n* val img dir{val_img_dir}\\n* val mask dir{val_mask_dir}\\n-------\")\n",
    "print(val_batches)\n",
    "print('*\\n*\\n')\n"
   ]
  },
  {
   "cell_type": "code",
   "execution_count": 36,
   "metadata": {},
   "outputs": [],
   "source": [
    "# Set up training\n",
    "# ---------------\n",
    "## Callbacks ##\n",
    "callbacks_list = []\n",
    "\n",
    "if not discard_experiment:\n",
    "    # get model checkpoint callback\n",
    "    if cfg[\"model_checkpts\"][\"use_model_checkpts\"]:\n",
    "        get_model_checkpt_callback_fn_name = cfg[\"model_checkpts\"][\n",
    "            \"get_model_checkpt_callback_fn_name\"\n",
    "        ]\n",
    "        get_model_checkpt_callback_fn = getattr(\n",
    "            callback_constructors, get_model_checkpt_callback_fn_name\n",
    "        )\n",
    "        callbacks_list.append(get_model_checkpt_callback_fn(cfg))\n",
    "\n",
    "    # get tensorboard callback\n",
    "    if cfg[\"tensorboard\"][\"use_tb\"]:\n",
    "        get_tb_callback_fn_name = cfg[\"tensorboard\"][\"get_tb_callback_fn_name\"]\n",
    "        get_tb_callback_fn = getattr(callback_constructors, get_tb_callback_fn_name)\n",
    "        callbacks_list.append(get_tb_callback_fn(cfg))\n",
    "\n",
    "    # get tensorboard model prediction logging callback\n",
    "    if cfg[\"prediction_logging\"][\"use_prediction_logging\"]:\n",
    "        assert cfg[\"tensorboard\"][\n",
    "            \"use_tb\"\n",
    "        ], \"Tensorboard logging must be turned on to enable prediction logging\"\n",
    "        get_prediction_logging_fn_name = cfg[\"prediction_logging\"][\n",
    "            \"get_prediction_logging_fn_name\"\n",
    "        ]\n",
    "        get_prediction_logging_fn = getattr(\n",
    "            callback_constructors, get_prediction_logging_fn_name\n",
    "        )\n",
    "        callbacks_list.append(get_prediction_logging_fn(the_model, cfg))\n",
    "\n",
    "# free up RAM\n",
    "tf.keras.backend.clear_session()\n",
    "\n",
    "if cfg[\"early_stopping\"][\"use_early_stopping\"]:\n",
    "    callbacks_list.append(callback_constructors.get_early_stopping_callback_fn(cfg))\n",
    "\n",
    "    # get cyclic learning scheduler callback\n",
    "if cfg[\"cyclic_learning_scheduler\"][\"use_clr\"]:\n",
    "    assert not cfg[\"early_stopping\"][\n",
    "        \"use_early_stopping\"\n",
    "    ], \"cannot use early_stopping with cycling_learning_scheduler\"\n",
    "    get_clr_callback_fn_name = cfg[\"cyclic_learning_scheduler\"][\n",
    "        \"get_clr_callback_fn_name\"\n",
    "    ]\n",
    "    get_clr_callback_fn = getattr(callback_constructors, get_clr_callback_fn_name)\n",
    "    callbacks_list.append(get_clr_callback_fn(cfg))"
   ]
  },
  {
   "cell_type": "code",
   "execution_count": 37,
   "metadata": {},
   "outputs": [
    {
     "data": {
      "text/plain": [
       "[<keras.callbacks.ModelCheckpoint at 0x7f85bc6c3ca0>,\n",
       " <keras.callbacks.TensorBoard at 0x7f85bc774880>,\n",
       " <keras.callbacks.LambdaCallback at 0x7f8584192730>,\n",
       " <keras.callbacks.EarlyStopping at 0x7f8584192880>]"
      ]
     },
     "execution_count": 37,
     "metadata": {},
     "output_type": "execute_result"
    }
   ],
   "source": [
    "callbacks_list"
   ]
  },
  {
   "cell_type": "code",
   "execution_count": 38,
   "metadata": {},
   "outputs": [
    {
     "data": {
      "text/plain": [
       "'/home/annazan/fAIr-utilities/ramp-data/test_data/model95_td370/train/model-checkpts/20240312-145959/model_20240312-145959_{epoch:03d}_{val_recall_1:.3f}.tf'"
      ]
     },
     "execution_count": 38,
     "metadata": {},
     "output_type": "execute_result"
    }
   ],
   "source": [
    "call = callbacks_list[0]\n",
    "call.filepath"
   ]
  },
  {
   "cell_type": "code",
   "execution_count": 66,
   "metadata": {},
   "outputs": [
    {
     "name": "stdout",
     "output_type": "stream",
     "text": [
      "Starting Training with 20 epochs , 2 batch size , 71 steps per epoch , 12 validation steps......\n",
      "Epoch 1/20\n"
     ]
    },
    {
     "name": "stdout",
     "output_type": "stream",
     "text": [
      "1/1 [==============================] - 0s 25ms/steploss: 0.2072 - precision_1: 0.8262 - iou: 0.4419 - recall_1: 0.77\n",
      "71/71 [==============================] - 8s 103ms/step - loss: 0.2072 - precision_1: 0.8262 - iou: 0.4419 - recall_1: 0.7741 - val_loss: 0.4152 - val_precision_1: 0.9404 - val_iou: 0.4647 - val_recall_1: 0.6518\n",
      "Epoch 2/20\n",
      "71/71 [==============================] - ETA: 0s - loss: 0.1749 - precision_1: 0.8662 - iou: 0.4441 - recall_1: 0.8174INFO:tensorflow:Assets written to: /home/annazan/fAIr-utilities/ramp-data/test_data/model95_td370/train/model-checkpts/20240312-145959/model_20240312-145959_002_0.736.tf/assets\n",
      "1/1 [==============================] - 0s 28ms/step\n",
      "71/71 [==============================] - 26s 373ms/step - loss: 0.1749 - precision_1: 0.8662 - iou: 0.4441 - recall_1: 0.8174 - val_loss: 0.3627 - val_precision_1: 0.9105 - val_iou: 0.4764 - val_recall_1: 0.7364\n",
      "Epoch 3/20\n",
      "1/1 [==============================] - 0s 27ms/steploss: 0.1598 - precision_1: 0.8722 - iou: 0.4411 - recall_1: 0.81\n",
      "71/71 [==============================] - 7s 102ms/step - loss: 0.1598 - precision_1: 0.8722 - iou: 0.4411 - recall_1: 0.8168 - val_loss: 0.4660 - val_precision_1: 0.8897 - val_iou: 0.4203 - val_recall_1: 0.7283\n",
      "Epoch 4/20\n",
      "1/1 [==============================] - 0s 27ms/steploss: 0.1515 - precision_1: 0.8887 - iou: 0.4422 - recall_1: 0.82\n",
      "71/71 [==============================] - 7s 102ms/step - loss: 0.1515 - precision_1: 0.8887 - iou: 0.4422 - recall_1: 0.8261 - val_loss: 0.7184 - val_precision_1: 0.9127 - val_iou: 0.4573 - val_recall_1: 0.6823\n",
      "Epoch 5/20\n",
      "1/1 [==============================] - 0s 26ms/steploss: 0.1337 - precision_1: 0.8989 - iou: 0.4437 - recall_1: 0.85\n",
      "71/71 [==============================] - 7s 102ms/step - loss: 0.1337 - precision_1: 0.8989 - iou: 0.4437 - recall_1: 0.8569 - val_loss: 0.4239 - val_precision_1: 0.9455 - val_iou: 0.4041 - val_recall_1: 0.6024\n",
      "Epoch 6/20\n",
      "71/71 [==============================] - ETA: 0s - loss: 0.1428 - precision_1: 0.8864 - iou: 0.4467 - recall_1: 0.8462INFO:tensorflow:Assets written to: /home/annazan/fAIr-utilities/ramp-data/test_data/model95_td370/train/model-checkpts/20240312-145959/model_20240312-145959_006_0.759.tf/assets\n",
      "1/1 [==============================] - 0s 28ms/step\n",
      "71/71 [==============================] - 27s 389ms/step - loss: 0.1428 - precision_1: 0.8864 - iou: 0.4467 - recall_1: 0.8462 - val_loss: 0.3762 - val_precision_1: 0.8529 - val_iou: 0.4528 - val_recall_1: 0.7595\n",
      "Epoch 7/20\n",
      "1/1 [==============================] - 0s 27ms/steploss: 0.1581 - precision_1: 0.8671 - iou: 0.4418 - recall_1: 0.82\n",
      "71/71 [==============================] - 7s 102ms/step - loss: 0.1581 - precision_1: 0.8671 - iou: 0.4418 - recall_1: 0.8216 - val_loss: 0.3618 - val_precision_1: 0.9245 - val_iou: 0.4556 - val_recall_1: 0.7232\n",
      "Epoch 8/20\n",
      "1/1 [==============================] - 0s 27ms/steploss: 0.1682 - precision_1: 0.8780 - iou: 0.4413 - recall_1: 0.82\n",
      "71/71 [==============================] - 7s 102ms/step - loss: 0.1682 - precision_1: 0.8780 - iou: 0.4413 - recall_1: 0.8233 - val_loss: 0.3599 - val_precision_1: 0.9418 - val_iou: 0.4054 - val_recall_1: 0.7079\n",
      "Epoch 9/20\n",
      "1/1 [==============================] - 0s 27ms/steploss: 0.1352 - precision_1: 0.8926 - iou: 0.4393 - recall_1: 0.83\n",
      "71/71 [==============================] - 7s 102ms/step - loss: 0.1352 - precision_1: 0.8926 - iou: 0.4393 - recall_1: 0.8398 - val_loss: 0.4097 - val_precision_1: 0.9356 - val_iou: 0.4424 - val_recall_1: 0.5506\n",
      "Epoch 10/20\n",
      "1/1 [==============================] - 0s 28ms/steploss: 0.1388 - precision_1: 0.9010 - iou: 0.4387 - recall_1: 0.84\n",
      "71/71 [==============================] - 7s 102ms/step - loss: 0.1388 - precision_1: 0.9010 - iou: 0.4387 - recall_1: 0.8463 - val_loss: 0.3438 - val_precision_1: 0.9218 - val_iou: 0.3900 - val_recall_1: 0.7201\n",
      "Epoch 11/20\n",
      "1/1 [==============================] - 0s 27ms/steploss: 0.1399 - precision_1: 0.8834 - iou: 0.4388 - recall_1: 0.85\n",
      "71/71 [==============================] - 7s 102ms/step - loss: 0.1399 - precision_1: 0.8834 - iou: 0.4388 - recall_1: 0.8559 - val_loss: 0.3454 - val_precision_1: 0.9315 - val_iou: 0.4135 - val_recall_1: 0.7433\n",
      "Epoch 12/20\n",
      "1/1 [==============================] - 0s 27ms/steploss: 0.1523 - precision_1: 0.8577 - iou: 0.4385 - recall_1: 0.87\n",
      "71/71 [==============================] - 7s 102ms/step - loss: 0.1523 - precision_1: 0.8577 - iou: 0.4385 - recall_1: 0.8756 - val_loss: 0.4559 - val_precision_1: 0.9658 - val_iou: 0.4085 - val_recall_1: 0.6298\n",
      "Epoch 13/20\n",
      "1/1 [==============================] - 0s 29ms/steploss: 0.1220 - precision_1: 0.9073 - iou: 0.4362 - recall_1: 0.86\n",
      "71/71 [==============================] - 7s 103ms/step - loss: 0.1220 - precision_1: 0.9073 - iou: 0.4362 - recall_1: 0.8636 - val_loss: 0.4033 - val_precision_1: 0.8899 - val_iou: 0.3913 - val_recall_1: 0.7145\n",
      "Epoch 14/20\n",
      "1/1 [==============================] - 0s 26ms/steploss: 0.1123 - precision_1: 0.9077 - iou: 0.4377 - recall_1: 0.88\n",
      "71/71 [==============================] - 7s 102ms/step - loss: 0.1123 - precision_1: 0.9077 - iou: 0.4377 - recall_1: 0.8812 - val_loss: 0.3497 - val_precision_1: 0.9160 - val_iou: 0.4089 - val_recall_1: 0.7244\n",
      "Epoch 15/20\n",
      "71/71 [==============================] - ETA: 0s - loss: 0.0981 - precision_1: 0.9222 - iou: 0.4388 - recall_1: 0.8966INFO:tensorflow:Assets written to: /home/annazan/fAIr-utilities/ramp-data/test_data/model95_td370/train/model-checkpts/20240312-145959/model_20240312-145959_015_0.762.tf/assets\n",
      "1/1 [==============================] - 0s 27ms/step\n",
      "71/71 [==============================] - 27s 389ms/step - loss: 0.0981 - precision_1: 0.9222 - iou: 0.4388 - recall_1: 0.8966 - val_loss: 0.3856 - val_precision_1: 0.9224 - val_iou: 0.3919 - val_recall_1: 0.7616\n",
      "Epoch 16/20\n",
      "1/1 [==============================] - 0s 28ms/steploss: 0.1001 - precision_1: 0.9209 - iou: 0.4391 - recall_1: 0.89\n",
      "71/71 [==============================] - 7s 102ms/step - loss: 0.1001 - precision_1: 0.9209 - iou: 0.4391 - recall_1: 0.8939 - val_loss: 0.5441 - val_precision_1: 0.9439 - val_iou: 0.4063 - val_recall_1: 0.7098\n",
      "Epoch 17/20\n",
      "1/1 [==============================] - 0s 27ms/steploss: 0.0995 - precision_1: 0.9232 - iou: 0.4362 - recall_1: 0.89\n",
      "71/71 [==============================] - 7s 102ms/step - loss: 0.0995 - precision_1: 0.9232 - iou: 0.4362 - recall_1: 0.8920 - val_loss: 0.5727 - val_precision_1: 0.9177 - val_iou: 0.4102 - val_recall_1: 0.7396\n",
      "Epoch 18/20\n",
      "1/1 [==============================] - 0s 28ms/steploss: 0.1030 - precision_1: 0.9127 - iou: 0.4360 - recall_1: 0.90\n",
      "71/71 [==============================] - 7s 102ms/step - loss: 0.1030 - precision_1: 0.9127 - iou: 0.4360 - recall_1: 0.9012 - val_loss: 0.4125 - val_precision_1: 0.9478 - val_iou: 0.3920 - val_recall_1: 0.7186\n",
      "Epoch 19/20\n",
      "71/71 [==============================] - ETA: 0s - loss: 0.1212 - precision_1: 0.8939 - iou: 0.4377 - recall_1: 0.8698INFO:tensorflow:Assets written to: /home/annazan/fAIr-utilities/ramp-data/test_data/model95_td370/train/model-checkpts/20240312-145959/model_20240312-145959_019_0.788.tf/assets\n",
      "1/1 [==============================] - 0s 28ms/step\n",
      "71/71 [==============================] - 27s 391ms/step - loss: 0.1212 - precision_1: 0.8939 - iou: 0.4377 - recall_1: 0.8698 - val_loss: 0.3605 - val_precision_1: 0.9222 - val_iou: 0.4088 - val_recall_1: 0.7882\n",
      "Epoch 20/20\n",
      "1/1 [==============================] - 0s 28ms/steploss: 0.1110 - precision_1: 0.9023 - iou: 0.4346 - recall_1: 0.88\n",
      "71/71 [==============================] - 7s 102ms/step - loss: 0.1110 - precision_1: 0.9023 - iou: 0.4346 - recall_1: 0.8802 - val_loss: 0.4739 - val_precision_1: 0.9395 - val_iou: 0.3757 - val_recall_1: 0.6378\n",
      "Training Finished , Time taken to train : 224.86340551000103 seconds\n",
      "\n",
      "-----\n",
      "History:\n",
      "dict_keys(['loss', 'precision_1', 'iou', 'recall_1', 'val_loss', 'val_precision_1', 'val_iou', 'val_recall_1'])\n",
      "\n",
      "-----\n"
     ]
    }
   ],
   "source": [
    "\n",
    "import matplotlib.pyplot as plt\n",
    "from time import perf_counter\n",
    "\n",
    "## Main training block ##\n",
    "n_epochs = cfg[\"num_epochs\"]\n",
    "# SG: manually make this 10\n",
    "n_epochs = 20\n",
    "print(\n",
    "    f\"Starting Training with {n_epochs} epochs , {batch_size} batch size , {steps_per_epoch} steps per epoch , {validation_steps} validation steps......\"\n",
    ")\n",
    "if validation_steps <= 0:\n",
    "    raise RaiseError(\n",
    "        \"Not enough data for training, Increase image or Try reducing batchsize/epochs\"\n",
    "    )\n",
    "# FIXME : Make checkpoint\n",
    "start = perf_counter()\n",
    "history = the_model.fit(\n",
    "    train_batches,\n",
    "    epochs=n_epochs,\n",
    "    steps_per_epoch=steps_per_epoch,\n",
    "    validation_data=val_batches,\n",
    "    validation_steps=validation_steps,\n",
    "    callbacks=callbacks_list,\n",
    ")\n",
    "end = perf_counter()\n",
    "print(f\"Training Finished , Time taken to train : {end-start} seconds\")\n",
    "print('\\n-----\\nHistory:')\n",
    "print(history.history.keys())\n",
    "print('\\n-----')\n"
   ]
  },
  {
   "cell_type": "code",
   "execution_count": 52,
   "metadata": {},
   "outputs": [
    {
     "name": "stdout",
     "output_type": "stream",
     "text": [
      "\n",
      "-----\n",
      "History:\n",
      "dict_keys(['loss', 'precision_1', 'iou', 'recall_1', 'val_loss', 'val_precision_1', 'val_iou', 'val_recall_1'])\n",
      "train iou [0.44971269369125366, 0.4476446211338043, 0.4443782866001129, 0.4488651752471924, 0.444240003824234]\n",
      "valid iou [0.46160560846328735, 0.465709388256073, 0.41515156626701355, 0.4089380204677582, 0.4242381453514099]\n",
      "train recall [0.6502562165260315, 0.699068009853363, 0.7313550710678101, 0.739618182182312, 0.7639274597167969]\n",
      "valid recall [0.6221495866775513, 0.6497960090637207, 0.7274585366249084, 0.6056893467903137, 0.6624175310134888]\n",
      "train precision [0.7702937722206116, 0.7786323428153992, 0.7863540053367615, 0.7934978604316711, 0.8246399164199829]\n",
      "valid precision [0.8884291648864746, 0.8967007398605347, 0.888365626335144, 0.9184869527816772, 0.9149730205535889]\n",
      "\n",
      "-----\n"
     ]
    }
   ],
   "source": [
    "print('\\n-----\\nHistory:')\n",
    "print(history.history.keys())\n",
    "\n",
    "print(f\"train iou {history.history['iou']}\")\n",
    "print(f\"valid iou {history.history['val_iou']}\")\n",
    "print(f'train recall {history.history[\"recall_1\"]}')\n",
    "print(f'valid recall {history.history[\"val_recall_1\"]}')\n",
    "print(f'train precision {history.history[\"precision_1\"]}')\n",
    "print(f'valid precision {history.history[\"val_precision_1\"]}')\n",
    "print('\\n-----')"
   ]
  },
  {
   "cell_type": "code",
   "execution_count": 70,
   "metadata": {},
   "outputs": [
    {
     "data": {
      "text/plain": [
       "'/home/annazan/fAIr-utilities/ramp-data/test_data/model95_td370//train'"
      ]
     },
     "execution_count": 70,
     "metadata": {},
     "output_type": "execute_result"
    }
   ],
   "source": [
    "output_path"
   ]
  },
  {
   "cell_type": "code",
   "execution_count": null,
   "metadata": {},
   "outputs": [],
   "source": [
    "output_filename = f'{output_path}'"
   ]
  },
  {
   "cell_type": "code",
   "execution_count": 56,
   "metadata": {},
   "outputs": [],
   "source": [
    "np.save('my_history.npy',history.history)"
   ]
  },
  {
   "cell_type": "code",
   "execution_count": 57,
   "metadata": {},
   "outputs": [
    {
     "data": {
      "text/plain": [
       "dict_keys(['loss', 'precision_1', 'iou', 'recall_1', 'val_loss', 'val_precision_1', 'val_iou', 'val_recall_1'])"
      ]
     },
     "execution_count": 57,
     "metadata": {},
     "output_type": "execute_result"
    }
   ],
   "source": [
    "history_saved=np.load('my_history.npy',allow_pickle='TRUE').item()\n",
    "history_saved.keys()"
   ]
  },
  {
   "cell_type": "code",
   "execution_count": 58,
   "metadata": {},
   "outputs": [
    {
     "data": {
      "text/html": [
       "<div>\n",
       "<style scoped>\n",
       "    .dataframe tbody tr th:only-of-type {\n",
       "        vertical-align: middle;\n",
       "    }\n",
       "\n",
       "    .dataframe tbody tr th {\n",
       "        vertical-align: top;\n",
       "    }\n",
       "\n",
       "    .dataframe thead th {\n",
       "        text-align: right;\n",
       "    }\n",
       "</style>\n",
       "<table border=\"1\" class=\"dataframe\">\n",
       "  <thead>\n",
       "    <tr style=\"text-align: right;\">\n",
       "      <th></th>\n",
       "      <th>loss</th>\n",
       "      <th>precision_1</th>\n",
       "      <th>iou</th>\n",
       "      <th>recall_1</th>\n",
       "      <th>val_loss</th>\n",
       "      <th>val_precision_1</th>\n",
       "      <th>val_iou</th>\n",
       "      <th>val_recall_1</th>\n",
       "    </tr>\n",
       "  </thead>\n",
       "  <tbody>\n",
       "    <tr>\n",
       "      <th>0</th>\n",
       "      <td>0.271791</td>\n",
       "      <td>0.770294</td>\n",
       "      <td>0.449713</td>\n",
       "      <td>0.650256</td>\n",
       "      <td>0.474879</td>\n",
       "      <td>0.888429</td>\n",
       "      <td>0.461606</td>\n",
       "      <td>0.622150</td>\n",
       "    </tr>\n",
       "    <tr>\n",
       "      <th>1</th>\n",
       "      <td>0.260085</td>\n",
       "      <td>0.778632</td>\n",
       "      <td>0.447645</td>\n",
       "      <td>0.699068</td>\n",
       "      <td>0.386436</td>\n",
       "      <td>0.896701</td>\n",
       "      <td>0.465709</td>\n",
       "      <td>0.649796</td>\n",
       "    </tr>\n",
       "    <tr>\n",
       "      <th>2</th>\n",
       "      <td>0.241235</td>\n",
       "      <td>0.786354</td>\n",
       "      <td>0.444378</td>\n",
       "      <td>0.731355</td>\n",
       "      <td>0.372247</td>\n",
       "      <td>0.888366</td>\n",
       "      <td>0.415152</td>\n",
       "      <td>0.727459</td>\n",
       "    </tr>\n",
       "    <tr>\n",
       "      <th>3</th>\n",
       "      <td>0.246488</td>\n",
       "      <td>0.793498</td>\n",
       "      <td>0.448865</td>\n",
       "      <td>0.739618</td>\n",
       "      <td>0.575786</td>\n",
       "      <td>0.918487</td>\n",
       "      <td>0.408938</td>\n",
       "      <td>0.605689</td>\n",
       "    </tr>\n",
       "    <tr>\n",
       "      <th>4</th>\n",
       "      <td>0.213068</td>\n",
       "      <td>0.824640</td>\n",
       "      <td>0.444240</td>\n",
       "      <td>0.763927</td>\n",
       "      <td>0.475002</td>\n",
       "      <td>0.914973</td>\n",
       "      <td>0.424238</td>\n",
       "      <td>0.662418</td>\n",
       "    </tr>\n",
       "  </tbody>\n",
       "</table>\n",
       "</div>"
      ],
      "text/plain": [
       "       loss  precision_1       iou  recall_1  val_loss  val_precision_1  \\\n",
       "0  0.271791     0.770294  0.449713  0.650256  0.474879         0.888429   \n",
       "1  0.260085     0.778632  0.447645  0.699068  0.386436         0.896701   \n",
       "2  0.241235     0.786354  0.444378  0.731355  0.372247         0.888366   \n",
       "3  0.246488     0.793498  0.448865  0.739618  0.575786         0.918487   \n",
       "4  0.213068     0.824640  0.444240  0.763927  0.475002         0.914973   \n",
       "\n",
       "    val_iou  val_recall_1  \n",
       "0  0.461606      0.622150  \n",
       "1  0.465709      0.649796  \n",
       "2  0.415152      0.727459  \n",
       "3  0.408938      0.605689  \n",
       "4  0.424238      0.662418  "
      ]
     },
     "execution_count": 58,
     "metadata": {},
     "output_type": "execute_result"
    }
   ],
   "source": [
    "import pandas as pd\n",
    "history_saved_df = pd.DataFrame.from_dict(history_saved)\n",
    "history_saved_df"
   ]
  },
  {
   "cell_type": "code",
   "execution_count": 59,
   "metadata": {},
   "outputs": [
    {
     "data": {
      "text/html": [
       "<div>\n",
       "<style scoped>\n",
       "    .dataframe tbody tr th:only-of-type {\n",
       "        vertical-align: middle;\n",
       "    }\n",
       "\n",
       "    .dataframe tbody tr th {\n",
       "        vertical-align: top;\n",
       "    }\n",
       "\n",
       "    .dataframe thead th {\n",
       "        text-align: right;\n",
       "    }\n",
       "</style>\n",
       "<table border=\"1\" class=\"dataframe\">\n",
       "  <thead>\n",
       "    <tr style=\"text-align: right;\">\n",
       "      <th></th>\n",
       "      <th>loss</th>\n",
       "      <th>precision_1</th>\n",
       "      <th>iou</th>\n",
       "      <th>recall_1</th>\n",
       "      <th>val_loss</th>\n",
       "      <th>val_precision_1</th>\n",
       "      <th>val_iou</th>\n",
       "      <th>val_recall_1</th>\n",
       "    </tr>\n",
       "  </thead>\n",
       "  <tbody>\n",
       "    <tr>\n",
       "      <th>4</th>\n",
       "      <td>0.213068</td>\n",
       "      <td>0.82464</td>\n",
       "      <td>0.44424</td>\n",
       "      <td>0.763927</td>\n",
       "      <td>0.475002</td>\n",
       "      <td>0.914973</td>\n",
       "      <td>0.424238</td>\n",
       "      <td>0.662418</td>\n",
       "    </tr>\n",
       "  </tbody>\n",
       "</table>\n",
       "</div>"
      ],
      "text/plain": [
       "       loss  precision_1      iou  recall_1  val_loss  val_precision_1  \\\n",
       "4  0.213068      0.82464  0.44424  0.763927  0.475002         0.914973   \n",
       "\n",
       "    val_iou  val_recall_1  \n",
       "4  0.424238      0.662418  "
      ]
     },
     "execution_count": 59,
     "metadata": {},
     "output_type": "execute_result"
    }
   ],
   "source": [
    "history_last = pd.DataFrame.from_dict(history_saved)[-1:]\n",
    "history_last_df "
   ]
  },
  {
   "cell_type": "code",
   "execution_count": 69,
   "metadata": {},
   "outputs": [
    {
     "name": "stdout",
     "output_type": "stream",
     "text": [
      "Generating graphs ....\n",
      "Graph generated at : /home/annazan/fAIr-utilities/ramp-data/test_data/model95_td370//train/graphs\n"
     ]
    },
    {
     "data": {
      "image/png": "[encoded data removed]",
      "text/plain": [
       "<Figure size 640x480 with 1 Axes>"
      ]
     },
     "metadata": {},
     "output_type": "display_data"
    }
   ],
   "source": [
    "\n",
    "# plot the training and validation accuracy and loss at each epoch\n",
    "print(\"Generating graphs ....\")\n",
    "if not os.path.exists(cfg[\"graph_location\"]):\n",
    "    os.mkdir(cfg[\"graph_location\"])\n",
    "\n",
    "loss = history.history[\"loss\"]\n",
    "# val_loss = history.history[\"val_loss\"]\n",
    "epochs = range(1, len(loss) + 1)\n",
    "\n",
    "# acc = history.history[\"sparse_categorical_accuracy\"]\n",
    "# val_acc = history.history[\"val_sparse_categorical_accuracy\"]\n",
    "\n",
    "#---\n",
    "# TODO: updated for OHE\n",
    "acc = history.history[\"iou\"]\n",
    "val_acc = history.history[\"val_iou\"]\n",
    "acc1 = history.history[\"recall_1\"]\n",
    "val_acc1 = history.history[\"val_recall_1\"]\n",
    "acc2 = history.history[\"precision_1\"]\n",
    "val_acc2 = history.history[\"val_precision_1\"]\n",
    "#---\n",
    "\n",
    "# Plot training and validation accuracy\n",
    "plt.plot(epochs, acc, \"y\", label=\"Training IoU\")\n",
    "plt.plot(epochs, val_acc, \"g\", label=\"Validation IoU\")\n",
    "plt.plot(epochs, acc1, \"r\", label=\"Training Recall\")\n",
    "plt.plot(epochs, val_acc1, \"m\", label=\"Validation Recall\")\n",
    "plt.plot(epochs, acc2, \"b\", label=\"Training Precision\")\n",
    "plt.plot(epochs, val_acc2, \"c\", label=\"Validation Precision\")\n",
    "\n",
    "# Set labels and title\n",
    "plt.xlabel(\"Epochs\")\n",
    "plt.ylabel(\"Accuracy\")\n",
    "plt.title(\"Training and Validation Accuracy\")\n",
    "\n",
    "plt.legend()\n",
    "plt.savefig(\n",
    "    f\"{cfg['graph_location']}/training_validation_sparse_categorical_accuracy.png\"\n",
    ")\n",
    "print(f\"Graph generated at : {cfg['graph_location']}\")\n",
    "# print(f\"train accuracy {acc}\")\n",
    "# print(f\"valid accuracy {val_acc}\")\n",
    "# print(f\"loss {loss}\")\n"
   ]
  },
  {
   "cell_type": "markdown",
   "metadata": {},
   "source": [
    "---"
   ]
  },
  {
   "cell_type": "code",
   "execution_count": null,
   "metadata": {},
   "outputs": [],
   "source": [
    "\n",
    "# # APPENDIX: from copying across\n",
    "\n",
    "# #### construct optimizer ####\n",
    "# get_optimizer_fn_name = cfg[\"optimizer\"][\"get_optimizer_fn_name\"]\n",
    "# get_optimizer_fn = getattr(optimizer_constructors, get_optimizer_fn_name)\n",
    "\n",
    "# optimizer = get_optimizer_fn(cfg)\n",
    "\n",
    "# the_model = None\n",
    "\n",
    "# if cfg[\"saved_model\"][\"use_saved_model\"]:\n",
    "#     # load (construct) the model\n",
    "#     model_path = Path(working_ramp_home) / cfg[\"saved_model\"][\"saved_model_path\"]\n",
    "#     print(f\"Model: importing saved model {str(model_path)}\")\n",
    "#     the_model = tf.keras.models.load_model(model_path)\n",
    "#     assert (\n",
    "#         the_model is not None\n",
    "#     ), f\"the saved model was not constructed: {model_path}\"\n",
    "\n",
    "#     if cfg[\"freeze_layers\"]:\n",
    "#         for layer in the_model.layers:\n",
    "#             layer.trainable = False  # freeze previous layers only update new layers\n",
    "#             # print(\"Setting previous model layers traininable : False\")\n",
    "\n",
    "#     if not cfg[\"saved_model\"][\"save_optimizer_state\"]:\n",
    "#         print(\"-------\")\n",
    "#         print(f'-------{the_metrics}')\n",
    "#         print(\"-------\")\n",
    "        \n",
    "#         # For class 0\n",
    "#         precision_class_0 = Precision(class_id=0)\n",
    "#         # For class 1\n",
    "#         precision_class_1 = Precision(class_id=1)\n",
    "#         metrics=[precision_class_0,precision_class_1]\n",
    "#         print(f'-------{the_metrics}')\n",
    "#         print(\"-------\")\n",
    "        \n",
    "#         # If you don't want to save the original state of training, recompile the model.\n",
    "#         the_model.compile(optimizer=optimizer, loss=loss_fn, metrics=[the_metrics])\n",
    "#         # the_model.compile(optimizer=optimizer, loss=loss_fn, metrics=[precision_class_0,precision_class_1])\n",
    "        \n",
    "#         # the_model.compile(optimizer = optimizer,\n",
    "#         #    loss=loss_fn,\n",
    "#         #    metrics = [get_iou_coef_fn])\n",
    "\n",
    "# if not cfg[\"saved_model\"][\"use_saved_model\"]:\n",
    "#     get_model_fn_name = cfg[\"model\"][\"get_model_fn_name\"]\n",
    "#     get_model_fn = getattr(model_constructors, get_model_fn_name)\n",
    "#     the_model = get_model_fn(cfg)\n",
    "\n",
    "#     assert the_model is not None, f\"the model was not constructed: {model_path}\"\n",
    "#     the_model.compile(optimizer=optimizer, loss=loss_fn, metrics=the_metrics)\n",
    "\n",
    "# print(the_model)\n",
    "# cfg[\"datasets\"]\n",
    "\n",
    "# #### define data directories ####\n",
    "# train_img_dir = Path(working_ramp_home) / cfg[\"datasets\"][\"train_img_dir\"]\n",
    "# train_mask_dir = Path(working_ramp_home) / cfg[\"datasets\"][\"train_mask_dir\"]\n",
    "# val_img_dir = Path(working_ramp_home) / cfg[\"datasets\"][\"val_img_dir\"]\n",
    "# val_mask_dir = Path(working_ramp_home) / cfg[\"datasets\"][\"val_mask_dir\"]\n",
    "\n",
    "# #### get the augmentation transform ####\n",
    "# # aug = None\n",
    "# if cfg[\"augmentation\"][\"use_aug\"]:\n",
    "#     aug = get_augmentation_fn(cfg)\n",
    "\n",
    "# ## RUNTIME Parameters\n",
    "# batch_size = cfg[\"batch_size\"]\n",
    "# input_img_shape = cfg[\"input_img_shape\"]\n",
    "# output_img_shape = cfg[\"output_img_shape\"]\n",
    "\n",
    "# n_training = get_num_files(train_img_dir, \"*.tif\")\n",
    "# n_val = get_num_files(val_img_dir, \"*.tif\")\n",
    "# steps_per_epoch = n_training // batch_size\n",
    "# validation_steps = n_val // batch_size\n",
    "# # Testing step , not recommended\n",
    "# if validation_steps <= 0:\n",
    "#     validation_steps = 1\n",
    "\n",
    "# # add these back to the config\n",
    "# # in case they are needed by callbacks\n",
    "# cfg[\"runtime\"] = {}\n",
    "# cfg[\"runtime\"][\"n_training\"] = n_training\n",
    "# cfg[\"runtime\"][\"n_val\"] = n_val\n",
    "# cfg[\"runtime\"][\"steps_per_epoch\"] = steps_per_epoch\n",
    "# cfg[\"runtime\"][\"validation_steps\"] = validation_steps\n",
    "\n",
    "# train_batches = None\n",
    "\n",
    "# if aug is not None:\n",
    "#     train_batches = training_batches_from_gtiff_dirs(\n",
    "#         train_img_dir,\n",
    "#         train_mask_dir,\n",
    "#         batch_size,\n",
    "#         input_img_shape,\n",
    "#         output_img_shape,\n",
    "#         transforms=aug,\n",
    "#     )\n",
    "# else:\n",
    "#     train_batches = training_batches_from_gtiff_dirs(\n",
    "#         train_img_dir, train_mask_dir, batch_size, input_img_shape, output_img_shape\n",
    "#     )\n",
    "\n",
    "# assert train_batches is not None, \"training batches were not constructed\"\n",
    "# print(f\"-------\\n* train img dir{train_img_dir}\\n* train mask dir{train_mask_dir}\")\n",
    "# print(f\"* input img shape{input_img_shape}\\n* output img shape{output_img_shape}\")\n",
    "\n",
    "# print(train_batches)\n",
    "\n",
    "# val_batches = test_batches_from_gtiff_dirs(\n",
    "#     val_img_dir, val_mask_dir, batch_size, input_img_shape, output_img_shape\n",
    "# )\n",
    "\n",
    "# assert val_batches is not None, \"validation batches were not constructed\"\n",
    "# print(f\"-------\\n* val img dir{val_img_dir}\\n* val mask dir{val_mask_dir}\\n-------\")\n",
    "# print(val_batches)\n",
    "# print('*\\n*\\n')\n",
    "\n",
    "# ## Callbacks ##\n",
    "# callbacks_list = []\n",
    "\n",
    "# if not discard_experiment:\n",
    "#     # get model checkpoint callback\n",
    "#     if cfg[\"model_checkpts\"][\"use_model_checkpts\"]:\n",
    "#         get_model_checkpt_callback_fn_name = cfg[\"model_checkpts\"][\n",
    "#             \"get_model_checkpt_callback_fn_name\"\n",
    "#         ]\n",
    "#         get_model_checkpt_callback_fn = getattr(\n",
    "#             callback_constructors, get_model_checkpt_callback_fn_name\n",
    "#         )\n",
    "#         callbacks_list.append(get_model_checkpt_callback_fn(cfg))\n",
    "\n",
    "#     # get tensorboard callback\n",
    "#     if cfg[\"tensorboard\"][\"use_tb\"]:\n",
    "#         get_tb_callback_fn_name = cfg[\"tensorboard\"][\"get_tb_callback_fn_name\"]\n",
    "#         get_tb_callback_fn = getattr(callback_constructors, get_tb_callback_fn_name)\n",
    "#         callbacks_list.append(get_tb_callback_fn(cfg))\n",
    "\n",
    "#     # get tensorboard model prediction logging callback\n",
    "#     if cfg[\"prediction_logging\"][\"use_prediction_logging\"]:\n",
    "#         assert cfg[\"tensorboard\"][\n",
    "#             \"use_tb\"\n",
    "#         ], \"Tensorboard logging must be turned on to enable prediction logging\"\n",
    "#         get_prediction_logging_fn_name = cfg[\"prediction_logging\"][\n",
    "#             \"get_prediction_logging_fn_name\"\n",
    "#         ]\n",
    "#         get_prediction_logging_fn = getattr(\n",
    "#             callback_constructors, get_prediction_logging_fn_name\n",
    "#         )\n",
    "#         callbacks_list.append(get_prediction_logging_fn(the_model, cfg))\n",
    "\n",
    "# # free up RAM\n",
    "# keras.backend.clear_session()\n",
    "\n",
    "# if cfg[\"early_stopping\"][\"use_early_stopping\"]:\n",
    "#     callbacks_list.append(callback_constructors.get_early_stopping_callback_fn(cfg))\n",
    "\n",
    "#     # get cyclic learning scheduler callback\n",
    "# if cfg[\"cyclic_learning_scheduler\"][\"use_clr\"]:\n",
    "#     assert not cfg[\"early_stopping\"][\n",
    "#         \"use_early_stopping\"\n",
    "#     ], \"cannot use early_stopping with cycling_learning_scheduler\"\n",
    "#     get_clr_callback_fn_name = cfg[\"cyclic_learning_scheduler\"][\n",
    "#         \"get_clr_callback_fn_name\"\n",
    "#     ]\n",
    "#     get_clr_callback_fn = getattr(callback_constructors, get_clr_callback_fn_name)\n",
    "#     callbacks_list.append(get_clr_callback_fn(cfg))\n",
    "\n",
    "# ## Main training block ##\n",
    "# n_epochs = cfg[\"num_epochs\"]\n",
    "# print(\n",
    "#     f\"Starting Training with {n_epochs} epochs , {batch_size} batch size , {steps_per_epoch} steps per epoch , {validation_steps} validation steps......\"\n",
    "# )\n",
    "# if validation_steps <= 0:\n",
    "#     raise RaiseError(\n",
    "#         \"Not enough data for training, Increase image or Try reducing batchsize/epochs\"\n",
    "#     )\n",
    "# # FIXME : Make checkpoint\n",
    "# start = perf_counter()\n",
    "# history = the_model.fit(\n",
    "#     train_batches,\n",
    "#     epochs=n_epochs,\n",
    "#     steps_per_epoch=steps_per_epoch,\n",
    "#     validation_data=val_batches,\n",
    "#     validation_steps=validation_steps,\n",
    "#     callbacks=callbacks_list,\n",
    "# )\n",
    "# end = perf_counter()\n",
    "# print(f\"Training Finished , Time taken to train : {end-start} seconds\")\n",
    "# print('\\n-----\\nHistory:')\n",
    "# print(history.history.keys())\n",
    "# print('\\n-----')\n",
    "\n",
    "# # plot the training and validation accuracy and loss at each epoch\n",
    "# print(\"Generating graphs ....\")\n",
    "# if not os.path.exists(cfg[\"graph_location\"]):\n",
    "#     os.mkdir(cfg[\"graph_location\"])\n",
    "\n",
    "# loss = history.history[\"loss\"]\n",
    "# # val_loss = history.history[\"val_loss\"]\n",
    "# epochs = range(1, len(loss) + 1)\n",
    "\n",
    "# acc = history.history[\"sparse_categorical_accuracy\"]\n",
    "# val_acc = history.history[\"val_sparse_categorical_accuracy\"]\n",
    "\n",
    "# # Plot training and validation accuracy\n",
    "# plt.plot(epochs, acc, \"y\", label=\"Training Accuracy\")\n",
    "# plt.plot(epochs, val_acc, \"r\", label=\"Validation Accuracy\")\n",
    "\n",
    "# # Set labels and title\n",
    "# plt.xlabel(\"Epochs\")\n",
    "# plt.ylabel(\"Accuracy\")\n",
    "# plt.title(\"Training and Validation Accuracy\")\n",
    "\n",
    "# plt.legend()\n",
    "# plt.savefig(\n",
    "#     f\"{cfg['graph_location']}/training_validation_sparse_categorical_accuracy.png\"\n",
    "# )\n",
    "# print(f\"Graph generated at : {cfg['graph_location']}\")\n",
    "# print(f\"accuracy {acc}\")\n",
    "# print(f\"accuracy {val_acc}\")\n",
    "# print(f\"loss {loss}\")\n"
   ]
  },
  {
   "cell_type": "code",
   "execution_count": null,
   "metadata": {},
   "outputs": [],
   "source": [
    "import pandas as pd\n",
    "df = pd.read_csv(\"/home/annazan/fAIr-utilities/ramp-data/test_data/1_Zanzibar/train/fair_split_train.csv\")\n",
    "df.iloc[0, 0]"
   ]
  },
  {
   "cell_type": "code",
   "execution_count": null,
   "metadata": {},
   "outputs": [],
   "source": [
    "from hot_fair_utilities import train\n",
    "train_output = f\"{base_path}train\"\n",
    "final_accuracy, final_model_path = train(\n",
    "    input_path=preprocess_output,\n",
    "    output_path=train_output,\n",
    "    epoch_size=2,\n",
    "    batch_size=2,\n",
    "    model=\"ramp\",\n",
    "    model_home=os.environ[\"RAMP_HOME\"]\n",
    ")"
   ]
  },
  {
   "cell_type": "markdown",
   "metadata": {},
   "source": [
    "[here a tf file is created (weights + structure)]"
   ]
  },
  {
   "cell_type": "code",
   "execution_count": null,
   "metadata": {},
   "outputs": [],
   "source": [
    "print(final_accuracy,final_model_path)"
   ]
  },
  {
   "cell_type": "code",
   "execution_count": null,
   "metadata": {},
   "outputs": [],
   "source": [
    "prediction_output = f\"{os.getcwd()}/outputs/model51_td364/prediction\""
   ]
  },
  {
   "cell_type": "code",
   "execution_count": null,
   "metadata": {
    "colab": {
     "base_uri": "https://localhost:8080/"
    },
    "id": "w1PLe9S9BL8L",
    "outputId": "e4f3ce64-bbd6-4969-e49d-0f47dc9d6c0a"
   },
   "outputs": [],
   "source": [
    "\n",
    "\n",
    "from hot_fair_utilities import predict\n",
    "\n",
    "\n",
    "print(f\"\\n**\\n** prediction output {prediction_output}\")\n",
    "print(f\"\\n**\\n** prediction input {base_path}prediction/input\")\n",
    "predict(\n",
    "    checkpoint_path=final_model_path,\n",
    "    input_path=f\"{base_path}prediction/input\",\n",
    "    prediction_path=prediction_output,\n",
    ")"
   ]
  },
  {
   "cell_type": "code",
   "execution_count": null,
   "metadata": {
    "colab": {
     "base_uri": "https://localhost:8080/"
    },
    "id": "ho4zn_5UBgS3",
    "outputId": "afdec49e-4172-45a6-e7b6-cd34522ca7a0"
   },
   "outputs": [],
   "source": [
    "from hot_fair_utilities import polygonize\n",
    "geojson_output= f\"{prediction_output}/prediction.geojson\"\n",
    "polygonize(\n",
    "    input_path=prediction_output, \n",
    "    output_path=geojson_output,\n",
    "    remove_inputs = True,\n",
    ")"
   ]
  }
 ],
 "metadata": {
  "colab": {
   "provenance": []
  },
  "kernelspec": {
   "display_name": "fairgpu",
   "language": "python",
   "name": "python3"
  },
  "language_info": {
   "codemirror_mode": {
    "name": "ipython",
    "version": 3
   },
   "file_extension": ".py",
   "mimetype": "text/x-python",
   "name": "python",
   "nbconvert_exporter": "python",
   "pygments_lexer": "ipython3",
   "version": "3.8.18"
  }
 },
 "nbformat": 4,
 "nbformat_minor": 4
}
