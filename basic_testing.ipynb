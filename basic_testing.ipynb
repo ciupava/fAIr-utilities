{
 "cells": [
  {
   "cell_type": "code",
   "execution_count": 18,
   "metadata": {},
   "outputs": [],
   "source": [
    "# From predict.py\n",
    "# Standard library imports\n",
    "import os\n",
    "import time\n",
    "from glob import glob\n",
    "from pathlib import Path\n",
    "\n",
    "# Third party imports\n",
    "import numpy as np\n",
    "from tensorflow import keras\n",
    "\n",
    "from hot_fair_utilities.georeferencing import georeference\n",
    "from hot_fair_utilities.utils import remove_files\n",
    "from hot_fair_utilities.inference.utils import open_images, save_mask\n",
    "\n",
    "BATCH_SIZE = 8\n",
    "IMAGE_SIZE = 256\n",
    "os.environ[\"TF_CPP_MIN_LOG_LEVEL\"] = \"3\""
   ]
  },
  {
   "cell_type": "code",
   "execution_count": 19,
   "metadata": {},
   "outputs": [],
   "source": [
    "# Model import\n",
    "checkpoint_path = \"/Users/azanchetta/fAIr-utilities/ramp-data/sample_2/train/model-checkpts/20231024-112134/model_20231024-112134_002_0.852.tf\"\n",
    "model = keras.models.load_model(checkpoint_path)\n",
    "# model.summary()"
   ]
  },
  {
   "cell_type": "code",
   "execution_count": null,
   "metadata": {},
   "outputs": [],
   "source": [
    "# model.summary()  # ... very verbose"
   ]
  },
  {
   "cell_type": "code",
   "execution_count": null,
   "metadata": {},
   "outputs": [],
   "source": [
    "#  model visualisation\n",
    "# import visualkeras # this is a cooler image visualisation\n",
    "from keras.utils.vis_utils import plot_model\n",
    "plot_model(model, to_file=\"model_plot.png\", show_shapes=True, show_layer_names=True, expand_nested=True)"
   ]
  },
  {
   "cell_type": "code",
   "execution_count": 20,
   "metadata": {},
   "outputs": [
    {
     "data": {
      "text/plain": [
       "[PhysicalDevice(name='/physical_device:GPU:0', device_type='GPU')]"
      ]
     },
     "execution_count": 20,
     "metadata": {},
     "output_type": "execute_result"
    }
   ],
   "source": [
    "# test if GPU is accessed by tensorflow\n",
    "import tensorflow as tf\n",
    "tf.config.list_physical_devices('GPU')\n"
   ]
  },
  {
   "cell_type": "code",
   "execution_count": 21,
   "metadata": {},
   "outputs": [],
   "source": [
    "# trying to import more (pytorch) models\n",
    "import torch"
   ]
  },
  {
   "cell_type": "code",
   "execution_count": 22,
   "metadata": {},
   "outputs": [],
   "source": [
    "path_to_rn50unet = \"/Users/azanchetta/fAIr_GPU/models_architectures/resnet50_unet_dg.pth.tar\"\n",
    "path_to_rn101dlv3 = \"/Users/azanchetta/fAIr_GPU/models_architectures/resnet101_deeplabv3+_inria.pth.tar\"\n",
    "# model_rn50unet = torch.load(path_to_rn50unet)\n",
    "\n",
    "model_rn50unet = torch.load(path_to_rn50unet, map_location=torch.device('cpu'))\n"
   ]
  },
  {
   "cell_type": "code",
   "execution_count": 23,
   "metadata": {},
   "outputs": [
    {
     "data": {
      "text/plain": [
       "dict"
      ]
     },
     "execution_count": 23,
     "metadata": {},
     "output_type": "execute_result"
    }
   ],
   "source": [
    "type(model_rn50unet) # it's a dict"
   ]
  },
  {
   "cell_type": "code",
   "execution_count": 28,
   "metadata": {},
   "outputs": [
    {
     "ename": "NameError",
     "evalue": "name 'net' is not defined",
     "output_type": "error",
     "traceback": [
      "\u001b[0;31m---------------------------------------------------------------------------\u001b[0m",
      "\u001b[0;31mNameError\u001b[0m                                 Traceback (most recent call last)",
      "\u001b[1;32m/Users/azanchetta/fAIr_GPU/basic_testing.ipynb Cell 9\u001b[0m line \u001b[0;36m2\n\u001b[1;32m      <a href='vscode-notebook-cell:/Users/azanchetta/fAIr_GPU/basic_testing.ipynb#X11sZmlsZQ%3D%3D?line=0'>1</a>\u001b[0m checkpoint_rn50unet \u001b[39m=\u001b[39m torch\u001b[39m.\u001b[39mload(path_to_rn50unet, map_location\u001b[39m=\u001b[39mtorch\u001b[39m.\u001b[39mdevice(\u001b[39m'\u001b[39m\u001b[39mcpu\u001b[39m\u001b[39m'\u001b[39m))\n\u001b[0;32m----> <a href='vscode-notebook-cell:/Users/azanchetta/fAIr_GPU/basic_testing.ipynb#X11sZmlsZQ%3D%3D?line=1'>2</a>\u001b[0m model_rn50unet \u001b[39m=\u001b[39m net()\n\u001b[1;32m      <a href='vscode-notebook-cell:/Users/azanchetta/fAIr_GPU/basic_testing.ipynb#X11sZmlsZQ%3D%3D?line=2'>3</a>\u001b[0m model_rn50unet\u001b[39m.\u001b[39mload_state_dict(checkpoint_rn50unet[\u001b[39m'\u001b[39m\u001b[39mmodel_state_dict\u001b[39m\u001b[39m'\u001b[39m])\n\u001b[1;32m      <a href='vscode-notebook-cell:/Users/azanchetta/fAIr_GPU/basic_testing.ipynb#X11sZmlsZQ%3D%3D?line=3'>4</a>\u001b[0m \u001b[39m# optimizer.load_state_dict(checkpoint_rn50unet['optimizer'])\u001b[39;00m\n\u001b[1;32m      <a href='vscode-notebook-cell:/Users/azanchetta/fAIr_GPU/basic_testing.ipynb#X11sZmlsZQ%3D%3D?line=4'>5</a>\u001b[0m \n\u001b[1;32m      <a href='vscode-notebook-cell:/Users/azanchetta/fAIr_GPU/basic_testing.ipynb#X11sZmlsZQ%3D%3D?line=5'>6</a>\u001b[0m \n\u001b[0;32m   (...)\u001b[0m\n\u001b[1;32m     <a href='vscode-notebook-cell:/Users/azanchetta/fAIr_GPU/basic_testing.ipynb#X11sZmlsZQ%3D%3D?line=13'>14</a>\u001b[0m \u001b[39m# Epoch = CheckPoint['epoch']\u001b[39;00m\n\u001b[1;32m     <a href='vscode-notebook-cell:/Users/azanchetta/fAIr_GPU/basic_testing.ipynb#X11sZmlsZQ%3D%3D?line=14'>15</a>\u001b[0m \u001b[39m# Loss = CheckPoint['loss']\u001b[39;00m\n",
      "\u001b[0;31mNameError\u001b[0m: name 'net' is not defined"
     ]
    }
   ],
   "source": [
    "checkpoint_rn50unet = torch.load(path_to_rn50unet, map_location=torch.device('cpu'))\n",
    "model_rn50unet = net()\n",
    "model_rn50unet.load_state_dict(checkpoint_rn50unet['model_state_dict'])\n",
    "# optimizer.load_state_dict(checkpoint_rn50unet['optimizer'])\n",
    "\n",
    "\n",
    "# checkpoint = torch.load('filename.pth.tar')\n",
    "# model.load_state_dict(checkpoint['state_dict'])\n",
    "# optimizer.load_state_dict(checkpoint['optimizer'])\n",
    "\n",
    "# CheckPoint = torch.load(path)\n",
    "# models.load_state_dict(CheckPoint['model_state_dict'])\n",
    "# optimizers.load_state_dict(CheckPoint['optimizer_state_dict'])\n",
    "# Epoch = CheckPoint['epoch']\n",
    "# Loss = CheckPoint['loss']"
   ]
  },
  {
   "cell_type": "code",
   "execution_count": null,
   "metadata": {},
   "outputs": [],
   "source": [
    "checkpoint_rn50unet['state_dict']"
   ]
  },
  {
   "cell_type": "code",
   "execution_count": null,
   "metadata": {},
   "outputs": [],
   "source": [
    "checkpoint_rn50unet['optimizer']"
   ]
  },
  {
   "cell_type": "code",
   "execution_count": null,
   "metadata": {},
   "outputs": [],
   "source": []
  }
 ],
 "metadata": {
  "kernelspec": {
   "display_name": "fairtest",
   "language": "python",
   "name": "python3"
  },
  "language_info": {
   "codemirror_mode": {
    "name": "ipython",
    "version": 3
   },
   "file_extension": ".py",
   "mimetype": "text/x-python",
   "name": "python",
   "nbconvert_exporter": "python",
   "pygments_lexer": "ipython3",
   "version": "3.9.18"
  }
 },
 "nbformat": 4,
 "nbformat_minor": 2
}
