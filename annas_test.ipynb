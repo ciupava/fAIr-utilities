{
 "cells": [
  {
   "cell_type": "markdown",
   "metadata": {},
   "source": [
    "# Tests on YoloV8 for fAIr\n",
    "Using model V2 from Omdena results"
   ]
  },
  {
   "cell_type": "code",
   "execution_count": null,
   "metadata": {},
   "outputs": [],
   "source": [
    "# Standard library imports\n",
    "import os\n",
    "import time\n",
    "import warnings\n",
    "import ultralytics\n",
    "\n",
    "os.environ.update(os.environ)\n",
    "os.environ[\"RAMP_HOME\"] = os.getcwd()"
   ]
  },
  {
   "cell_type": "code",
   "execution_count": null,
   "metadata": {},
   "outputs": [],
   "source": [
    "# Reader import\n",
    "from hot_fair_utilities import polygonize, predict, preprocess\n",
    "from hot_fair_utilities.preprocessing.yolo_v8_v2.yolo_format import yolo_format\n",
    "from hot_fair_utilities.training.yolo_v8_v2.train import train as train_yolo\n",
    "\n",
    "warnings.simplefilter(action=\"ignore\", category=FutureWarning)\n",
    "\n"
   ]
  }
 ],
 "metadata": {
  "kernelspec": {
   "display_name": "base",
   "language": "python",
   "name": "python3"
  },
  "language_info": {
   "name": "python",
   "version": "3.8.5"
  }
 },
 "nbformat": 4,
 "nbformat_minor": 2
}
