{
 "cells": [
  {
   "cell_type": "markdown",
   "metadata": {},
   "source": [
    "# Tests on YoloV8 for fAIr\n",
    "Using model V2 from Omdena results.\n",
    "Mocking `test_yolo_v2.py`"
   ]
  },
  {
   "cell_type": "code",
   "execution_count": 1,
   "metadata": {},
   "outputs": [],
   "source": [
    "# Standard library imports\n",
    "import os\n",
    "import time\n",
    "import warnings\n",
    "import ultralytics\n",
    "\n",
    "os.environ.update(os.environ)\n",
    "os.environ[\"RAMP_HOME\"] = os.getcwd()"
   ]
  },
  {
   "cell_type": "code",
   "execution_count": null,
   "metadata": {},
   "outputs": [
    {
     "name": "stdout",
     "output_type": "stream",
     "text": [
      "Ramp eval metrics are not available, Possibly ramp is not installed\n"
     ]
    }
   ],
   "source": [
    "# Reader imports\n",
    "from hot_fair_utilities import polygonize, predict, preprocess\n",
    "from hot_fair_utilities.preprocessing.yolo_v8_v2.yolo_format_anna import yolo_format\n",
    "from hot_fair_utilities.training.yolo_v8_v2.train import train as train_yolo\n",
    "\n",
    "warnings.simplefilter(action=\"ignore\", category=FutureWarning)\n"
   ]
  },
  {
   "cell_type": "code",
   "execution_count": null,
   "metadata": {},
   "outputs": [
    {
     "name": "stderr",
     "output_type": "stream",
     "text": [
      "Georeferencing for input: 100%|██████████| 147/147 [00:02<00:00, 53.04it/s]\n",
      "Clipping labels for input: 100%|██████████| 147/147 [00:11<00:00, 12.49it/s]"
     ]
    },
    {
     "name": "stdout",
     "output_type": "stream",
     "text": [
      "preprocessing took 15.71 seconds\n"
     ]
    },
    {
     "name": "stderr",
     "output_type": "stream",
     "text": [
      "\n"
     ]
    }
   ],
   "source": [
    "# base_path = f\"{os.getcwd()}/ramp-data/sample_2\"\n",
    "base_path = \"/Users/azanchetta/fAIr_metric/training_results\"\n",
    "cities_list = \"model51_td364\"\n",
    "# CHANGE PATH ACCORDING TO DATA STRUCTURE\n",
    "\n",
    "# CALL FUNCTION FOR SELECTING THE FILES ACCORDING TO RAMP INPUT (will be in `test_fn.py`)\n",
    "\n",
    "# Looping through the cities list, and check per each folder that tiles number is consistent, and the shapes too\n",
    "for city in cities_list:\n",
    "  city_folder_name = f'{base_path}/{city}'\n",
    "  print(f'\\n---\\nNow working on {city}\\n---')\n",
    "\n",
    "\n",
    "class print_time:\n",
    "    def __init__(self, name):\n",
    "        self.name = name\n",
    "\n",
    "    def __enter__(self):\n",
    "        self.start = time.perf_counter()\n",
    "        return self\n",
    "\n",
    "    def __exit__(self, type, value, traceback):\n",
    "        print(f\"{self.name} took {round(time.perf_counter() - self.start, 2)} seconds\")\n",
    "\n",
    "\n",
    "start_time = time.time()\n",
    "\n",
    "### SKIP fAIr processing, we already have the images ready\n",
    "# model_input_image_path = f\"{base_path}/input\"\n",
    "# preprocess_output = f\"{base_path}/Yolo/preprocessed\"\n",
    "# with print_time(\"preprocessing\"):\n",
    "#     preprocess(\n",
    "#         input_path=model_input_image_path,\n",
    "#         output_path=preprocess_output,\n",
    "#         rasterize=True,\n",
    "#         rasterize_options=[\"binary\"],\n",
    "#         georeference_images=True,\n",
    "#         multimasks=False,\n",
    "#         epsg=4326\n",
    "#     )\n",
    "\n",
    "yolo_data_dir = f\"{base_path}/yolo_v2\"\n",
    "\n",
    "with print_time(\"yolo conversion\"):\n",
    "    yolo_format(\n",
    "        input_path=preprocess_output,\n",
    "        output_path=yolo_data_dir,\n",
    "    )\n"
   ]
  },
  {
   "cell_type": "code",
   "execution_count": null,
   "metadata": {},
   "outputs": [],
   "source": [
    "# Training\n",
    "\n",
    "output_model_path,output_model_iou_accuracy = train_yolo(\n",
    "    data=f\"{base_path}\",\n",
    "    weights=f\"{os.getcwd()}/yolov8s_v2-seg.pt\", \n",
    "    # gpu=\"cpu\",\n",
    "    epochs=2,\n",
    "    batch_size=16,\n",
    "    pc=2.0,\n",
    "    output_path=yolo_data_dir,\n",
    "    dataset_yaml_path=os.path.join(yolo_data_dir,'yolo_dataset.yaml')\n",
    ")\n",
    "print(output_model_iou_accuracy)\n"
   ]
  },
  {
   "cell_type": "code",
   "execution_count": null,
   "metadata": {},
   "outputs": [],
   "source": [
    "# Prediction\n",
    "prediction_output = f\"{base_path}/prediction/output\"\n",
    "# model_path = f\"{output_path}/weights/best.pt\"\n",
    "with print_time(\"inference\"):\n",
    "    predict(\n",
    "        checkpoint_path=output_model_path,\n",
    "        input_path=f\"{base_path}/prediction/input\",\n",
    "        prediction_path=prediction_output,\n",
    "    )"
   ]
  }
 ],
 "metadata": {
  "kernelspec": {
   "display_name": "env",
   "language": "python",
   "name": "python3"
  },
  "language_info": {
   "codemirror_mode": {
    "name": "ipython",
    "version": 3
   },
   "file_extension": ".py",
   "mimetype": "text/x-python",
   "name": "python",
   "nbconvert_exporter": "python",
   "pygments_lexer": "ipython3",
   "version": "3.12.4"
  }
 },
 "nbformat": 4,
 "nbformat_minor": 2
}
