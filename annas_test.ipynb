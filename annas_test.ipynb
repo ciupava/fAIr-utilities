{
 "cells": [
  {
   "cell_type": "markdown",
   "metadata": {},
   "source": [
    "# Tests on YoloV8 for fAIr\n",
    "Using model V2 from Omdena results.\n",
    "Mocking `test_yolo_v2.py`"
   ]
  },
  {
   "cell_type": "markdown",
   "metadata": {},
   "source": [
    "## Data import and variables definition"
   ]
  },
  {
   "cell_type": "code",
   "execution_count": 29,
   "metadata": {},
   "outputs": [],
   "source": [
    "# Standard library imports\n",
    "import os\n",
    "import time\n",
    "import warnings\n",
    "import ultralytics\n",
    "import yaml\n",
    "import csv\n",
    "import pandas as pd\n",
    "\n",
    "os.environ.update(os.environ)\n",
    "os.environ[\"RAMP_HOME\"] = os.getcwd()"
   ]
  },
  {
   "cell_type": "code",
   "execution_count": 12,
   "metadata": {},
   "outputs": [],
   "source": [
    "# Reader imports\n",
    "from hot_fair_utilities import polygonize, predict, preprocess\n",
    "from hot_fair_utilities.preprocessing.yolo_v8_v2.yolo_format_anna import yolo_format\n",
    "from hot_fair_utilities.training.yolo_v8_v2 import train as train_yolo\n",
    "\n",
    "warnings.simplefilter(action=\"ignore\", category=FutureWarning)\n"
   ]
  },
  {
   "cell_type": "code",
   "execution_count": 69,
   "metadata": {},
   "outputs": [],
   "source": [
    "# Define basic variables\n",
    "# base_path = f\"{os.getcwd()}/ramp-data/sample_2\"\n",
    "base_path = '/Users/azanchetta/fAIr_metric'\n",
    "data_path = f'{base_path}/training_results'\n",
    "preprocessed_ramp_data_path=f'{base_path}/metric_data'\n",
    "k_data_path = f'{base_path}/anna-dataset' # this has been added for dealing with Kshiitj's data\n",
    "#  Obtain cities list folders name in data folder\n",
    "# cities_list = ['modelfake', 'model149_td489'] # sample of names, for tests\n",
    "cities_list= [ item for item in os.listdir(preprocessed_ramp_data_path) if os.path.isdir(os.path.join(preprocessed_ramp_data_path, item)) ]\n",
    "datasets_list = cities_list= [ item for item in os.listdir(k_data_path) if os.path.isdir(os.path.join(k_data_path, item)) ]  # this has been added for dealing with Kshiitj's data"
   ]
  },
  {
   "cell_type": "code",
   "execution_count": null,
   "metadata": {},
   "outputs": [],
   "source": [
    "print(len(cities_list))\n",
    "for i in cities_list:\n",
    "    print(i)"
   ]
  },
  {
   "cell_type": "code",
   "execution_count": 14,
   "metadata": {},
   "outputs": [],
   "source": [
    "\n",
    "class print_time:\n",
    "    def __init__(self, name):\n",
    "        self.name = name\n",
    "\n",
    "    def __enter__(self):\n",
    "        self.start = time.perf_counter()\n",
    "        return self\n",
    "\n",
    "    def __exit__(self, type, value, traceback):\n",
    "        print(f\"{self.name} took {round(time.perf_counter() - self.start, 2)} seconds\")\n",
    "\n",
    "start_time = time.time()"
   ]
  },
  {
   "cell_type": "markdown",
   "metadata": {},
   "source": [
    "---\n",
    "\n",
    "ONLY RUN THE CELL BELOW ONCE\n",
    "\n",
    "## Generate Yolo format input files\n",
    "Note: need to re-run the preprocessing, can't use the preprocessed Ramp data"
   ]
  },
  {
   "cell_type": "markdown",
   "metadata": {},
   "source": [
    "We have a problem with the data, as in the only data I have is the ramp preprocessed one. I can't run the yolo pre-processing on my own, so Kshiitj sent preprocessed data (he done that in the backend).\n",
    "\n",
    "`anna-dataset` has this structure:\n",
    "```model name\n",
    "    |\n",
    "     - preprocessed\n",
    "        |\n",
    "         - binarymasks/\n",
    "         - chips/\n",
    "         - inputs/\n",
    "         - labels/\n",
    "     - yolo_v1 \n",
    "        |\n",
    "         - images/\n",
    "         - labels/\n",
    "         - yolo_dataset.yaml\n",
    "```\n",
    "\n",
    "I need to restructure this to be consistent with my folder structure... or could just decide to use it like it is :P\n",
    "\n",
    "**IMPORTANT** I need to rerun the preprocessing anyways, because the division train/val/test must be the same as ramp\n",
    "\n",
    "--- renaming the folder `yolo_v2_dataset` "
   ]
  },
  {
   "cell_type": "code",
   "execution_count": null,
   "metadata": {},
   "outputs": [],
   "source": [
    "#  importing csv file, for LUT with models / training dataset / dataset codes\n",
    "lut_csvfile = f'{base_path}/cities_lut.csv'\n",
    "# with open(lut_csvfile) as csv_file:\n",
    "#     lut = csv.reader(csv_file)\n",
    "\n",
    "lut = pd.read_csv(lut_csvfile,\n",
    "                  )"
   ]
  },
  {
   "cell_type": "code",
   "execution_count": 32,
   "metadata": {},
   "outputs": [
    {
     "data": {
      "text/html": [
       "<div>\n",
       "<style scoped>\n",
       "    .dataframe tbody tr th:only-of-type {\n",
       "        vertical-align: middle;\n",
       "    }\n",
       "\n",
       "    .dataframe tbody tr th {\n",
       "        vertical-align: top;\n",
       "    }\n",
       "\n",
       "    .dataframe thead th {\n",
       "        text-align: right;\n",
       "    }\n",
       "</style>\n",
       "<table border=\"1\" class=\"dataframe\">\n",
       "  <thead>\n",
       "    <tr style=\"text-align: right;\">\n",
       "      <th></th>\n",
       "      <th>id</th>\n",
       "      <th>id_model</th>\n",
       "      <th>id_train</th>\n",
       "      <th>ds_size</th>\n",
       "      <th>urban_region</th>\n",
       "      <th>country</th>\n",
       "      <th>continent</th>\n",
       "      <th>id_dataset</th>\n",
       "      <th>urban_type</th>\n",
       "      <th>density</th>\n",
       "      <th>roof_type</th>\n",
       "    </tr>\n",
       "  </thead>\n",
       "  <tbody>\n",
       "    <tr>\n",
       "      <th>0</th>\n",
       "      <td>1</td>\n",
       "      <td>51</td>\n",
       "      <td>364</td>\n",
       "      <td>399</td>\n",
       "      <td>Kakuma</td>\n",
       "      <td>Kenya</td>\n",
       "      <td>Africa</td>\n",
       "      <td>58</td>\n",
       "      <td>refugee camp</td>\n",
       "      <td>sparse</td>\n",
       "      <td>metal</td>\n",
       "    </tr>\n",
       "    <tr>\n",
       "      <th>1</th>\n",
       "      <td>2</td>\n",
       "      <td>95</td>\n",
       "      <td>370</td>\n",
       "      <td>168</td>\n",
       "      <td>Denver</td>\n",
       "      <td>USA</td>\n",
       "      <td>America North</td>\n",
       "      <td>135</td>\n",
       "      <td>peri-urban</td>\n",
       "      <td>grid</td>\n",
       "      <td>shingles</td>\n",
       "    </tr>\n",
       "    <tr>\n",
       "      <th>2</th>\n",
       "      <td>3</td>\n",
       "      <td>97</td>\n",
       "      <td>372</td>\n",
       "      <td>420</td>\n",
       "      <td>Montevideo</td>\n",
       "      <td>Uruguay</td>\n",
       "      <td>America South</td>\n",
       "      <td>137</td>\n",
       "      <td>urban</td>\n",
       "      <td>grid</td>\n",
       "      <td>cement</td>\n",
       "    </tr>\n",
       "    <tr>\n",
       "      <th>3</th>\n",
       "      <td>4</td>\n",
       "      <td>98</td>\n",
       "      <td>373</td>\n",
       "      <td>399</td>\n",
       "      <td>Montevideo dense</td>\n",
       "      <td>Uruguay</td>\n",
       "      <td>America South</td>\n",
       "      <td>138</td>\n",
       "      <td>urban</td>\n",
       "      <td>dense</td>\n",
       "      <td>cement</td>\n",
       "    </tr>\n",
       "    <tr>\n",
       "      <th>4</th>\n",
       "      <td>5</td>\n",
       "      <td>102</td>\n",
       "      <td>391</td>\n",
       "      <td>231</td>\n",
       "      <td>Kutupalong</td>\n",
       "      <td>Bangladesh</td>\n",
       "      <td>Asia</td>\n",
       "      <td>144</td>\n",
       "      <td>refugee camp</td>\n",
       "      <td>dense</td>\n",
       "      <td>mixed</td>\n",
       "    </tr>\n",
       "  </tbody>\n",
       "</table>\n",
       "</div>"
      ],
      "text/plain": [
       "   id  id_model  id_train  ds_size      urban_region     country  \\\n",
       "0   1        51       364      399            Kakuma       Kenya   \n",
       "1   2        95       370      168            Denver         USA   \n",
       "2   3        97       372      420        Montevideo     Uruguay   \n",
       "3   4        98       373      399  Montevideo dense     Uruguay   \n",
       "4   5       102       391      231        Kutupalong  Bangladesh   \n",
       "\n",
       "       continent  id_dataset    urban_type density roof_type  \n",
       "0         Africa          58  refugee camp  sparse     metal  \n",
       "1  America North         135    peri-urban    grid  shingles  \n",
       "2  America South         137         urban    grid    cement  \n",
       "3  America South         138         urban   dense    cement  \n",
       "4           Asia         144  refugee camp   dense     mixed  "
      ]
     },
     "execution_count": 32,
     "metadata": {},
     "output_type": "execute_result"
    }
   ],
   "source": [
    "lut.head()"
   ]
  },
  {
   "cell_type": "code",
   "execution_count": null,
   "metadata": {},
   "outputs": [],
   "source": [
    "print(lut.dtypes)"
   ]
  },
  {
   "cell_type": "code",
   "execution_count": null,
   "metadata": {},
   "outputs": [],
   "source": [
    "lut = lut.astype(str) # convert them all to string, for later"
   ]
  },
  {
   "cell_type": "code",
   "execution_count": 68,
   "metadata": {},
   "outputs": [
    {
     "data": {
      "text/plain": [
       "['dataset_489']"
      ]
     },
     "execution_count": 68,
     "metadata": {},
     "output_type": "execute_result"
    }
   ],
   "source": [
    "datasets_list"
   ]
  },
  {
   "cell_type": "code",
   "execution_count": 72,
   "metadata": {},
   "outputs": [
    {
     "name": "stdout",
     "output_type": "stream",
     "text": [
      "dataset dataset_205 and dataset_name 205\n",
      "model 149, td 489, dataset 205\n"
     ]
    }
   ],
   "source": [
    "for dataset in datasets_list:\n",
    "    dataset_name = dataset.split(\"_\")[1]\n",
    "    print(f'dataset {dataset} and dataset_name {dataset_name}')\n",
    "    model_name = lut.loc[lut['id_dataset'] == dataset_name, 'id_model'].values[0] # without the values bit, you get a whole piece of dataframe\n",
    "    td_name = lut.loc[lut['id_dataset'] == dataset_name, 'id_train'].values[0]\n",
    "    print(f'model {model_name}, td {td_name}, dataset {dataset_name}')"
   ]
  },
  {
   "cell_type": "code",
   "execution_count": 71,
   "metadata": {},
   "outputs": [],
   "source": [
    "# cities_list = ['modelfake', 'model149_td489'] # sample of names, for tests\n",
    "datasets_list = ['dataset_205']"
   ]
  },
  {
   "cell_type": "code",
   "execution_count": 76,
   "metadata": {},
   "outputs": [
    {
     "name": "stdout",
     "output_type": "stream",
     "text": [
      "_________\n",
      "Dataset dataset_205, model 149, training dataset 489\n",
      "\n",
      "\n",
      "---\n",
      "Now working on model149_td489\n",
      "---\n",
      "city is model149_td489\n",
      "\n",
      "___ Starting yolo files conversion\n",
      "\n",
      "\n",
      "---\n",
      "data_dirs are /Users/azanchetta/fAIr_metric/anna-dataset/dataset_205/preprocessed\n",
      "CSV path is /Users/azanchetta/fAIr_metric/training_results/model149_td489/train/fair_split_train.csv\n",
      "this is the list from the csv file:\n",
      "[['/home/annazan/fAIr-utilities/ramp-data/metric_data/model149_td489/train/chips/OAM-1238662-1047076-21.tif'], ['/home/annazan/fAIr-utilities/ramp-data/metric_data/model149_td489/train/chips/OAM-1238662-1047078-21.tif'], ['/home/annazan/fAIr-utilities/ramp-data/metric_data/model149_td489/train/chips/OAM-309672-261767-19.tif'], ['/home/annazan/fAIr-utilities/ramp-data/metric_data/model149_td489/train/chips/OAM-1238666-1047079-21.tif'], ['/home/annazan/fAIr-utilities/ramp-data/metric_data/model149_td489/train/chips/OAM-1238689-1047089-21.tif'], ['/home/annazan/fAIr-utilities/ramp-data/metric_data/model149_td489/train/chips/OAM-1238663-1047077-21.tif'], ['/home/annazan/fAIr-utilities/ramp-data/metric_data/model149_td489/train/chips/OAM-1238664-1047078-21.tif'], ['/home/annazan/fAIr-utilities/ramp-data/metric_data/model149_td489/train/chips/OAM-1238692-1047070-21.tif'], ['/home/annazan/fAIr-utilities/ramp-data/metric_data/model149_td489/train/chips/OAM-1238691-1047088-21.tif'], ['/home/annazan/fAIr-utilities/ramp-data/metric_data/model149_td489/train/chips/OAM-1238667-1047076-21.tif'], ['/home/annazan/fAIr-utilities/ramp-data/metric_data/model149_td489/train/chips/OAM-1238689-1047090-21.tif'], ['/home/annazan/fAIr-utilities/ramp-data/metric_data/model149_td489/train/chips/OAM-1238666-1047075-21.tif'], ['/home/annazan/fAIr-utilities/ramp-data/metric_data/model149_td489/train/chips/OAM-1238666-1047077-21.tif'], ['/home/annazan/fAIr-utilities/ramp-data/metric_data/model149_td489/train/chips/OAM-1238664-1047075-21.tif'], ['/home/annazan/fAIr-utilities/ramp-data/metric_data/model149_td489/train/chips/OAM-619344-523545-20.tif'], ['/home/annazan/fAIr-utilities/ramp-data/metric_data/model149_td489/train/chips/OAM-1238667-1047073-21.tif'], ['/home/annazan/fAIr-utilities/ramp-data/metric_data/model149_td489/train/chips/OAM-1238689-1047068-21.tif'], ['/home/annazan/fAIr-utilities/ramp-data/metric_data/model149_td489/train/chips/OAM-309673-261767-19.tif'], ['/home/annazan/fAIr-utilities/ramp-data/metric_data/model149_td489/train/chips/OAM-619330-523538-20.tif'], ['/home/annazan/fAIr-utilities/ramp-data/metric_data/model149_td489/train/chips/OAM-1238665-1047074-21.tif'], ['/home/annazan/fAIr-utilities/ramp-data/metric_data/model149_td489/train/chips/OAM-1238663-1047078-21.tif'], ['/home/annazan/fAIr-utilities/ramp-data/metric_data/model149_td489/train/chips/OAM-1238695-1047068-21.tif'], ['/home/annazan/fAIr-utilities/ramp-data/metric_data/model149_td489/train/chips/OAM-1238660-1047076-21.tif'], ['/home/annazan/fAIr-utilities/ramp-data/metric_data/model149_td489/train/chips/OAM-619332-523537-20.tif'], ['/home/annazan/fAIr-utilities/ramp-data/metric_data/model149_td489/train/chips/OAM-1238661-1047074-21.tif'], ['/home/annazan/fAIr-utilities/ramp-data/metric_data/model149_td489/train/chips/OAM-1238688-1047088-21.tif'], ['/home/annazan/fAIr-utilities/ramp-data/metric_data/model149_td489/train/chips/OAM-619344-523535-20.tif'], ['/home/annazan/fAIr-utilities/ramp-data/metric_data/model149_td489/train/chips/OAM-1238690-1047089-21.tif'], ['/home/annazan/fAIr-utilities/ramp-data/metric_data/model149_td489/train/chips/OAM-1238663-1047074-21.tif'], ['/home/annazan/fAIr-utilities/ramp-data/metric_data/model149_td489/train/chips/OAM-309672-261772-19.tif'], ['/home/annazan/fAIr-utilities/ramp-data/metric_data/model149_td489/train/chips/OAM-619347-523534-20.tif'], ['/home/annazan/fAIr-utilities/ramp-data/metric_data/model149_td489/train/chips/OAM-1238693-1047070-21.tif'], ['/home/annazan/fAIr-utilities/ramp-data/metric_data/model149_td489/train/chips/OAM-1238663-1047079-21.tif'], ['/home/annazan/fAIr-utilities/ramp-data/metric_data/model149_td489/train/chips/OAM-1238691-1047090-21.tif'], ['/home/annazan/fAIr-utilities/ramp-data/metric_data/model149_td489/train/chips/OAM-619333-523536-20.tif'], ['/home/annazan/fAIr-utilities/ramp-data/metric_data/model149_td489/train/chips/OAM-1238691-1047069-21.tif'], ['/home/annazan/fAIr-utilities/ramp-data/metric_data/model149_td489/train/chips/OAM-1238688-1047068-21.tif'], ['/home/annazan/fAIr-utilities/ramp-data/metric_data/model149_td489/train/chips/OAM-1238690-1047090-21.tif'], ['/home/annazan/fAIr-utilities/ramp-data/metric_data/model149_td489/train/chips/OAM-1238661-1047079-21.tif'], ['/home/annazan/fAIr-utilities/ramp-data/metric_data/model149_td489/train/chips/OAM-1238692-1047068-21.tif'], ['/home/annazan/fAIr-utilities/ramp-data/metric_data/model149_td489/train/chips/OAM-1238690-1047071-21.tif'], ['/home/annazan/fAIr-utilities/ramp-data/metric_data/model149_td489/train/chips/OAM-1238664-1047073-21.tif'], ['/home/annazan/fAIr-utilities/ramp-data/metric_data/model149_td489/train/chips/OAM-1238660-1047072-21.tif'], ['/home/annazan/fAIr-utilities/ramp-data/metric_data/model149_td489/train/chips/OAM-1238660-1047078-21.tif'], ['/home/annazan/fAIr-utilities/ramp-data/metric_data/model149_td489/train/chips/OAM-1238690-1047069-21.tif'], ['/home/annazan/fAIr-utilities/ramp-data/metric_data/model149_td489/train/chips/OAM-1238667-1047077-21.tif'], ['/home/annazan/fAIr-utilities/ramp-data/metric_data/model149_td489/train/chips/OAM-309665-261769-19.tif'], ['/home/annazan/fAIr-utilities/ramp-data/metric_data/model149_td489/train/chips/OAM-1238661-1047076-21.tif'], ['/home/annazan/fAIr-utilities/ramp-data/metric_data/model149_td489/train/chips/OAM-1238664-1047074-21.tif'], ['/home/annazan/fAIr-utilities/ramp-data/metric_data/model149_td489/train/chips/OAM-1238690-1047088-21.tif'], ['/home/annazan/fAIr-utilities/ramp-data/metric_data/model149_td489/train/chips/OAM-619332-523539-20.tif'], ['/home/annazan/fAIr-utilities/ramp-data/metric_data/model149_td489/train/chips/OAM-1238662-1047074-21.tif'], ['/home/annazan/fAIr-utilities/ramp-data/metric_data/model149_td489/train/chips/OAM-1238662-1047073-21.tif'], ['/home/annazan/fAIr-utilities/ramp-data/metric_data/model149_td489/train/chips/OAM-1238691-1047091-21.tif'], ['/home/annazan/fAIr-utilities/ramp-data/metric_data/model149_td489/train/chips/OAM-309665-261768-19.tif'], ['/home/annazan/fAIr-utilities/ramp-data/metric_data/model149_td489/train/chips/OAM-1238665-1047079-21.tif'], ['/home/annazan/fAIr-utilities/ramp-data/metric_data/model149_td489/train/chips/OAM-1238692-1047069-21.tif'], ['/home/annazan/fAIr-utilities/ramp-data/metric_data/model149_td489/train/chips/OAM-619333-523538-20.tif'], ['/home/annazan/fAIr-utilities/ramp-data/metric_data/model149_td489/train/chips/OAM-309666-261768-19.tif'], ['/home/annazan/fAIr-utilities/ramp-data/metric_data/model149_td489/train/chips/OAM-1238661-1047077-21.tif'], ['/home/annazan/fAIr-utilities/ramp-data/metric_data/model149_td489/train/chips/OAM-1238688-1047070-21.tif'], ['/home/annazan/fAIr-utilities/ramp-data/metric_data/model149_td489/train/chips/OAM-1238689-1047071-21.tif'], ['/home/annazan/fAIr-utilities/ramp-data/metric_data/model149_td489/train/chips/OAM-1238666-1047076-21.tif'], ['/home/annazan/fAIr-utilities/ramp-data/metric_data/model149_td489/train/chips/OAM-1238660-1047075-21.tif'], ['/home/annazan/fAIr-utilities/ramp-data/metric_data/model149_td489/train/chips/OAM-1238666-1047072-21.tif'], ['/home/annazan/fAIr-utilities/ramp-data/metric_data/model149_td489/train/chips/OAM-1238688-1047069-21.tif'], ['/home/annazan/fAIr-utilities/ramp-data/metric_data/model149_td489/train/chips/OAM-1238666-1047078-21.tif'], ['/home/annazan/fAIr-utilities/ramp-data/metric_data/model149_td489/train/chips/OAM-619345-523545-20.tif'], ['/home/annazan/fAIr-utilities/ramp-data/metric_data/model149_td489/train/chips/OAM-1238661-1047073-21.tif'], ['/home/annazan/fAIr-utilities/ramp-data/metric_data/model149_td489/train/chips/OAM-1238660-1047079-21.tif'], ['/home/annazan/fAIr-utilities/ramp-data/metric_data/model149_td489/train/chips/OAM-1238690-1047091-21.tif'], ['/home/annazan/fAIr-utilities/ramp-data/metric_data/model149_td489/train/chips/OAM-1238690-1047068-21.tif'], ['/home/annazan/fAIr-utilities/ramp-data/metric_data/model149_td489/train/chips/OAM-1238664-1047076-21.tif'], ['/home/annazan/fAIr-utilities/ramp-data/metric_data/model149_td489/train/chips/OAM-1238661-1047072-21.tif'], ['/home/annazan/fAIr-utilities/ramp-data/metric_data/model149_td489/train/chips/OAM-1238664-1047077-21.tif'], ['/home/annazan/fAIr-utilities/ramp-data/metric_data/model149_td489/train/chips/OAM-619330-523536-20.tif'], ['/home/annazan/fAIr-utilities/ramp-data/metric_data/model149_td489/train/chips/OAM-1238662-1047072-21.tif'], ['/home/annazan/fAIr-utilities/ramp-data/metric_data/model149_td489/train/chips/OAM-619333-523537-20.tif'], ['/home/annazan/fAIr-utilities/ramp-data/metric_data/model149_td489/train/chips/OAM-1238660-1047074-21.tif'], ['/home/annazan/fAIr-utilities/ramp-data/metric_data/model149_td489/train/chips/OAM-1238695-1047070-21.tif'], ['/home/annazan/fAIr-utilities/ramp-data/metric_data/model149_td489/train/chips/OAM-1238663-1047073-21.tif'], ['/home/annazan/fAIr-utilities/ramp-data/metric_data/model149_td489/train/chips/OAM-619346-523534-20.tif'], ['/home/annazan/fAIr-utilities/ramp-data/metric_data/model149_td489/train/chips/OAM-619347-523535-20.tif'], ['/home/annazan/fAIr-utilities/ramp-data/metric_data/model149_td489/train/chips/OAM-619332-523536-20.tif'], ['/home/annazan/fAIr-utilities/ramp-data/metric_data/model149_td489/train/chips/OAM-1238688-1047091-21.tif'], ['/home/annazan/fAIr-utilities/ramp-data/metric_data/model149_td489/train/chips/OAM-619345-523534-20.tif'], ['/home/annazan/fAIr-utilities/ramp-data/metric_data/model149_td489/train/chips/OAM-619331-523537-20.tif'], ['/home/annazan/fAIr-utilities/ramp-data/metric_data/model149_td489/train/chips/OAM-1238691-1047071-21.tif'], ['/home/annazan/fAIr-utilities/ramp-data/metric_data/model149_td489/train/chips/OAM-1238688-1047071-21.tif'], ['/home/annazan/fAIr-utilities/ramp-data/metric_data/model149_td489/train/chips/OAM-1238662-1047077-21.tif'], ['/home/annazan/fAIr-utilities/ramp-data/metric_data/model149_td489/train/chips/OAM-1238693-1047068-21.tif'], ['/home/annazan/fAIr-utilities/ramp-data/metric_data/model149_td489/train/chips/OAM-1238660-1047077-21.tif'], ['/home/annazan/fAIr-utilities/ramp-data/metric_data/model149_td489/train/chips/OAM-1238691-1047070-21.tif'], ['/home/annazan/fAIr-utilities/ramp-data/metric_data/model149_td489/train/chips/OAM-1238667-1047079-21.tif'], ['/home/annazan/fAIr-utilities/ramp-data/metric_data/model149_td489/train/chips/OAM-1238666-1047074-21.tif'], ['/home/annazan/fAIr-utilities/ramp-data/metric_data/model149_td489/train/chips/OAM-619330-523539-20.tif'], ['/home/annazan/fAIr-utilities/ramp-data/metric_data/model149_td489/train/chips/OAM-1238663-1047075-21.tif'], ['/home/annazan/fAIr-utilities/ramp-data/metric_data/model149_td489/train/chips/OAM-619344-523544-20.tif'], ['/home/annazan/fAIr-utilities/ramp-data/metric_data/model149_td489/train/chips/OAM-1238689-1047070-21.tif'], ['/home/annazan/fAIr-utilities/ramp-data/metric_data/model149_td489/train/chips/OAM-619333-523539-20.tif'], ['/home/annazan/fAIr-utilities/ramp-data/metric_data/model149_td489/train/chips/OAM-1238694-1047068-21.tif'], ['/home/annazan/fAIr-utilities/ramp-data/metric_data/model149_td489/train/chips/OAM-1238695-1047069-21.tif'], ['/home/annazan/fAIr-utilities/ramp-data/metric_data/model149_td489/train/chips/OAM-1238690-1047070-21.tif']]\n",
      "\n",
      "length of csv files list is 103\n",
      "_______________\n",
      "\n",
      "294\n",
      "\n",
      "Length of cwps is 103\n",
      "They are these ['/Users/azanchetta/fAIr_metric/anna-dataset/dataset_205/preprocessed/chips/OAM-1238666-1047075-21.tif', '/Users/azanchetta/fAIr_metric/anna-dataset/dataset_205/preprocessed/chips/OAM-1238662-1047073-21.tif', '/Users/azanchetta/fAIr_metric/anna-dataset/dataset_205/preprocessed/chips/OAM-1238690-1047069-21.tif', '/Users/azanchetta/fAIr_metric/anna-dataset/dataset_205/preprocessed/chips/OAM-1238666-1047079-21.tif', '/Users/azanchetta/fAIr_metric/anna-dataset/dataset_205/preprocessed/chips/OAM-1238667-1047077-21.tif', '/Users/azanchetta/fAIr_metric/anna-dataset/dataset_205/preprocessed/chips/OAM-1238689-1047071-21.tif', '/Users/azanchetta/fAIr_metric/anna-dataset/dataset_205/preprocessed/chips/OAM-1238661-1047079-21.tif', '/Users/azanchetta/fAIr_metric/anna-dataset/dataset_205/preprocessed/chips/OAM-1238690-1047088-21.tif', '/Users/azanchetta/fAIr_metric/anna-dataset/dataset_205/preprocessed/chips/OAM-619332-523537-20.tif', '/Users/azanchetta/fAIr_metric/anna-dataset/dataset_205/preprocessed/chips/OAM-1238689-1047090-21.tif', '/Users/azanchetta/fAIr_metric/anna-dataset/dataset_205/preprocessed/chips/OAM-1238660-1047077-21.tif', '/Users/azanchetta/fAIr_metric/anna-dataset/dataset_205/preprocessed/chips/OAM-1238661-1047077-21.tif', '/Users/azanchetta/fAIr_metric/anna-dataset/dataset_205/preprocessed/chips/OAM-619332-523539-20.tif', '/Users/azanchetta/fAIr_metric/anna-dataset/dataset_205/preprocessed/chips/OAM-1238660-1047075-21.tif', '/Users/azanchetta/fAIr_metric/anna-dataset/dataset_205/preprocessed/chips/OAM-619331-523537-20.tif', '/Users/azanchetta/fAIr_metric/anna-dataset/dataset_205/preprocessed/chips/OAM-1238664-1047073-21.tif', '/Users/azanchetta/fAIr_metric/anna-dataset/dataset_205/preprocessed/chips/OAM-1238691-1047088-21.tif', '/Users/azanchetta/fAIr_metric/anna-dataset/dataset_205/preprocessed/chips/OAM-1238660-1047079-21.tif', '/Users/azanchetta/fAIr_metric/anna-dataset/dataset_205/preprocessed/chips/OAM-1238688-1047071-21.tif', '/Users/azanchetta/fAIr_metric/anna-dataset/dataset_205/preprocessed/chips/OAM-1238666-1047077-21.tif', '/Users/azanchetta/fAIr_metric/anna-dataset/dataset_205/preprocessed/chips/OAM-1238667-1047079-21.tif', '/Users/azanchetta/fAIr_metric/anna-dataset/dataset_205/preprocessed/chips/OAM-1238691-1047069-21.tif', '/Users/azanchetta/fAIr_metric/anna-dataset/dataset_205/preprocessed/chips/OAM-1238663-1047073-21.tif', '/Users/azanchetta/fAIr_metric/anna-dataset/dataset_205/preprocessed/chips/OAM-1238664-1047077-21.tif', '/Users/azanchetta/fAIr_metric/anna-dataset/dataset_205/preprocessed/chips/OAM-619347-523534-20.tif', '/Users/azanchetta/fAIr_metric/anna-dataset/dataset_205/preprocessed/chips/OAM-1238661-1047073-21.tif', '/Users/azanchetta/fAIr_metric/anna-dataset/dataset_205/preprocessed/chips/OAM-1238665-1047079-21.tif', '/Users/azanchetta/fAIr_metric/anna-dataset/dataset_205/preprocessed/chips/OAM-1238690-1047090-21.tif', '/Users/azanchetta/fAIr_metric/anna-dataset/dataset_205/preprocessed/chips/OAM-309672-261767-19.tif', '/Users/azanchetta/fAIr_metric/anna-dataset/dataset_205/preprocessed/chips/OAM-1238663-1047077-21.tif', '/Users/azanchetta/fAIr_metric/anna-dataset/dataset_205/preprocessed/chips/OAM-619333-523538-20.tif', '/Users/azanchetta/fAIr_metric/anna-dataset/dataset_205/preprocessed/chips/OAM-1238690-1047071-21.tif', '/Users/azanchetta/fAIr_metric/anna-dataset/dataset_205/preprocessed/chips/OAM-619330-523536-20.tif', '/Users/azanchetta/fAIr_metric/anna-dataset/dataset_205/preprocessed/chips/OAM-1238667-1047073-21.tif', '/Users/azanchetta/fAIr_metric/anna-dataset/dataset_205/preprocessed/chips/OAM-1238695-1047069-21.tif', '/Users/azanchetta/fAIr_metric/anna-dataset/dataset_205/preprocessed/chips/OAM-1238663-1047079-21.tif', '/Users/azanchetta/fAIr_metric/anna-dataset/dataset_205/preprocessed/chips/OAM-1238691-1047071-21.tif', '/Users/azanchetta/fAIr_metric/anna-dataset/dataset_205/preprocessed/chips/OAM-1238663-1047075-21.tif', '/Users/azanchetta/fAIr_metric/anna-dataset/dataset_205/preprocessed/chips/OAM-1238662-1047077-21.tif', '/Users/azanchetta/fAIr_metric/anna-dataset/dataset_205/preprocessed/chips/OAM-619333-523536-20.tif', '/Users/azanchetta/fAIr_metric/anna-dataset/dataset_205/preprocessed/chips/OAM-1238688-1047069-21.tif', '/Users/azanchetta/fAIr_metric/anna-dataset/dataset_205/preprocessed/chips/OAM-619330-523538-20.tif', '/Users/azanchetta/fAIr_metric/anna-dataset/dataset_205/preprocessed/chips/OAM-1238692-1047069-21.tif', '/Users/azanchetta/fAIr_metric/anna-dataset/dataset_205/preprocessed/chips/OAM-1238664-1047075-21.tif', '/Users/azanchetta/fAIr_metric/anna-dataset/dataset_205/preprocessed/chips/OAM-619344-523545-20.tif', '/Users/azanchetta/fAIr_metric/anna-dataset/dataset_205/preprocessed/chips/OAM-1238691-1047090-21.tif', '/Users/azanchetta/fAIr_metric/anna-dataset/dataset_205/preprocessed/chips/OAM-309665-261769-19.tif', '/Users/azanchetta/fAIr_metric/anna-dataset/dataset_205/preprocessed/chips/OAM-1238688-1047088-21.tif', '/Users/azanchetta/fAIr_metric/anna-dataset/dataset_205/preprocessed/chips/OAM-619332-523536-20.tif', '/Users/azanchetta/fAIr_metric/anna-dataset/dataset_205/preprocessed/chips/OAM-1238660-1047076-21.tif', '/Users/azanchetta/fAIr_metric/anna-dataset/dataset_205/preprocessed/chips/OAM-1238693-1047070-21.tif', '/Users/azanchetta/fAIr_metric/anna-dataset/dataset_205/preprocessed/chips/OAM-1238661-1047074-21.tif', '/Users/azanchetta/fAIr_metric/anna-dataset/dataset_205/preprocessed/chips/OAM-309672-261772-19.tif', '/Users/azanchetta/fAIr_metric/anna-dataset/dataset_205/preprocessed/chips/OAM-1238690-1047089-21.tif', '/Users/azanchetta/fAIr_metric/anna-dataset/dataset_205/preprocessed/chips/OAM-1238689-1047070-21.tif', '/Users/azanchetta/fAIr_metric/anna-dataset/dataset_205/preprocessed/chips/OAM-1238667-1047076-21.tif', '/Users/azanchetta/fAIr_metric/anna-dataset/dataset_205/preprocessed/chips/OAM-619345-523545-20.tif', '/Users/azanchetta/fAIr_metric/anna-dataset/dataset_205/preprocessed/chips/OAM-1238666-1047074-21.tif', '/Users/azanchetta/fAIr_metric/anna-dataset/dataset_205/preprocessed/chips/OAM-1238666-1047078-21.tif', '/Users/azanchetta/fAIr_metric/anna-dataset/dataset_205/preprocessed/chips/OAM-1238690-1047068-21.tif', '/Users/azanchetta/fAIr_metric/anna-dataset/dataset_205/preprocessed/chips/OAM-1238662-1047072-21.tif', '/Users/azanchetta/fAIr_metric/anna-dataset/dataset_205/preprocessed/chips/OAM-619345-523534-20.tif', '/Users/azanchetta/fAIr_metric/anna-dataset/dataset_205/preprocessed/chips/OAM-1238695-1047070-21.tif', '/Users/azanchetta/fAIr_metric/anna-dataset/dataset_205/preprocessed/chips/OAM-309673-261767-19.tif', '/Users/azanchetta/fAIr_metric/anna-dataset/dataset_205/preprocessed/chips/OAM-619346-523534-20.tif', '/Users/azanchetta/fAIr_metric/anna-dataset/dataset_205/preprocessed/chips/OAM-1238666-1047076-21.tif', '/Users/azanchetta/fAIr_metric/anna-dataset/dataset_205/preprocessed/chips/OAM-1238688-1047070-21.tif', '/Users/azanchetta/fAIr_metric/anna-dataset/dataset_205/preprocessed/chips/OAM-1238660-1047074-21.tif', '/Users/azanchetta/fAIr_metric/anna-dataset/dataset_205/preprocessed/chips/OAM-1238692-1047070-21.tif', '/Users/azanchetta/fAIr_metric/anna-dataset/dataset_205/preprocessed/chips/OAM-1238660-1047078-21.tif', '/Users/azanchetta/fAIr_metric/anna-dataset/dataset_205/preprocessed/chips/OAM-1238688-1047091-21.tif', '/Users/azanchetta/fAIr_metric/anna-dataset/dataset_205/preprocessed/chips/OAM-1238661-1047076-21.tif', '/Users/azanchetta/fAIr_metric/anna-dataset/dataset_205/preprocessed/chips/OAM-1238666-1047072-21.tif', '/Users/azanchetta/fAIr_metric/anna-dataset/dataset_205/preprocessed/chips/OAM-1238694-1047068-21.tif', '/Users/azanchetta/fAIr_metric/anna-dataset/dataset_205/preprocessed/chips/OAM-1238662-1047078-21.tif', '/Users/azanchetta/fAIr_metric/anna-dataset/dataset_205/preprocessed/chips/OAM-1238690-1047070-21.tif', '/Users/azanchetta/fAIr_metric/anna-dataset/dataset_205/preprocessed/chips/OAM-1238662-1047074-21.tif', '/Users/azanchetta/fAIr_metric/anna-dataset/dataset_205/preprocessed/chips/OAM-619333-523539-20.tif', '/Users/azanchetta/fAIr_metric/anna-dataset/dataset_205/preprocessed/chips/OAM-1238689-1047068-21.tif', '/Users/azanchetta/fAIr_metric/anna-dataset/dataset_205/preprocessed/chips/OAM-1238693-1047068-21.tif', '/Users/azanchetta/fAIr_metric/anna-dataset/dataset_205/preprocessed/chips/OAM-1238661-1047072-21.tif', '/Users/azanchetta/fAIr_metric/anna-dataset/dataset_205/preprocessed/chips/OAM-309666-261768-19.tif', '/Users/azanchetta/fAIr_metric/anna-dataset/dataset_205/preprocessed/chips/OAM-1238665-1047074-21.tif', '/Users/azanchetta/fAIr_metric/anna-dataset/dataset_205/preprocessed/chips/OAM-1238690-1047091-21.tif', '/Users/azanchetta/fAIr_metric/anna-dataset/dataset_205/preprocessed/chips/OAM-619347-523535-20.tif', '/Users/azanchetta/fAIr_metric/anna-dataset/dataset_205/preprocessed/chips/OAM-1238664-1047076-21.tif', '/Users/azanchetta/fAIr_metric/anna-dataset/dataset_205/preprocessed/chips/OAM-1238689-1047089-21.tif', '/Users/azanchetta/fAIr_metric/anna-dataset/dataset_205/preprocessed/chips/OAM-309665-261768-19.tif', '/Users/azanchetta/fAIr_metric/anna-dataset/dataset_205/preprocessed/chips/OAM-1238660-1047072-21.tif', '/Users/azanchetta/fAIr_metric/anna-dataset/dataset_205/preprocessed/chips/OAM-619344-523535-20.tif', '/Users/azanchetta/fAIr_metric/anna-dataset/dataset_205/preprocessed/chips/OAM-1238692-1047068-21.tif', '/Users/azanchetta/fAIr_metric/anna-dataset/dataset_205/preprocessed/chips/OAM-1238664-1047078-21.tif', '/Users/azanchetta/fAIr_metric/anna-dataset/dataset_205/preprocessed/chips/OAM-1238691-1047091-21.tif', '/Users/azanchetta/fAIr_metric/anna-dataset/dataset_205/preprocessed/chips/OAM-1238664-1047074-21.tif', '/Users/azanchetta/fAIr_metric/anna-dataset/dataset_205/preprocessed/chips/OAM-619344-523544-20.tif', '/Users/azanchetta/fAIr_metric/anna-dataset/dataset_205/preprocessed/chips/OAM-1238662-1047076-21.tif', '/Users/azanchetta/fAIr_metric/anna-dataset/dataset_205/preprocessed/chips/OAM-619330-523539-20.tif', '/Users/azanchetta/fAIr_metric/anna-dataset/dataset_205/preprocessed/chips/OAM-1238688-1047068-21.tif', '/Users/azanchetta/fAIr_metric/anna-dataset/dataset_205/preprocessed/chips/OAM-619333-523537-20.tif', '/Users/azanchetta/fAIr_metric/anna-dataset/dataset_205/preprocessed/chips/OAM-1238663-1047078-21.tif', '/Users/azanchetta/fAIr_metric/anna-dataset/dataset_205/preprocessed/chips/OAM-1238695-1047068-21.tif', '/Users/azanchetta/fAIr_metric/anna-dataset/dataset_205/preprocessed/chips/OAM-1238663-1047074-21.tif', '/Users/azanchetta/fAIr_metric/anna-dataset/dataset_205/preprocessed/chips/OAM-1238691-1047070-21.tif']\n",
      "len of geojson files is 148\n",
      "\n",
      "Length of lwps is 103\n",
      "They are these ['/Users/azanchetta/fAIr_metric/anna-dataset/dataset_205/preprocessed/labels/OAM-1238662-1047072-21.geojson', '/Users/azanchetta/fAIr_metric/anna-dataset/dataset_205/preprocessed/labels/OAM-1238661-1047077-21.geojson', '/Users/azanchetta/fAIr_metric/anna-dataset/dataset_205/preprocessed/labels/OAM-619344-523545-20.geojson', '/Users/azanchetta/fAIr_metric/anna-dataset/dataset_205/preprocessed/labels/OAM-1238660-1047074-21.geojson', '/Users/azanchetta/fAIr_metric/anna-dataset/dataset_205/preprocessed/labels/OAM-1238664-1047075-21.geojson', '/Users/azanchetta/fAIr_metric/anna-dataset/dataset_205/preprocessed/labels/OAM-1238688-1047071-21.geojson', '/Users/azanchetta/fAIr_metric/anna-dataset/dataset_205/preprocessed/labels/OAM-1238690-1047090-21.geojson', '/Users/azanchetta/fAIr_metric/anna-dataset/dataset_205/preprocessed/labels/OAM-1238692-1047069-21.geojson', '/Users/azanchetta/fAIr_metric/anna-dataset/dataset_205/preprocessed/labels/OAM-1238664-1047078-21.geojson', '/Users/azanchetta/fAIr_metric/anna-dataset/dataset_205/preprocessed/labels/OAM-1238660-1047079-21.geojson', '/Users/azanchetta/fAIr_metric/anna-dataset/dataset_205/preprocessed/labels/OAM-619346-523534-20.geojson', '/Users/azanchetta/fAIr_metric/anna-dataset/dataset_205/preprocessed/labels/OAM-1238691-1047070-21.geojson', '/Users/azanchetta/fAIr_metric/anna-dataset/dataset_205/preprocessed/labels/OAM-1238695-1047068-21.geojson', '/Users/azanchetta/fAIr_metric/anna-dataset/dataset_205/preprocessed/labels/OAM-1238663-1047079-21.geojson', '/Users/azanchetta/fAIr_metric/anna-dataset/dataset_205/preprocessed/labels/OAM-619333-523538-20.geojson', '/Users/azanchetta/fAIr_metric/anna-dataset/dataset_205/preprocessed/labels/OAM-1238691-1047069-21.geojson', '/Users/azanchetta/fAIr_metric/anna-dataset/dataset_205/preprocessed/labels/OAM-1238692-1047070-21.geojson', '/Users/azanchetta/fAIr_metric/anna-dataset/dataset_205/preprocessed/labels/OAM-619345-523545-20.geojson', '/Users/azanchetta/fAIr_metric/anna-dataset/dataset_205/preprocessed/labels/OAM-1238688-1047068-21.geojson', '/Users/azanchetta/fAIr_metric/anna-dataset/dataset_205/preprocessed/labels/OAM-1238690-1047089-21.geojson', '/Users/azanchetta/fAIr_metric/anna-dataset/dataset_205/preprocessed/labels/OAM-1238666-1047076-21.geojson', '/Users/azanchetta/fAIr_metric/anna-dataset/dataset_205/preprocessed/labels/OAM-1238662-1047077-21.geojson', '/Users/azanchetta/fAIr_metric/anna-dataset/dataset_205/preprocessed/labels/OAM-1238663-1047074-21.geojson', '/Users/azanchetta/fAIr_metric/anna-dataset/dataset_205/preprocessed/labels/OAM-309665-261768-19.geojson', '/Users/azanchetta/fAIr_metric/anna-dataset/dataset_205/preprocessed/labels/OAM-1238661-1047072-21.geojson', '/Users/azanchetta/fAIr_metric/anna-dataset/dataset_205/preprocessed/labels/OAM-619347-523534-20.geojson', '/Users/azanchetta/fAIr_metric/anna-dataset/dataset_205/preprocessed/labels/OAM-619331-523537-20.geojson', '/Users/azanchetta/fAIr_metric/anna-dataset/dataset_205/preprocessed/labels/OAM-619330-523538-20.geojson', '/Users/azanchetta/fAIr_metric/anna-dataset/dataset_205/preprocessed/labels/OAM-1238665-1047074-21.geojson', '/Users/azanchetta/fAIr_metric/anna-dataset/dataset_205/preprocessed/labels/OAM-1238660-1047076-21.geojson', '/Users/azanchetta/fAIr_metric/anna-dataset/dataset_205/preprocessed/labels/OAM-1238664-1047077-21.geojson', '/Users/azanchetta/fAIr_metric/anna-dataset/dataset_205/preprocessed/labels/OAM-1238663-1047073-21.geojson', '/Users/azanchetta/fAIr_metric/anna-dataset/dataset_205/preprocessed/labels/OAM-1238690-1047071-21.geojson', '/Users/azanchetta/fAIr_metric/anna-dataset/dataset_205/preprocessed/labels/OAM-1238665-1047079-21.geojson', '/Users/azanchetta/fAIr_metric/anna-dataset/dataset_205/preprocessed/labels/OAM-1238693-1047068-21.geojson', '/Users/azanchetta/fAIr_metric/anna-dataset/dataset_205/preprocessed/labels/OAM-309672-261772-19.geojson', '/Users/azanchetta/fAIr_metric/anna-dataset/dataset_205/preprocessed/labels/OAM-1238691-1047091-21.geojson', '/Users/azanchetta/fAIr_metric/anna-dataset/dataset_205/preprocessed/labels/OAM-1238689-1047070-21.geojson', '/Users/azanchetta/fAIr_metric/anna-dataset/dataset_205/preprocessed/labels/OAM-309666-261768-19.geojson', '/Users/azanchetta/fAIr_metric/anna-dataset/dataset_205/preprocessed/labels/OAM-619332-523537-20.geojson', '/Users/azanchetta/fAIr_metric/anna-dataset/dataset_205/preprocessed/labels/OAM-1238691-1047088-21.geojson', '/Users/azanchetta/fAIr_metric/anna-dataset/dataset_205/preprocessed/labels/OAM-1238662-1047078-21.geojson', '/Users/azanchetta/fAIr_metric/anna-dataset/dataset_205/preprocessed/labels/OAM-1238666-1047079-21.geojson', '/Users/azanchetta/fAIr_metric/anna-dataset/dataset_205/preprocessed/labels/OAM-1238690-1047068-21.geojson', '/Users/azanchetta/fAIr_metric/anna-dataset/dataset_205/preprocessed/labels/OAM-1238666-1047074-21.geojson', '/Users/azanchetta/fAIr_metric/anna-dataset/dataset_205/preprocessed/labels/OAM-619345-523534-20.geojson', '/Users/azanchetta/fAIr_metric/anna-dataset/dataset_205/preprocessed/labels/OAM-1238667-1047077-21.geojson', '/Users/azanchetta/fAIr_metric/anna-dataset/dataset_205/preprocessed/labels/OAM-619333-523537-20.geojson', '/Users/azanchetta/fAIr_metric/anna-dataset/dataset_205/preprocessed/labels/OAM-1238695-1047069-21.geojson', '/Users/azanchetta/fAIr_metric/anna-dataset/dataset_205/preprocessed/labels/OAM-1238663-1047078-21.geojson', '/Users/azanchetta/fAIr_metric/anna-dataset/dataset_205/preprocessed/labels/OAM-619333-523539-20.geojson', '/Users/azanchetta/fAIr_metric/anna-dataset/dataset_205/preprocessed/labels/OAM-1238689-1047089-21.geojson', '/Users/azanchetta/fAIr_metric/anna-dataset/dataset_205/preprocessed/labels/OAM-1238667-1047079-21.geojson', '/Users/azanchetta/fAIr_metric/anna-dataset/dataset_205/preprocessed/labels/OAM-1238690-1047088-21.geojson', '/Users/azanchetta/fAIr_metric/anna-dataset/dataset_205/preprocessed/labels/OAM-1238688-1047069-21.geojson', '/Users/azanchetta/fAIr_metric/anna-dataset/dataset_205/preprocessed/labels/OAM-1238663-1047075-21.geojson', '/Users/azanchetta/fAIr_metric/anna-dataset/dataset_205/preprocessed/labels/OAM-1238666-1047077-21.geojson', '/Users/azanchetta/fAIr_metric/anna-dataset/dataset_205/preprocessed/labels/OAM-1238662-1047076-21.geojson', '/Users/azanchetta/fAIr_metric/anna-dataset/dataset_205/preprocessed/labels/OAM-309665-261769-19.geojson', '/Users/azanchetta/fAIr_metric/anna-dataset/dataset_205/preprocessed/labels/OAM-1238661-1047073-21.geojson', '/Users/azanchetta/fAIr_metric/anna-dataset/dataset_205/preprocessed/labels/OAM-619347-523535-20.geojson', '/Users/azanchetta/fAIr_metric/anna-dataset/dataset_205/preprocessed/labels/OAM-1238666-1047072-21.geojson', '/Users/azanchetta/fAIr_metric/anna-dataset/dataset_205/preprocessed/labels/OAM-1238662-1047073-21.geojson', '/Users/azanchetta/fAIr_metric/anna-dataset/dataset_205/preprocessed/labels/OAM-619332-523539-20.geojson', '/Users/azanchetta/fAIr_metric/anna-dataset/dataset_205/preprocessed/labels/OAM-1238660-1047075-21.geojson', '/Users/azanchetta/fAIr_metric/anna-dataset/dataset_205/preprocessed/labels/OAM-1238664-1047074-21.geojson', '/Users/azanchetta/fAIr_metric/anna-dataset/dataset_205/preprocessed/labels/OAM-1238661-1047076-21.geojson', '/Users/azanchetta/fAIr_metric/anna-dataset/dataset_205/preprocessed/labels/OAM-619344-523544-20.geojson', '/Users/azanchetta/fAIr_metric/anna-dataset/dataset_205/preprocessed/labels/OAM-1238690-1047091-21.geojson', '/Users/azanchetta/fAIr_metric/anna-dataset/dataset_205/preprocessed/labels/OAM-1238688-1047070-21.geojson', '/Users/azanchetta/fAIr_metric/anna-dataset/dataset_205/preprocessed/labels/OAM-1238695-1047070-21.geojson', '/Users/azanchetta/fAIr_metric/anna-dataset/dataset_205/preprocessed/labels/OAM-619330-523536-20.geojson', '/Users/azanchetta/fAIr_metric/anna-dataset/dataset_205/preprocessed/labels/OAM-1238691-1047071-21.geojson', '/Users/azanchetta/fAIr_metric/anna-dataset/dataset_205/preprocessed/labels/OAM-1238689-1047090-21.geojson', '/Users/azanchetta/fAIr_metric/anna-dataset/dataset_205/preprocessed/labels/OAM-1238692-1047068-21.geojson', '/Users/azanchetta/fAIr_metric/anna-dataset/dataset_205/preprocessed/labels/OAM-1238660-1047078-21.geojson', '/Users/azanchetta/fAIr_metric/anna-dataset/dataset_205/preprocessed/labels/OAM-1238689-1047068-21.geojson', '/Users/azanchetta/fAIr_metric/anna-dataset/dataset_205/preprocessed/labels/OAM-1238694-1047068-21.geojson', '/Users/azanchetta/fAIr_metric/anna-dataset/dataset_205/preprocessed/labels/OAM-1238666-1047078-21.geojson', '/Users/azanchetta/fAIr_metric/anna-dataset/dataset_205/preprocessed/labels/OAM-1238688-1047088-21.geojson', '/Users/azanchetta/fAIr_metric/anna-dataset/dataset_205/preprocessed/labels/OAM-1238690-1047069-21.geojson', '/Users/azanchetta/fAIr_metric/anna-dataset/dataset_205/preprocessed/labels/OAM-1238693-1047070-21.geojson', '/Users/azanchetta/fAIr_metric/anna-dataset/dataset_205/preprocessed/labels/OAM-1238660-1047072-21.geojson', '/Users/azanchetta/fAIr_metric/anna-dataset/dataset_205/preprocessed/labels/OAM-1238664-1047073-21.geojson', '/Users/azanchetta/fAIr_metric/anna-dataset/dataset_205/preprocessed/labels/OAM-309672-261767-19.geojson', '/Users/azanchetta/fAIr_metric/anna-dataset/dataset_205/preprocessed/labels/OAM-1238667-1047076-21.geojson', '/Users/azanchetta/fAIr_metric/anna-dataset/dataset_205/preprocessed/labels/OAM-619333-523536-20.geojson', '/Users/azanchetta/fAIr_metric/anna-dataset/dataset_205/preprocessed/labels/OAM-1238663-1047077-21.geojson', '/Users/azanchetta/fAIr_metric/anna-dataset/dataset_205/preprocessed/labels/OAM-1238666-1047075-21.geojson', '/Users/azanchetta/fAIr_metric/anna-dataset/dataset_205/preprocessed/labels/OAM-1238662-1047074-21.geojson', '/Users/azanchetta/fAIr_metric/anna-dataset/dataset_205/preprocessed/labels/OAM-1238660-1047077-21.geojson', '/Users/azanchetta/fAIr_metric/anna-dataset/dataset_205/preprocessed/labels/OAM-1238664-1047076-21.geojson', '/Users/azanchetta/fAIr_metric/anna-dataset/dataset_205/preprocessed/labels/OAM-1238661-1047074-21.geojson', '/Users/azanchetta/fAIr_metric/anna-dataset/dataset_205/preprocessed/labels/OAM-619330-523539-20.geojson', '/Users/azanchetta/fAIr_metric/anna-dataset/dataset_205/preprocessed/labels/OAM-1238667-1047073-21.geojson', '/Users/azanchetta/fAIr_metric/anna-dataset/dataset_205/preprocessed/labels/OAM-1238661-1047079-21.geojson', '/Users/azanchetta/fAIr_metric/anna-dataset/dataset_205/preprocessed/labels/OAM-1238688-1047091-21.geojson', '/Users/azanchetta/fAIr_metric/anna-dataset/dataset_205/preprocessed/labels/OAM-1238690-1047070-21.geojson', '/Users/azanchetta/fAIr_metric/anna-dataset/dataset_205/preprocessed/labels/OAM-619344-523535-20.geojson', '/Users/azanchetta/fAIr_metric/anna-dataset/dataset_205/preprocessed/labels/OAM-309673-261767-19.geojson', '/Users/azanchetta/fAIr_metric/anna-dataset/dataset_205/preprocessed/labels/OAM-619332-523536-20.geojson', '/Users/azanchetta/fAIr_metric/anna-dataset/dataset_205/preprocessed/labels/OAM-1238689-1047071-21.geojson', '/Users/azanchetta/fAIr_metric/anna-dataset/dataset_205/preprocessed/labels/OAM-1238691-1047090-21.geojson']\n",
      "\n",
      "---\n",
      "data_dirs are /Users/azanchetta/fAIr_metric/anna-dataset/dataset_205/preprocessed\n",
      "CSV path is /Users/azanchetta/fAIr_metric/training_results/model149_td489/train/fair_split_val.csv\n",
      "this is the list from the csv file:\n",
      "[['/home/annazan/fAIr-utilities/ramp-data/metric_data/model149_td489/train/chips/OAM-619344-523534-20.tif'], ['/home/annazan/fAIr-utilities/ramp-data/metric_data/model149_td489/train/chips/OAM-1238667-1047072-21.tif'], ['/home/annazan/fAIr-utilities/ramp-data/metric_data/model149_td489/train/chips/OAM-1238661-1047075-21.tif'], ['/home/annazan/fAIr-utilities/ramp-data/metric_data/model149_td489/train/chips/OAM-1238689-1047088-21.tif'], ['/home/annazan/fAIr-utilities/ramp-data/metric_data/model149_td489/train/chips/OAM-1238693-1047071-21.tif'], ['/home/annazan/fAIr-utilities/ramp-data/metric_data/model149_td489/train/chips/OAM-1238664-1047072-21.tif'], ['/home/annazan/fAIr-utilities/ramp-data/metric_data/model149_td489/train/chips/OAM-1238666-1047073-21.tif'], ['/home/annazan/fAIr-utilities/ramp-data/metric_data/model149_td489/train/chips/OAM-619331-523539-20.tif'], ['/home/annazan/fAIr-utilities/ramp-data/metric_data/model149_td489/train/chips/OAM-1238665-1047072-21.tif'], ['/home/annazan/fAIr-utilities/ramp-data/metric_data/model149_td489/train/chips/OAM-1238665-1047076-21.tif'], ['/home/annazan/fAIr-utilities/ramp-data/metric_data/model149_td489/train/chips/OAM-1238661-1047078-21.tif'], ['/home/annazan/fAIr-utilities/ramp-data/metric_data/model149_td489/train/chips/OAM-1238688-1047090-21.tif'], ['/home/annazan/fAIr-utilities/ramp-data/metric_data/model149_td489/train/chips/OAM-1238693-1047069-21.tif'], ['/home/annazan/fAIr-utilities/ramp-data/metric_data/model149_td489/train/chips/OAM-1238692-1047071-21.tif'], ['/home/annazan/fAIr-utilities/ramp-data/metric_data/model149_td489/train/chips/OAM-1238662-1047079-21.tif'], ['/home/annazan/fAIr-utilities/ramp-data/metric_data/model149_td489/train/chips/OAM-1238694-1047071-21.tif'], ['/home/annazan/fAIr-utilities/ramp-data/metric_data/model149_td489/train/chips/OAM-619331-523536-20.tif'], ['/home/annazan/fAIr-utilities/ramp-data/metric_data/model149_td489/train/chips/OAM-1238660-1047073-21.tif'], ['/home/annazan/fAIr-utilities/ramp-data/metric_data/model149_td489/train/chips/OAM-619345-523544-20.tif'], ['/home/annazan/fAIr-utilities/ramp-data/metric_data/model149_td489/train/chips/OAM-1238664-1047079-21.tif'], ['/home/annazan/fAIr-utilities/ramp-data/metric_data/model149_td489/train/chips/OAM-1238695-1047071-21.tif'], ['/home/annazan/fAIr-utilities/ramp-data/metric_data/model149_td489/train/chips/OAM-619330-523537-20.tif']]\n",
      "\n",
      "length of csv files list is 22\n",
      "_______________\n",
      "\n",
      "294\n",
      "\n",
      "Length of cwps is 22\n",
      "They are these ['/Users/azanchetta/fAIr_metric/anna-dataset/dataset_205/preprocessed/chips/OAM-1238694-1047071-21.tif', '/Users/azanchetta/fAIr_metric/anna-dataset/dataset_205/preprocessed/chips/OAM-619345-523544-20.tif', '/Users/azanchetta/fAIr_metric/anna-dataset/dataset_205/preprocessed/chips/OAM-1238661-1047075-21.tif', '/Users/azanchetta/fAIr_metric/anna-dataset/dataset_205/preprocessed/chips/OAM-1238693-1047071-21.tif', '/Users/azanchetta/fAIr_metric/anna-dataset/dataset_205/preprocessed/chips/OAM-619331-523539-20.tif', '/Users/azanchetta/fAIr_metric/anna-dataset/dataset_205/preprocessed/chips/OAM-1238688-1047090-21.tif', '/Users/azanchetta/fAIr_metric/anna-dataset/dataset_205/preprocessed/chips/OAM-1238692-1047071-21.tif', '/Users/azanchetta/fAIr_metric/anna-dataset/dataset_205/preprocessed/chips/OAM-1238695-1047071-21.tif', '/Users/azanchetta/fAIr_metric/anna-dataset/dataset_205/preprocessed/chips/OAM-1238689-1047088-21.tif', '/Users/azanchetta/fAIr_metric/anna-dataset/dataset_205/preprocessed/chips/OAM-1238693-1047069-21.tif', '/Users/azanchetta/fAIr_metric/anna-dataset/dataset_205/preprocessed/chips/OAM-1238662-1047079-21.tif', '/Users/azanchetta/fAIr_metric/anna-dataset/dataset_205/preprocessed/chips/OAM-1238666-1047073-21.tif', '/Users/azanchetta/fAIr_metric/anna-dataset/dataset_205/preprocessed/chips/OAM-1238664-1047079-21.tif', '/Users/azanchetta/fAIr_metric/anna-dataset/dataset_205/preprocessed/chips/OAM-619344-523534-20.tif', '/Users/azanchetta/fAIr_metric/anna-dataset/dataset_205/preprocessed/chips/OAM-1238660-1047073-21.tif', '/Users/azanchetta/fAIr_metric/anna-dataset/dataset_205/preprocessed/chips/OAM-1238665-1047072-21.tif', '/Users/azanchetta/fAIr_metric/anna-dataset/dataset_205/preprocessed/chips/OAM-1238661-1047078-21.tif', '/Users/azanchetta/fAIr_metric/anna-dataset/dataset_205/preprocessed/chips/OAM-619331-523536-20.tif', '/Users/azanchetta/fAIr_metric/anna-dataset/dataset_205/preprocessed/chips/OAM-1238664-1047072-21.tif', '/Users/azanchetta/fAIr_metric/anna-dataset/dataset_205/preprocessed/chips/OAM-619330-523537-20.tif', '/Users/azanchetta/fAIr_metric/anna-dataset/dataset_205/preprocessed/chips/OAM-1238665-1047076-21.tif', '/Users/azanchetta/fAIr_metric/anna-dataset/dataset_205/preprocessed/chips/OAM-1238667-1047072-21.tif']\n",
      "len of geojson files is 148\n",
      "\n",
      "Length of lwps is 22\n",
      "They are these ['/Users/azanchetta/fAIr_metric/anna-dataset/dataset_205/preprocessed/labels/OAM-1238666-1047073-21.geojson', '/Users/azanchetta/fAIr_metric/anna-dataset/dataset_205/preprocessed/labels/OAM-1238665-1047076-21.geojson', '/Users/azanchetta/fAIr_metric/anna-dataset/dataset_205/preprocessed/labels/OAM-1238695-1047071-21.geojson', '/Users/azanchetta/fAIr_metric/anna-dataset/dataset_205/preprocessed/labels/OAM-619330-523537-20.geojson', '/Users/azanchetta/fAIr_metric/anna-dataset/dataset_205/preprocessed/labels/OAM-1238689-1047088-21.geojson', '/Users/azanchetta/fAIr_metric/anna-dataset/dataset_205/preprocessed/labels/OAM-1238661-1047075-21.geojson', '/Users/azanchetta/fAIr_metric/anna-dataset/dataset_205/preprocessed/labels/OAM-1238667-1047072-21.geojson', '/Users/azanchetta/fAIr_metric/anna-dataset/dataset_205/preprocessed/labels/OAM-1238688-1047090-21.geojson', '/Users/azanchetta/fAIr_metric/anna-dataset/dataset_205/preprocessed/labels/OAM-1238661-1047078-21.geojson', '/Users/azanchetta/fAIr_metric/anna-dataset/dataset_205/preprocessed/labels/OAM-619344-523534-20.geojson', '/Users/azanchetta/fAIr_metric/anna-dataset/dataset_205/preprocessed/labels/OAM-1238693-1047071-21.geojson', '/Users/azanchetta/fAIr_metric/anna-dataset/dataset_205/preprocessed/labels/OAM-1238660-1047073-21.geojson', '/Users/azanchetta/fAIr_metric/anna-dataset/dataset_205/preprocessed/labels/OAM-1238664-1047072-21.geojson', '/Users/azanchetta/fAIr_metric/anna-dataset/dataset_205/preprocessed/labels/OAM-1238692-1047071-21.geojson', '/Users/azanchetta/fAIr_metric/anna-dataset/dataset_205/preprocessed/labels/OAM-619345-523544-20.geojson', '/Users/azanchetta/fAIr_metric/anna-dataset/dataset_205/preprocessed/labels/OAM-619331-523536-20.geojson', '/Users/azanchetta/fAIr_metric/anna-dataset/dataset_205/preprocessed/labels/OAM-1238665-1047072-21.geojson', '/Users/azanchetta/fAIr_metric/anna-dataset/dataset_205/preprocessed/labels/OAM-1238664-1047079-21.geojson', '/Users/azanchetta/fAIr_metric/anna-dataset/dataset_205/preprocessed/labels/OAM-619331-523539-20.geojson', '/Users/azanchetta/fAIr_metric/anna-dataset/dataset_205/preprocessed/labels/OAM-1238662-1047079-21.geojson', '/Users/azanchetta/fAIr_metric/anna-dataset/dataset_205/preprocessed/labels/OAM-1238693-1047069-21.geojson', '/Users/azanchetta/fAIr_metric/anna-dataset/dataset_205/preprocessed/labels/OAM-1238694-1047071-21.geojson']\n",
      "\n",
      "---\n",
      "data_dirs are /Users/azanchetta/fAIr_metric/anna-dataset/dataset_205/preprocessed\n",
      "CSV path is /Users/azanchetta/fAIr_metric/training_results/model149_td489/train/fair_split_pred.csv\n",
      "this is the list from the csv file:\n",
      "[['/home/annazan/fAIr-utilities/ramp-data/metric_data/model149_td489/train/chips/OAM-1238691-1047068-21.tif'], ['/home/annazan/fAIr-utilities/ramp-data/metric_data/model149_td489/train/chips/OAM-1238694-1047070-21.tif'], ['/home/annazan/fAIr-utilities/ramp-data/metric_data/model149_td489/train/chips/OAM-1238665-1047075-21.tif'], ['/home/annazan/fAIr-utilities/ramp-data/metric_data/model149_td489/train/chips/OAM-1238665-1047078-21.tif'], ['/home/annazan/fAIr-utilities/ramp-data/metric_data/model149_td489/train/chips/OAM-619345-523535-20.tif'], ['/home/annazan/fAIr-utilities/ramp-data/metric_data/model149_td489/train/chips/OAM-619332-523538-20.tif'], ['/home/annazan/fAIr-utilities/ramp-data/metric_data/model149_td489/train/chips/OAM-1238663-1047076-21.tif'], ['/home/annazan/fAIr-utilities/ramp-data/metric_data/model149_td489/train/chips/OAM-309666-261769-19.tif'], ['/home/annazan/fAIr-utilities/ramp-data/metric_data/model149_td489/train/chips/OAM-619346-523535-20.tif'], ['/home/annazan/fAIr-utilities/ramp-data/metric_data/model149_td489/train/chips/OAM-1238667-1047074-21.tif'], ['/home/annazan/fAIr-utilities/ramp-data/metric_data/model149_td489/train/chips/OAM-1238688-1047089-21.tif'], ['/home/annazan/fAIr-utilities/ramp-data/metric_data/model149_td489/train/chips/OAM-1238689-1047091-21.tif'], ['/home/annazan/fAIr-utilities/ramp-data/metric_data/model149_td489/train/chips/OAM-1238663-1047072-21.tif'], ['/home/annazan/fAIr-utilities/ramp-data/metric_data/model149_td489/train/chips/OAM-1238689-1047069-21.tif'], ['/home/annazan/fAIr-utilities/ramp-data/metric_data/model149_td489/train/chips/OAM-1238665-1047073-21.tif'], ['/home/annazan/fAIr-utilities/ramp-data/metric_data/model149_td489/train/chips/OAM-1238665-1047077-21.tif'], ['/home/annazan/fAIr-utilities/ramp-data/metric_data/model149_td489/train/chips/OAM-1238694-1047069-21.tif'], ['/home/annazan/fAIr-utilities/ramp-data/metric_data/model149_td489/train/chips/OAM-619331-523538-20.tif'], ['/home/annazan/fAIr-utilities/ramp-data/metric_data/model149_td489/train/chips/OAM-1238662-1047075-21.tif'], ['/home/annazan/fAIr-utilities/ramp-data/metric_data/model149_td489/train/chips/OAM-1238691-1047089-21.tif'], ['/home/annazan/fAIr-utilities/ramp-data/metric_data/model149_td489/train/chips/OAM-1238667-1047078-21.tif'], ['/home/annazan/fAIr-utilities/ramp-data/metric_data/model149_td489/train/chips/OAM-1238667-1047075-21.tif']]\n",
      "\n",
      "length of csv files list is 22\n",
      "_______________\n",
      "\n",
      "294\n",
      "\n",
      "Length of cwps is 22\n",
      "They are these ['/Users/azanchetta/fAIr_metric/anna-dataset/dataset_205/preprocessed/chips/OAM-619345-523535-20.tif', '/Users/azanchetta/fAIr_metric/anna-dataset/dataset_205/preprocessed/chips/OAM-1238665-1047073-21.tif', '/Users/azanchetta/fAIr_metric/anna-dataset/dataset_205/preprocessed/chips/OAM-619346-523535-20.tif', '/Users/azanchetta/fAIr_metric/anna-dataset/dataset_205/preprocessed/chips/OAM-1238667-1047075-21.tif', '/Users/azanchetta/fAIr_metric/anna-dataset/dataset_205/preprocessed/chips/OAM-1238665-1047075-21.tif', '/Users/azanchetta/fAIr_metric/anna-dataset/dataset_205/preprocessed/chips/OAM-309666-261769-19.tif', '/Users/azanchetta/fAIr_metric/anna-dataset/dataset_205/preprocessed/chips/OAM-1238689-1047069-21.tif', '/Users/azanchetta/fAIr_metric/anna-dataset/dataset_205/preprocessed/chips/OAM-1238694-1047069-21.tif', '/Users/azanchetta/fAIr_metric/anna-dataset/dataset_205/preprocessed/chips/OAM-1238662-1047075-21.tif', '/Users/azanchetta/fAIr_metric/anna-dataset/dataset_205/preprocessed/chips/OAM-1238665-1047077-21.tif', '/Users/azanchetta/fAIr_metric/anna-dataset/dataset_205/preprocessed/chips/OAM-619331-523538-20.tif', '/Users/azanchetta/fAIr_metric/anna-dataset/dataset_205/preprocessed/chips/OAM-1238689-1047091-21.tif', '/Users/azanchetta/fAIr_metric/anna-dataset/dataset_205/preprocessed/chips/OAM-1238694-1047070-21.tif', '/Users/azanchetta/fAIr_metric/anna-dataset/dataset_205/preprocessed/chips/OAM-1238667-1047074-21.tif', '/Users/azanchetta/fAIr_metric/anna-dataset/dataset_205/preprocessed/chips/OAM-1238663-1047072-21.tif', '/Users/azanchetta/fAIr_metric/anna-dataset/dataset_205/preprocessed/chips/OAM-1238691-1047068-21.tif', '/Users/azanchetta/fAIr_metric/anna-dataset/dataset_205/preprocessed/chips/OAM-1238667-1047078-21.tif', '/Users/azanchetta/fAIr_metric/anna-dataset/dataset_205/preprocessed/chips/OAM-619332-523538-20.tif', '/Users/azanchetta/fAIr_metric/anna-dataset/dataset_205/preprocessed/chips/OAM-1238691-1047089-21.tif', '/Users/azanchetta/fAIr_metric/anna-dataset/dataset_205/preprocessed/chips/OAM-1238663-1047076-21.tif', '/Users/azanchetta/fAIr_metric/anna-dataset/dataset_205/preprocessed/chips/OAM-1238665-1047078-21.tif', '/Users/azanchetta/fAIr_metric/anna-dataset/dataset_205/preprocessed/chips/OAM-1238688-1047089-21.tif']\n",
      "len of geojson files is 148\n",
      "\n",
      "Length of lwps is 22\n",
      "They are these ['/Users/azanchetta/fAIr_metric/anna-dataset/dataset_205/preprocessed/labels/OAM-619332-523538-20.geojson', '/Users/azanchetta/fAIr_metric/anna-dataset/dataset_205/preprocessed/labels/OAM-1238689-1047091-21.geojson', '/Users/azanchetta/fAIr_metric/anna-dataset/dataset_205/preprocessed/labels/OAM-1238667-1047078-21.geojson', '/Users/azanchetta/fAIr_metric/anna-dataset/dataset_205/preprocessed/labels/OAM-1238667-1047075-21.geojson', '/Users/azanchetta/fAIr_metric/anna-dataset/dataset_205/preprocessed/labels/OAM-1238665-1047073-21.geojson', '/Users/azanchetta/fAIr_metric/anna-dataset/dataset_205/preprocessed/labels/OAM-1238694-1047070-21.geojson', '/Users/azanchetta/fAIr_metric/anna-dataset/dataset_205/preprocessed/labels/OAM-619331-523538-20.geojson', '/Users/azanchetta/fAIr_metric/anna-dataset/dataset_205/preprocessed/labels/OAM-1238689-1047069-21.geojson', '/Users/azanchetta/fAIr_metric/anna-dataset/dataset_205/preprocessed/labels/OAM-1238694-1047069-21.geojson', '/Users/azanchetta/fAIr_metric/anna-dataset/dataset_205/preprocessed/labels/OAM-1238688-1047089-21.geojson', '/Users/azanchetta/fAIr_metric/anna-dataset/dataset_205/preprocessed/labels/OAM-1238662-1047075-21.geojson', '/Users/azanchetta/fAIr_metric/anna-dataset/dataset_205/preprocessed/labels/OAM-1238663-1047076-21.geojson', '/Users/azanchetta/fAIr_metric/anna-dataset/dataset_205/preprocessed/labels/OAM-1238691-1047068-21.geojson', '/Users/azanchetta/fAIr_metric/anna-dataset/dataset_205/preprocessed/labels/OAM-1238667-1047074-21.geojson', '/Users/azanchetta/fAIr_metric/anna-dataset/dataset_205/preprocessed/labels/OAM-1238665-1047077-21.geojson', '/Users/azanchetta/fAIr_metric/anna-dataset/dataset_205/preprocessed/labels/OAM-619346-523535-20.geojson', '/Users/azanchetta/fAIr_metric/anna-dataset/dataset_205/preprocessed/labels/OAM-1238691-1047089-21.geojson', '/Users/azanchetta/fAIr_metric/anna-dataset/dataset_205/preprocessed/labels/OAM-619345-523535-20.geojson', '/Users/azanchetta/fAIr_metric/anna-dataset/dataset_205/preprocessed/labels/OAM-1238665-1047075-21.geojson', '/Users/azanchetta/fAIr_metric/anna-dataset/dataset_205/preprocessed/labels/OAM-1238663-1047072-21.geojson', '/Users/azanchetta/fAIr_metric/anna-dataset/dataset_205/preprocessed/labels/OAM-1238665-1047078-21.geojson', '/Users/azanchetta/fAIr_metric/anna-dataset/dataset_205/preprocessed/labels/OAM-309666-261769-19.geojson']\n",
      "Found 147 chip files\n",
      "Found 147 label files\n",
      "\n",
      "\n",
      "Train array size: 103\n",
      "Validation array size: 22\n",
      "Test array size: 22\n",
      "\n",
      "Checking if Yolo folder data exists for this city...\n",
      "Generating training labels\n"
     ]
    },
    {
     "name": "stderr",
     "output_type": "stream",
     "text": [
      "100%|██████████| 103/103 [00:02<00:00, 37.77it/s]\n"
     ]
    },
    {
     "name": "stdout",
     "output_type": "stream",
     "text": [
      "Generating validation labels\n"
     ]
    },
    {
     "name": "stderr",
     "output_type": "stream",
     "text": [
      "100%|██████████| 22/22 [00:00<00:00, 53.11it/s]\n"
     ]
    },
    {
     "name": "stdout",
     "output_type": "stream",
     "text": [
      "Generating test labels\n"
     ]
    },
    {
     "name": "stderr",
     "output_type": "stream",
     "text": [
      "100%|██████████| 22/22 [00:00<00:00, 47.52it/s]\n"
     ]
    },
    {
     "name": "stdout",
     "output_type": "stream",
     "text": [
      "Generating training images\n"
     ]
    },
    {
     "name": "stderr",
     "output_type": "stream",
     "text": [
      "100%|██████████| 103/103 [00:00<00:00, 225.92it/s]\n"
     ]
    },
    {
     "name": "stdout",
     "output_type": "stream",
     "text": [
      "Generating validation images\n"
     ]
    },
    {
     "name": "stderr",
     "output_type": "stream",
     "text": [
      "100%|██████████| 22/22 [00:00<00:00, 222.27it/s]\n"
     ]
    },
    {
     "name": "stdout",
     "output_type": "stream",
     "text": [
      "Generating test images\n"
     ]
    },
    {
     "name": "stderr",
     "output_type": "stream",
     "text": [
      "100%|██████████| 22/22 [00:00<00:00, 234.78it/s]"
     ]
    },
    {
     "name": "stdout",
     "output_type": "stream",
     "text": [
      "yolo conversion took 4.3 seconds\n"
     ]
    },
    {
     "name": "stderr",
     "output_type": "stream",
     "text": [
      "\n"
     ]
    }
   ],
   "source": [
    "# Looping through the cities list, and check per each folder that tiles number is consistent, and the shapes too\n",
    "# for city in cities_list:\n",
    "for dataset in datasets_list:\n",
    "    dataset_name = dataset.split(\"_\")[1]\n",
    "\n",
    "    model_name = lut.loc[lut['id_dataset'] == dataset_name, 'id_model'].values[0] # without the values bit, you get a whole piece of dataframe\n",
    "    td_name = lut.loc[lut['id_dataset'] == dataset_name, 'id_train'].values[0]\n",
    "    print(f'_________\\nDataset {dataset}, model {model_name}, training dataset {td_name}\\n')\n",
    "    \n",
    "    city = f'model{model_name}_td{td_name}'\n",
    "    # city_folder_name=f'{base_path}/metric_data/{city}'\n",
    "    \n",
    "    csv_file_basepath = f'{data_path}/{city}/train'\n",
    "    print(f'\\n---\\nNow working on {city}\\n---')\n",
    "    # print(f'city folder name is {city_folder_name}\\n\\n---\\n')\n",
    "\n",
    "    # model_input_image_path = f\"{base_path}/input\"\n",
    "    # preprocess_output = f\"{base_path}/preprocessed\"\n",
    "    # with print_time(\"preprocessing\"):\n",
    "    #     preprocess(\n",
    "    #         input_path=model_input_image_path,\n",
    "    #         output_path=preprocess_output,\n",
    "    #         rasterize=True,\n",
    "    #         rasterize_options=[\"binary\"],\n",
    "    #         georeference_images=True,\n",
    "    #         multimasks=False,\n",
    "    #         epsg=4326\n",
    "    #     )\n",
    "\n",
    "    # city_data_dir = f'{base_path}/training_results/{city}/train'\n",
    "    # city_data_dir = f'{city_folder_name}'\n",
    "    dataset_foldername = f'dataset_{dataset_name}'\n",
    "    city_data_dir = f'{k_data_path}/{dataset_foldername}/preprocessed' # name as it appears in kshitij's folder\n",
    "    \n",
    "    yolo_data_dir = f'{base_path}/yolo_v2_preprocessed' # name for the output\n",
    "    print(f'city is {city}')\n",
    "    with print_time(\"yolo conversion\"):\n",
    "        print(f'\\n___ Starting yolo files conversion\\n')\n",
    "        yolo_format(\n",
    "            input_path=city_data_dir,\n",
    "            csv_path=csv_file_basepath,\n",
    "            output_path=yolo_data_dir,\n",
    "            city_name=city\n",
    "        )\n"
   ]
  },
  {
   "cell_type": "code",
   "execution_count": null,
   "metadata": {},
   "outputs": [],
   "source": []
  },
  {
   "cell_type": "markdown",
   "metadata": {},
   "source": [
    "---"
   ]
  },
  {
   "cell_type": "markdown",
   "metadata": {},
   "source": [
    "## Training"
   ]
  },
  {
   "cell_type": "code",
   "execution_count": null,
   "metadata": {},
   "outputs": [],
   "source": []
  },
  {
   "cell_type": "code",
   "execution_count": null,
   "metadata": {},
   "outputs": [],
   "source": [
    "# cities_list = ['modelfake', 'model149_td489'] # sample of names, for tests\n",
    "cities_list = ['modelfake'] #  ['model149_td489'] sample of names, for tests\n",
    "# cities_list= [ item for item in os.listdir(preprocessed_data_path) if os.path.isdir(os.path.join(preprocessed_data_path, item)) ]"
   ]
  },
  {
   "cell_type": "code",
   "execution_count": 25,
   "metadata": {},
   "outputs": [
    {
     "name": "stdout",
     "output_type": "stream",
     "text": [
      "Backbone: s, Dataset: yolo_v2_data, Epochs: 3\n",
      "New https://pypi.org/project/ultralytics/8.3.40 available 😃 Update with 'pip install -U ultralytics'\n",
      "Ultralytics 8.3.26 🚀 Python-3.12.4 torch-2.2.2 CPU (Intel Core(TM) i9-9980HK 2.40GHz)\n",
      "\u001b[34m\u001b[1mengine/trainer: \u001b[0mtask=segment, mode=train, model=/Users/azanchetta/fAIr-utilities/yolov8s_v2-seg.pt, data=/Users/azanchetta/fAIr_metric/yolo_v2_data/model149_td489/yolo_dataset.yaml, epochs=3, time=None, patience=100, batch=16, imgsz=256, save=True, save_period=-1, cache=True, device=cpu, workers=8, project=/Users/azanchetta/fAIr_metric/yolo_v2_predictions/model149_td489/checkpoints, name=yolov8s-seg_yolo_v2_data_ep3_bs16_pc2.0, exist_ok=False, pretrained=True, optimizer=auto, verbose=True, seed=0, deterministic=False, single_cls=False, rect=False, cos_lr=False, close_mosaic=10, resume=False, amp=True, fraction=1.0, profile=False, freeze=None, multi_scale=False, overlap_mask=False, mask_ratio=4, dropout=0.0, val=True, split=val, save_json=False, save_hybrid=False, conf=None, iou=0.7, max_det=300, half=False, dnn=False, plots=True, source=None, vid_stride=1, stream_buffer=False, visualize=False, augment=False, agnostic_nms=False, classes=None, retina_masks=False, embed=None, show=False, save_frames=False, save_txt=False, save_conf=False, save_crop=False, show_labels=True, show_conf=True, show_boxes=True, line_width=None, format=torchscript, keras=False, optimize=False, int8=False, dynamic=False, simplify=True, opset=None, workspace=4, nms=False, lr0=0.00854, lrf=0.01232, momentum=0.95275, weight_decay=0.00058, warmup_epochs=3.82177, warmup_momentum=0.81423, warmup_bias_lr=0.1, box=7.48109, cls=0.775, dfl=1.5, pose=2.0, kobj=1.0, label_smoothing=0.0, nbs=64, hsv_h=0.01269, hsv_s=0.68143, hsv_v=0.27, degrees=15.75, translate=0, scale=0, shear=0, perspective=0.0, flipud=0.5, fliplr=0.255, bgr=0.0, mosaic=0, mixup=0.0, copy_paste=0.0, copy_paste_mode=flip, auto_augment=randaugment, erasing=0, crop_fraction=1.0, cfg=None, tracker=botsort.yaml, save_dir=/Users/azanchetta/fAIr_metric/yolo_v2_predictions/model149_td489/checkpoints/yolov8s-seg_yolo_v2_data_ep3_bs16_pc2.0\n",
      "\n",
      "                   from  n    params  module                                       arguments                     \n",
      "  0                  -1  1       928  ultralytics.nn.modules.conv.Conv             [3, 32, 3, 2]                 \n",
      "  1                  -1  1     18560  ultralytics.nn.modules.conv.Conv             [32, 64, 3, 2]                \n",
      "  2                  -1  1     29056  ultralytics.nn.modules.block.C2f             [64, 64, 1, True]             \n",
      "  3                  -1  1     73984  ultralytics.nn.modules.conv.Conv             [64, 128, 3, 2]               \n",
      "  4                  -1  2    197632  ultralytics.nn.modules.block.C2f             [128, 128, 2, True]           \n",
      "  5                  -1  1    295424  ultralytics.nn.modules.conv.Conv             [128, 256, 3, 2]              \n",
      "  6                  -1  2    788480  ultralytics.nn.modules.block.C2f             [256, 256, 2, True]           \n",
      "  7                  -1  1   1180672  ultralytics.nn.modules.conv.Conv             [256, 512, 3, 2]              \n",
      "  8                  -1  1   1838080  ultralytics.nn.modules.block.C2f             [512, 512, 1, True]           \n",
      "  9                  -1  1    656896  ultralytics.nn.modules.block.SPPF            [512, 512, 5]                 \n",
      " 10                  -1  1         0  torch.nn.modules.upsampling.Upsample         [None, 2, 'nearest']          \n",
      " 11             [-1, 6]  1         0  ultralytics.nn.modules.conv.Concat           [1]                           \n",
      " 12                  -1  1    591360  ultralytics.nn.modules.block.C2f             [768, 256, 1]                 \n",
      " 13                  -1  1         0  torch.nn.modules.upsampling.Upsample         [None, 2, 'nearest']          \n",
      " 14             [-1, 4]  1         0  ultralytics.nn.modules.conv.Concat           [1]                           \n",
      " 15                  -1  1    148224  ultralytics.nn.modules.block.C2f             [384, 128, 1]                 \n",
      " 16                  -1  1    147712  ultralytics.nn.modules.conv.Conv             [128, 128, 3, 2]              \n",
      " 17            [-1, 12]  1         0  ultralytics.nn.modules.conv.Concat           [1]                           \n",
      " 18                  -1  1    493056  ultralytics.nn.modules.block.C2f             [384, 256, 1]                 \n",
      " 19                  -1  1    590336  ultralytics.nn.modules.conv.Conv             [256, 256, 3, 2]              \n",
      " 20             [-1, 9]  1         0  ultralytics.nn.modules.conv.Concat           [1]                           \n",
      " 21                  -1  1   1969152  ultralytics.nn.modules.block.C2f             [768, 512, 1]                 \n",
      " 22        [15, 18, 21]  1   2770931  ultralytics.nn.modules.head.Segment          [1, 32, 128, [128, 256, 512]] \n",
      "YOLOv8s-seg summary: 261 layers, 11,790,483 parameters, 11,790,467 gradients, 42.7 GFLOPs\n",
      "\n",
      "Transferred 417/417 items from pretrained weights\n",
      "\u001b[34m\u001b[1mTensorBoard: \u001b[0mStart with 'tensorboard --logdir /Users/azanchetta/fAIr_metric/yolo_v2_predictions/model149_td489/checkpoints/yolov8s-seg_yolo_v2_data_ep3_bs16_pc2.0', view at http://localhost:6006/\n",
      "Freezing layer 'model.22.dfl.conv.weight'\n"
     ]
    },
    {
     "name": "stderr",
     "output_type": "stream",
     "text": [
      "\u001b[34m\u001b[1mtrain: \u001b[0mScanning /Users/azanchetta/fAIr_metric/yolo_v2_data/model149_td489/labels/train... 103 images, 2 backgrounds, 0 corrupt: 100%|██████████| 103/103 [00:00<00:00, 765.94it/s]"
     ]
    },
    {
     "name": "stdout",
     "output_type": "stream",
     "text": [
      "\u001b[34m\u001b[1mtrain: \u001b[0mWARNING ⚠️ /Users/azanchetta/fAIr_metric/yolo_v2_data/model149_td489/images/train/OAM-1238660-1047072-21.jpg: 6 duplicate labels removed\n",
      "\u001b[34m\u001b[1mtrain: \u001b[0mWARNING ⚠️ /Users/azanchetta/fAIr_metric/yolo_v2_data/model149_td489/images/train/OAM-1238660-1047074-21.jpg: 5 duplicate labels removed\n",
      "\u001b[34m\u001b[1mtrain: \u001b[0mWARNING ⚠️ /Users/azanchetta/fAIr_metric/yolo_v2_data/model149_td489/images/train/OAM-1238660-1047075-21.jpg: 3 duplicate labels removed\n",
      "\u001b[34m\u001b[1mtrain: \u001b[0mWARNING ⚠️ /Users/azanchetta/fAIr_metric/yolo_v2_data/model149_td489/images/train/OAM-1238660-1047076-21.jpg: 6 duplicate labels removed\n",
      "\u001b[34m\u001b[1mtrain: \u001b[0mWARNING ⚠️ /Users/azanchetta/fAIr_metric/yolo_v2_data/model149_td489/images/train/OAM-1238660-1047077-21.jpg: 1 duplicate labels removed\n",
      "\u001b[34m\u001b[1mtrain: \u001b[0mWARNING ⚠️ /Users/azanchetta/fAIr_metric/yolo_v2_data/model149_td489/images/train/OAM-1238660-1047078-21.jpg: 3 duplicate labels removed\n",
      "\u001b[34m\u001b[1mtrain: \u001b[0mWARNING ⚠️ /Users/azanchetta/fAIr_metric/yolo_v2_data/model149_td489/images/train/OAM-1238660-1047079-21.jpg: 2 duplicate labels removed\n",
      "\u001b[34m\u001b[1mtrain: \u001b[0mWARNING ⚠️ /Users/azanchetta/fAIr_metric/yolo_v2_data/model149_td489/images/train/OAM-1238661-1047072-21.jpg: 2 duplicate labels removed\n",
      "\u001b[34m\u001b[1mtrain: \u001b[0mWARNING ⚠️ /Users/azanchetta/fAIr_metric/yolo_v2_data/model149_td489/images/train/OAM-1238661-1047073-21.jpg: 1 duplicate labels removed\n",
      "\u001b[34m\u001b[1mtrain: \u001b[0mWARNING ⚠️ /Users/azanchetta/fAIr_metric/yolo_v2_data/model149_td489/images/train/OAM-1238661-1047074-21.jpg: 1 duplicate labels removed\n",
      "\u001b[34m\u001b[1mtrain: \u001b[0mWARNING ⚠️ /Users/azanchetta/fAIr_metric/yolo_v2_data/model149_td489/images/train/OAM-1238661-1047076-21.jpg: 2 duplicate labels removed\n",
      "\u001b[34m\u001b[1mtrain: \u001b[0mWARNING ⚠️ /Users/azanchetta/fAIr_metric/yolo_v2_data/model149_td489/images/train/OAM-1238661-1047077-21.jpg: 2 duplicate labels removed\n",
      "\u001b[34m\u001b[1mtrain: \u001b[0mWARNING ⚠️ /Users/azanchetta/fAIr_metric/yolo_v2_data/model149_td489/images/train/OAM-1238661-1047079-21.jpg: 5 duplicate labels removed\n",
      "\u001b[34m\u001b[1mtrain: \u001b[0mWARNING ⚠️ /Users/azanchetta/fAIr_metric/yolo_v2_data/model149_td489/images/train/OAM-1238662-1047072-21.jpg: 2 duplicate labels removed\n",
      "\u001b[34m\u001b[1mtrain: \u001b[0mWARNING ⚠️ /Users/azanchetta/fAIr_metric/yolo_v2_data/model149_td489/images/train/OAM-1238662-1047077-21.jpg: 3 duplicate labels removed\n",
      "\u001b[34m\u001b[1mtrain: \u001b[0mWARNING ⚠️ /Users/azanchetta/fAIr_metric/yolo_v2_data/model149_td489/images/train/OAM-1238662-1047078-21.jpg: 4 duplicate labels removed\n",
      "\u001b[34m\u001b[1mtrain: \u001b[0mWARNING ⚠️ /Users/azanchetta/fAIr_metric/yolo_v2_data/model149_td489/images/train/OAM-1238663-1047073-21.jpg: 1 duplicate labels removed\n",
      "\u001b[34m\u001b[1mtrain: \u001b[0mWARNING ⚠️ /Users/azanchetta/fAIr_metric/yolo_v2_data/model149_td489/images/train/OAM-1238663-1047074-21.jpg: 1 duplicate labels removed\n",
      "\u001b[34m\u001b[1mtrain: \u001b[0mWARNING ⚠️ /Users/azanchetta/fAIr_metric/yolo_v2_data/model149_td489/images/train/OAM-1238663-1047075-21.jpg: 1 duplicate labels removed\n",
      "\u001b[34m\u001b[1mtrain: \u001b[0mWARNING ⚠️ /Users/azanchetta/fAIr_metric/yolo_v2_data/model149_td489/images/train/OAM-1238663-1047077-21.jpg: 2 duplicate labels removed\n",
      "\u001b[34m\u001b[1mtrain: \u001b[0mWARNING ⚠️ /Users/azanchetta/fAIr_metric/yolo_v2_data/model149_td489/images/train/OAM-1238663-1047078-21.jpg: 2 duplicate labels removed\n",
      "\u001b[34m\u001b[1mtrain: \u001b[0mWARNING ⚠️ /Users/azanchetta/fAIr_metric/yolo_v2_data/model149_td489/images/train/OAM-1238663-1047079-21.jpg: 3 duplicate labels removed\n",
      "\u001b[34m\u001b[1mtrain: \u001b[0mWARNING ⚠️ /Users/azanchetta/fAIr_metric/yolo_v2_data/model149_td489/images/train/OAM-1238664-1047076-21.jpg: 1 duplicate labels removed\n",
      "\u001b[34m\u001b[1mtrain: \u001b[0mWARNING ⚠️ /Users/azanchetta/fAIr_metric/yolo_v2_data/model149_td489/images/train/OAM-1238664-1047078-21.jpg: 2 duplicate labels removed\n",
      "\u001b[34m\u001b[1mtrain: \u001b[0mWARNING ⚠️ /Users/azanchetta/fAIr_metric/yolo_v2_data/model149_td489/images/train/OAM-1238665-1047079-21.jpg: 2 duplicate labels removed\n",
      "\u001b[34m\u001b[1mtrain: \u001b[0mWARNING ⚠️ /Users/azanchetta/fAIr_metric/yolo_v2_data/model149_td489/images/train/OAM-1238666-1047074-21.jpg: 3 duplicate labels removed\n",
      "\u001b[34m\u001b[1mtrain: \u001b[0mWARNING ⚠️ /Users/azanchetta/fAIr_metric/yolo_v2_data/model149_td489/images/train/OAM-1238666-1047075-21.jpg: 10 duplicate labels removed\n",
      "\u001b[34m\u001b[1mtrain: \u001b[0mWARNING ⚠️ /Users/azanchetta/fAIr_metric/yolo_v2_data/model149_td489/images/train/OAM-1238666-1047076-21.jpg: 4 duplicate labels removed\n",
      "\u001b[34m\u001b[1mtrain: \u001b[0mWARNING ⚠️ /Users/azanchetta/fAIr_metric/yolo_v2_data/model149_td489/images/train/OAM-1238666-1047077-21.jpg: 5 duplicate labels removed\n",
      "\u001b[34m\u001b[1mtrain: \u001b[0mWARNING ⚠️ /Users/azanchetta/fAIr_metric/yolo_v2_data/model149_td489/images/train/OAM-1238666-1047078-21.jpg: 2 duplicate labels removed\n",
      "\u001b[34m\u001b[1mtrain: \u001b[0mWARNING ⚠️ /Users/azanchetta/fAIr_metric/yolo_v2_data/model149_td489/images/train/OAM-1238666-1047079-21.jpg: 2 duplicate labels removed\n",
      "\u001b[34m\u001b[1mtrain: \u001b[0mWARNING ⚠️ /Users/azanchetta/fAIr_metric/yolo_v2_data/model149_td489/images/train/OAM-1238667-1047077-21.jpg: 5 duplicate labels removed\n",
      "\u001b[34m\u001b[1mtrain: \u001b[0mWARNING ⚠️ /Users/azanchetta/fAIr_metric/yolo_v2_data/model149_td489/images/train/OAM-1238688-1047068-21.jpg: 2 duplicate labels removed\n",
      "\u001b[34m\u001b[1mtrain: \u001b[0mWARNING ⚠️ /Users/azanchetta/fAIr_metric/yolo_v2_data/model149_td489/images/train/OAM-1238688-1047069-21.jpg: 2 duplicate labels removed\n",
      "\u001b[34m\u001b[1mtrain: \u001b[0mWARNING ⚠️ /Users/azanchetta/fAIr_metric/yolo_v2_data/model149_td489/images/train/OAM-1238688-1047070-21.jpg: 8 duplicate labels removed\n",
      "\u001b[34m\u001b[1mtrain: \u001b[0mWARNING ⚠️ /Users/azanchetta/fAIr_metric/yolo_v2_data/model149_td489/images/train/OAM-1238688-1047071-21.jpg: 8 duplicate labels removed\n",
      "\u001b[34m\u001b[1mtrain: \u001b[0mWARNING ⚠️ /Users/azanchetta/fAIr_metric/yolo_v2_data/model149_td489/images/train/OAM-1238688-1047088-21.jpg: 6 duplicate labels removed\n",
      "\u001b[34m\u001b[1mtrain: \u001b[0mWARNING ⚠️ /Users/azanchetta/fAIr_metric/yolo_v2_data/model149_td489/images/train/OAM-1238688-1047091-21.jpg: 7 duplicate labels removed\n",
      "\u001b[34m\u001b[1mtrain: \u001b[0mWARNING ⚠️ /Users/azanchetta/fAIr_metric/yolo_v2_data/model149_td489/images/train/OAM-1238689-1047068-21.jpg: 5 duplicate labels removed\n",
      "\u001b[34m\u001b[1mtrain: \u001b[0mWARNING ⚠️ /Users/azanchetta/fAIr_metric/yolo_v2_data/model149_td489/images/train/OAM-1238689-1047070-21.jpg: 5 duplicate labels removed\n",
      "\u001b[34m\u001b[1mtrain: \u001b[0mWARNING ⚠️ /Users/azanchetta/fAIr_metric/yolo_v2_data/model149_td489/images/train/OAM-1238689-1047071-21.jpg: 11 duplicate labels removed\n",
      "\u001b[34m\u001b[1mtrain: \u001b[0mWARNING ⚠️ /Users/azanchetta/fAIr_metric/yolo_v2_data/model149_td489/images/train/OAM-1238689-1047089-21.jpg: 7 duplicate labels removed\n",
      "\u001b[34m\u001b[1mtrain: \u001b[0mWARNING ⚠️ /Users/azanchetta/fAIr_metric/yolo_v2_data/model149_td489/images/train/OAM-1238689-1047090-21.jpg: 3 duplicate labels removed\n",
      "\u001b[34m\u001b[1mtrain: \u001b[0mWARNING ⚠️ /Users/azanchetta/fAIr_metric/yolo_v2_data/model149_td489/images/train/OAM-1238690-1047068-21.jpg: 1 duplicate labels removed\n",
      "\u001b[34m\u001b[1mtrain: \u001b[0mWARNING ⚠️ /Users/azanchetta/fAIr_metric/yolo_v2_data/model149_td489/images/train/OAM-1238690-1047069-21.jpg: 2 duplicate labels removed\n",
      "\u001b[34m\u001b[1mtrain: \u001b[0mWARNING ⚠️ /Users/azanchetta/fAIr_metric/yolo_v2_data/model149_td489/images/train/OAM-1238690-1047070-21.jpg: 4 duplicate labels removed\n",
      "\u001b[34m\u001b[1mtrain: \u001b[0mWARNING ⚠️ /Users/azanchetta/fAIr_metric/yolo_v2_data/model149_td489/images/train/OAM-1238690-1047071-21.jpg: 5 duplicate labels removed\n",
      "\u001b[34m\u001b[1mtrain: \u001b[0mWARNING ⚠️ /Users/azanchetta/fAIr_metric/yolo_v2_data/model149_td489/images/train/OAM-1238690-1047088-21.jpg: 10 duplicate labels removed\n",
      "\u001b[34m\u001b[1mtrain: \u001b[0mWARNING ⚠️ /Users/azanchetta/fAIr_metric/yolo_v2_data/model149_td489/images/train/OAM-1238690-1047089-21.jpg: 8 duplicate labels removed\n",
      "\u001b[34m\u001b[1mtrain: \u001b[0mWARNING ⚠️ /Users/azanchetta/fAIr_metric/yolo_v2_data/model149_td489/images/train/OAM-1238690-1047090-21.jpg: 13 duplicate labels removed\n",
      "\u001b[34m\u001b[1mtrain: \u001b[0mWARNING ⚠️ /Users/azanchetta/fAIr_metric/yolo_v2_data/model149_td489/images/train/OAM-1238690-1047091-21.jpg: 11 duplicate labels removed\n",
      "\u001b[34m\u001b[1mtrain: \u001b[0mWARNING ⚠️ /Users/azanchetta/fAIr_metric/yolo_v2_data/model149_td489/images/train/OAM-1238691-1047070-21.jpg: 1 duplicate labels removed\n",
      "\u001b[34m\u001b[1mtrain: \u001b[0mWARNING ⚠️ /Users/azanchetta/fAIr_metric/yolo_v2_data/model149_td489/images/train/OAM-1238691-1047071-21.jpg: 1 duplicate labels removed\n",
      "\u001b[34m\u001b[1mtrain: \u001b[0mWARNING ⚠️ /Users/azanchetta/fAIr_metric/yolo_v2_data/model149_td489/images/train/OAM-1238691-1047088-21.jpg: 10 duplicate labels removed\n",
      "\u001b[34m\u001b[1mtrain: \u001b[0mWARNING ⚠️ /Users/azanchetta/fAIr_metric/yolo_v2_data/model149_td489/images/train/OAM-1238691-1047090-21.jpg: 10 duplicate labels removed\n",
      "\u001b[34m\u001b[1mtrain: \u001b[0mWARNING ⚠️ /Users/azanchetta/fAIr_metric/yolo_v2_data/model149_td489/images/train/OAM-1238691-1047091-21.jpg: 8 duplicate labels removed\n",
      "\u001b[34m\u001b[1mtrain: \u001b[0mWARNING ⚠️ /Users/azanchetta/fAIr_metric/yolo_v2_data/model149_td489/images/train/OAM-1238692-1047069-21.jpg: 1 duplicate labels removed\n",
      "\u001b[34m\u001b[1mtrain: \u001b[0mWARNING ⚠️ /Users/azanchetta/fAIr_metric/yolo_v2_data/model149_td489/images/train/OAM-1238693-1047068-21.jpg: 1 duplicate labels removed\n",
      "\u001b[34m\u001b[1mtrain: \u001b[0mWARNING ⚠️ /Users/azanchetta/fAIr_metric/yolo_v2_data/model149_td489/images/train/OAM-1238693-1047070-21.jpg: 1 duplicate labels removed\n",
      "\u001b[34m\u001b[1mtrain: \u001b[0mWARNING ⚠️ /Users/azanchetta/fAIr_metric/yolo_v2_data/model149_td489/images/train/OAM-1238694-1047068-21.jpg: 2 duplicate labels removed\n",
      "\u001b[34m\u001b[1mtrain: \u001b[0mWARNING ⚠️ /Users/azanchetta/fAIr_metric/yolo_v2_data/model149_td489/images/train/OAM-1238695-1047069-21.jpg: 1 duplicate labels removed\n",
      "\u001b[34m\u001b[1mtrain: \u001b[0mWARNING ⚠️ /Users/azanchetta/fAIr_metric/yolo_v2_data/model149_td489/images/train/OAM-309665-261768-19.jpg: 23 duplicate labels removed\n",
      "\u001b[34m\u001b[1mtrain: \u001b[0mWARNING ⚠️ /Users/azanchetta/fAIr_metric/yolo_v2_data/model149_td489/images/train/OAM-309665-261769-19.jpg: 27 duplicate labels removed\n",
      "\u001b[34m\u001b[1mtrain: \u001b[0mWARNING ⚠️ /Users/azanchetta/fAIr_metric/yolo_v2_data/model149_td489/images/train/OAM-309666-261768-19.jpg: 18 duplicate labels removed\n",
      "\u001b[34m\u001b[1mtrain: \u001b[0mWARNING ⚠️ /Users/azanchetta/fAIr_metric/yolo_v2_data/model149_td489/images/train/OAM-309672-261767-19.jpg: 45 duplicate labels removed\n",
      "\u001b[34m\u001b[1mtrain: \u001b[0mWARNING ⚠️ /Users/azanchetta/fAIr_metric/yolo_v2_data/model149_td489/images/train/OAM-309672-261772-19.jpg: 95 duplicate labels removed\n",
      "\u001b[34m\u001b[1mtrain: \u001b[0mWARNING ⚠️ /Users/azanchetta/fAIr_metric/yolo_v2_data/model149_td489/images/train/OAM-309673-261767-19.jpg: 9 duplicate labels removed\n",
      "\u001b[34m\u001b[1mtrain: \u001b[0mWARNING ⚠️ /Users/azanchetta/fAIr_metric/yolo_v2_data/model149_td489/images/train/OAM-619330-523536-20.jpg: 12 duplicate labels removed\n",
      "\u001b[34m\u001b[1mtrain: \u001b[0mWARNING ⚠️ /Users/azanchetta/fAIr_metric/yolo_v2_data/model149_td489/images/train/OAM-619330-523538-20.jpg: 9 duplicate labels removed\n",
      "\u001b[34m\u001b[1mtrain: \u001b[0mWARNING ⚠️ /Users/azanchetta/fAIr_metric/yolo_v2_data/model149_td489/images/train/OAM-619330-523539-20.jpg: 9 duplicate labels removed\n",
      "\u001b[34m\u001b[1mtrain: \u001b[0mWARNING ⚠️ /Users/azanchetta/fAIr_metric/yolo_v2_data/model149_td489/images/train/OAM-619331-523537-20.jpg: 2 duplicate labels removed\n",
      "\u001b[34m\u001b[1mtrain: \u001b[0mWARNING ⚠️ /Users/azanchetta/fAIr_metric/yolo_v2_data/model149_td489/images/train/OAM-619332-523537-20.jpg: 4 duplicate labels removed\n",
      "\u001b[34m\u001b[1mtrain: \u001b[0mWARNING ⚠️ /Users/azanchetta/fAIr_metric/yolo_v2_data/model149_td489/images/train/OAM-619332-523539-20.jpg: 9 duplicate labels removed\n",
      "\u001b[34m\u001b[1mtrain: \u001b[0mWARNING ⚠️ /Users/azanchetta/fAIr_metric/yolo_v2_data/model149_td489/images/train/OAM-619333-523536-20.jpg: 2 duplicate labels removed\n",
      "\u001b[34m\u001b[1mtrain: \u001b[0mWARNING ⚠️ /Users/azanchetta/fAIr_metric/yolo_v2_data/model149_td489/images/train/OAM-619333-523537-20.jpg: 12 duplicate labels removed\n",
      "\u001b[34m\u001b[1mtrain: \u001b[0mWARNING ⚠️ /Users/azanchetta/fAIr_metric/yolo_v2_data/model149_td489/images/train/OAM-619333-523538-20.jpg: 12 duplicate labels removed\n",
      "\u001b[34m\u001b[1mtrain: \u001b[0mWARNING ⚠️ /Users/azanchetta/fAIr_metric/yolo_v2_data/model149_td489/images/train/OAM-619333-523539-20.jpg: 7 duplicate labels removed\n",
      "\u001b[34m\u001b[1mtrain: \u001b[0mWARNING ⚠️ /Users/azanchetta/fAIr_metric/yolo_v2_data/model149_td489/images/train/OAM-619344-523535-20.jpg: 24 duplicate labels removed\n",
      "\u001b[34m\u001b[1mtrain: \u001b[0mWARNING ⚠️ /Users/azanchetta/fAIr_metric/yolo_v2_data/model149_td489/images/train/OAM-619344-523544-20.jpg: 22 duplicate labels removed\n",
      "\u001b[34m\u001b[1mtrain: \u001b[0mWARNING ⚠️ /Users/azanchetta/fAIr_metric/yolo_v2_data/model149_td489/images/train/OAM-619344-523545-20.jpg: 23 duplicate labels removed\n",
      "\u001b[34m\u001b[1mtrain: \u001b[0mWARNING ⚠️ /Users/azanchetta/fAIr_metric/yolo_v2_data/model149_td489/images/train/OAM-619345-523534-20.jpg: 6 duplicate labels removed\n",
      "\u001b[34m\u001b[1mtrain: \u001b[0mWARNING ⚠️ /Users/azanchetta/fAIr_metric/yolo_v2_data/model149_td489/images/train/OAM-619345-523545-20.jpg: 34 duplicate labels removed\n",
      "\u001b[34m\u001b[1mtrain: \u001b[0mWARNING ⚠️ /Users/azanchetta/fAIr_metric/yolo_v2_data/model149_td489/images/train/OAM-619346-523534-20.jpg: 4 duplicate labels removed\n",
      "\u001b[34m\u001b[1mtrain: \u001b[0mWARNING ⚠️ /Users/azanchetta/fAIr_metric/yolo_v2_data/model149_td489/images/train/OAM-619347-523534-20.jpg: 4 duplicate labels removed\n",
      "\u001b[34m\u001b[1mtrain: \u001b[0mWARNING ⚠️ /Users/azanchetta/fAIr_metric/yolo_v2_data/model149_td489/images/train/OAM-619347-523535-20.jpg: 2 duplicate labels removed\n",
      "\u001b[34m\u001b[1mtrain: \u001b[0mNew cache created: /Users/azanchetta/fAIr_metric/yolo_v2_data/model149_td489/labels/train.cache\n"
     ]
    },
    {
     "name": "stderr",
     "output_type": "stream",
     "text": [
      "\n",
      "\u001b[34m\u001b[1mtrain: \u001b[0mCaching images (0.0GB RAM): 100%|██████████| 103/103 [00:00<00:00, 1499.29it/s]\n",
      "\u001b[34m\u001b[1mval: \u001b[0mScanning /Users/azanchetta/fAIr_metric/yolo_v2_data/model149_td489/labels/val... 22 images, 5 backgrounds, 0 corrupt: 100%|██████████| 22/22 [00:00<00:00, 774.10it/s]"
     ]
    },
    {
     "name": "stdout",
     "output_type": "stream",
     "text": [
      "\u001b[34m\u001b[1mval: \u001b[0mWARNING ⚠️ /Users/azanchetta/fAIr_metric/yolo_v2_data/model149_td489/images/val/OAM-1238660-1047073-21.jpg: 3 duplicate labels removed\n",
      "\u001b[34m\u001b[1mval: \u001b[0mWARNING ⚠️ /Users/azanchetta/fAIr_metric/yolo_v2_data/model149_td489/images/val/OAM-1238661-1047075-21.jpg: 1 duplicate labels removed\n",
      "\u001b[34m\u001b[1mval: \u001b[0mWARNING ⚠️ /Users/azanchetta/fAIr_metric/yolo_v2_data/model149_td489/images/val/OAM-1238661-1047078-21.jpg: 2 duplicate labels removed\n",
      "\u001b[34m\u001b[1mval: \u001b[0mWARNING ⚠️ /Users/azanchetta/fAIr_metric/yolo_v2_data/model149_td489/images/val/OAM-1238662-1047079-21.jpg: 1 duplicate labels removed\n",
      "\u001b[34m\u001b[1mval: \u001b[0mWARNING ⚠️ /Users/azanchetta/fAIr_metric/yolo_v2_data/model149_td489/images/val/OAM-1238664-1047079-21.jpg: 5 duplicate labels removed\n",
      "\u001b[34m\u001b[1mval: \u001b[0mWARNING ⚠️ /Users/azanchetta/fAIr_metric/yolo_v2_data/model149_td489/images/val/OAM-1238665-1047076-21.jpg: 2 duplicate labels removed\n",
      "\u001b[34m\u001b[1mval: \u001b[0mWARNING ⚠️ /Users/azanchetta/fAIr_metric/yolo_v2_data/model149_td489/images/val/OAM-1238667-1047072-21.jpg: 1 duplicate labels removed\n",
      "\u001b[34m\u001b[1mval: \u001b[0mWARNING ⚠️ /Users/azanchetta/fAIr_metric/yolo_v2_data/model149_td489/images/val/OAM-1238688-1047090-21.jpg: 9 duplicate labels removed\n",
      "\u001b[34m\u001b[1mval: \u001b[0mWARNING ⚠️ /Users/azanchetta/fAIr_metric/yolo_v2_data/model149_td489/images/val/OAM-1238689-1047088-21.jpg: 5 duplicate labels removed\n",
      "\u001b[34m\u001b[1mval: \u001b[0mWARNING ⚠️ /Users/azanchetta/fAIr_metric/yolo_v2_data/model149_td489/images/val/OAM-1238692-1047071-21.jpg: 1 duplicate labels removed\n",
      "\u001b[34m\u001b[1mval: \u001b[0mWARNING ⚠️ /Users/azanchetta/fAIr_metric/yolo_v2_data/model149_td489/images/val/OAM-1238693-1047069-21.jpg: 1 duplicate labels removed\n",
      "\u001b[34m\u001b[1mval: \u001b[0mWARNING ⚠️ /Users/azanchetta/fAIr_metric/yolo_v2_data/model149_td489/images/val/OAM-1238693-1047071-21.jpg: 2 duplicate labels removed\n",
      "\u001b[34m\u001b[1mval: \u001b[0mWARNING ⚠️ /Users/azanchetta/fAIr_metric/yolo_v2_data/model149_td489/images/val/OAM-619330-523537-20.jpg: 9 duplicate labels removed\n",
      "\u001b[34m\u001b[1mval: \u001b[0mWARNING ⚠️ /Users/azanchetta/fAIr_metric/yolo_v2_data/model149_td489/images/val/OAM-619331-523536-20.jpg: 4 duplicate labels removed\n",
      "\u001b[34m\u001b[1mval: \u001b[0mWARNING ⚠️ /Users/azanchetta/fAIr_metric/yolo_v2_data/model149_td489/images/val/OAM-619331-523539-20.jpg: 7 duplicate labels removed\n",
      "\u001b[34m\u001b[1mval: \u001b[0mWARNING ⚠️ /Users/azanchetta/fAIr_metric/yolo_v2_data/model149_td489/images/val/OAM-619344-523534-20.jpg: 11 duplicate labels removed\n",
      "\u001b[34m\u001b[1mval: \u001b[0mWARNING ⚠️ /Users/azanchetta/fAIr_metric/yolo_v2_data/model149_td489/images/val/OAM-619345-523544-20.jpg: 29 duplicate labels removed\n",
      "\u001b[34m\u001b[1mval: \u001b[0mNew cache created: /Users/azanchetta/fAIr_metric/yolo_v2_data/model149_td489/labels/val.cache\n"
     ]
    },
    {
     "name": "stderr",
     "output_type": "stream",
     "text": [
      "\n",
      "\u001b[34m\u001b[1mval: \u001b[0mCaching images (0.0GB RAM): 100%|██████████| 22/22 [00:00<00:00, 1906.74it/s]\n"
     ]
    },
    {
     "name": "stdout",
     "output_type": "stream",
     "text": [
      "Plotting labels to /Users/azanchetta/fAIr_metric/yolo_v2_predictions/model149_td489/checkpoints/yolov8s-seg_yolo_v2_data_ep3_bs16_pc2.0/labels.jpg... \n",
      "\u001b[34m\u001b[1moptimizer:\u001b[0m 'optimizer=auto' found, ignoring 'lr0=0.00854' and 'momentum=0.95275' and determining best 'optimizer', 'lr0' and 'momentum' automatically... \n",
      "\u001b[34m\u001b[1moptimizer:\u001b[0m AdamW(lr=0.002, momentum=0.9) with parameter groups 66 weight(decay=0.0), 77 weight(decay=0.00058), 76 bias(decay=0.0)\n",
      "\u001b[34m\u001b[1mTensorBoard: \u001b[0mmodel graph visualization added ✅\n",
      "Image sizes 256 train, 256 val\n",
      "Using 0 dataloader workers\n",
      "Logging results to \u001b[1m/Users/azanchetta/fAIr_metric/yolo_v2_predictions/model149_td489/checkpoints/yolov8s-seg_yolo_v2_data_ep3_bs16_pc2.0\u001b[0m\n",
      "Starting training for 3 epochs...\n",
      "\n",
      "      Epoch    GPU_mem   box_loss   seg_loss   cls_loss   dfl_loss  Instances       Size\n"
     ]
    },
    {
     "name": "stderr",
     "output_type": "stream",
     "text": [
      "        1/3         0G          0          0      856.5          0          0        256: 100%|██████████| 7/7 [00:14<00:00,  2.02s/it]\n",
      "                 Class     Images  Instances      Box(P          R      mAP50  mAP50-95)     Mask(P          R      mAP50  mAP50-95): 100%|██████████| 1/1 [00:01<00:00,  1.26s/it]"
     ]
    },
    {
     "name": "stdout",
     "output_type": "stream",
     "text": [
      "                   all         22         17          0          0          0          0          0          0          0          0\n"
     ]
    },
    {
     "name": "stderr",
     "output_type": "stream",
     "text": [
      "\n"
     ]
    },
    {
     "name": "stdout",
     "output_type": "stream",
     "text": [
      "\n",
      "      Epoch    GPU_mem   box_loss   seg_loss   cls_loss   dfl_loss  Instances       Size\n"
     ]
    },
    {
     "name": "stderr",
     "output_type": "stream",
     "text": [
      "        2/3         0G          0          0      255.4          0          0        256: 100%|██████████| 7/7 [00:13<00:00,  1.92s/it]\n",
      "                 Class     Images  Instances      Box(P          R      mAP50  mAP50-95)     Mask(P          R      mAP50  mAP50-95): 100%|██████████| 1/1 [00:01<00:00,  1.25s/it]"
     ]
    },
    {
     "name": "stdout",
     "output_type": "stream",
     "text": [
      "                   all         22         17          0          0          0          0          0          0          0          0\n"
     ]
    },
    {
     "name": "stderr",
     "output_type": "stream",
     "text": [
      "\n"
     ]
    },
    {
     "name": "stdout",
     "output_type": "stream",
     "text": [
      "\n",
      "      Epoch    GPU_mem   box_loss   seg_loss   cls_loss   dfl_loss  Instances       Size\n"
     ]
    },
    {
     "name": "stderr",
     "output_type": "stream",
     "text": [
      "        3/3         0G          0          0      24.44          0          0        256: 100%|██████████| 7/7 [00:26<00:00,  3.73s/it]\n",
      "                 Class     Images  Instances      Box(P          R      mAP50  mAP50-95)     Mask(P          R      mAP50  mAP50-95): 100%|██████████| 1/1 [00:12<00:00, 12.30s/it]"
     ]
    },
    {
     "name": "stdout",
     "output_type": "stream",
     "text": [
      "                   all         22         17          0          0          0          0          0          0          0          0\n"
     ]
    },
    {
     "name": "stderr",
     "output_type": "stream",
     "text": [
      "\n"
     ]
    },
    {
     "name": "stdout",
     "output_type": "stream",
     "text": [
      "\n",
      "3 epochs completed in 0.024 hours.\n",
      "Optimizer stripped from /Users/azanchetta/fAIr_metric/yolo_v2_predictions/model149_td489/checkpoints/yolov8s-seg_yolo_v2_data_ep3_bs16_pc2.0/weights/last.pt, 23.8MB\n",
      "Optimizer stripped from /Users/azanchetta/fAIr_metric/yolo_v2_predictions/model149_td489/checkpoints/yolov8s-seg_yolo_v2_data_ep3_bs16_pc2.0/weights/best.pt, 23.8MB\n",
      "\n",
      "Validating /Users/azanchetta/fAIr_metric/yolo_v2_predictions/model149_td489/checkpoints/yolov8s-seg_yolo_v2_data_ep3_bs16_pc2.0/weights/best.pt...\n",
      "Ultralytics 8.3.26 🚀 Python-3.12.4 torch-2.2.2 CPU (Intel Core(TM) i9-9980HK 2.40GHz)\n",
      "YOLOv8s-seg summary (fused): 195 layers, 11,779,987 parameters, 0 gradients, 42.4 GFLOPs\n"
     ]
    },
    {
     "name": "stderr",
     "output_type": "stream",
     "text": [
      "                 Class     Images  Instances      Box(P          R      mAP50  mAP50-95)     Mask(P          R      mAP50  mAP50-95): 100%|██████████| 1/1 [00:06<00:00,  6.61s/it]"
     ]
    },
    {
     "name": "stdout",
     "output_type": "stream",
     "text": [
      "                   all         22         17          0          0          0          0          0          0          0          0\n"
     ]
    },
    {
     "name": "stderr",
     "output_type": "stream",
     "text": [
      "\n"
     ]
    },
    {
     "name": "stdout",
     "output_type": "stream",
     "text": [
      "Speed: 1.0ms preprocess, 282.2ms inference, 0.0ms loss, 2.2ms postprocess per image\n",
      "Results saved to \u001b[1m/Users/azanchetta/fAIr_metric/yolo_v2_predictions/model149_td489/checkpoints/yolov8s-seg_yolo_v2_data_ep3_bs16_pc2.0\u001b[0m\n",
      "Ultralytics 8.3.26 🚀 Python-3.12.4 torch-2.2.2 CPU (Intel Core(TM) i9-9980HK 2.40GHz)\n",
      "YOLOv8s-seg summary (fused): 195 layers, 11,779,987 parameters, 0 gradients, 42.4 GFLOPs\n"
     ]
    },
    {
     "name": "stderr",
     "output_type": "stream",
     "text": [
      "\u001b[34m\u001b[1mval: \u001b[0mScanning /Users/azanchetta/fAIr_metric/yolo_v2_data/model149_td489/labels/val.cache... 22 images, 5 backgrounds, 0 corrupt: 100%|██████████| 22/22 [00:00<?, ?it/s]"
     ]
    },
    {
     "name": "stdout",
     "output_type": "stream",
     "text": [
      "\u001b[34m\u001b[1mval: \u001b[0mWARNING ⚠️ /Users/azanchetta/fAIr_metric/yolo_v2_data/model149_td489/images/val/OAM-1238660-1047073-21.jpg: 3 duplicate labels removed\n",
      "\u001b[34m\u001b[1mval: \u001b[0mWARNING ⚠️ /Users/azanchetta/fAIr_metric/yolo_v2_data/model149_td489/images/val/OAM-1238661-1047075-21.jpg: 1 duplicate labels removed\n",
      "\u001b[34m\u001b[1mval: \u001b[0mWARNING ⚠️ /Users/azanchetta/fAIr_metric/yolo_v2_data/model149_td489/images/val/OAM-1238661-1047078-21.jpg: 2 duplicate labels removed\n",
      "\u001b[34m\u001b[1mval: \u001b[0mWARNING ⚠️ /Users/azanchetta/fAIr_metric/yolo_v2_data/model149_td489/images/val/OAM-1238662-1047079-21.jpg: 1 duplicate labels removed\n",
      "\u001b[34m\u001b[1mval: \u001b[0mWARNING ⚠️ /Users/azanchetta/fAIr_metric/yolo_v2_data/model149_td489/images/val/OAM-1238664-1047079-21.jpg: 5 duplicate labels removed\n",
      "\u001b[34m\u001b[1mval: \u001b[0mWARNING ⚠️ /Users/azanchetta/fAIr_metric/yolo_v2_data/model149_td489/images/val/OAM-1238665-1047076-21.jpg: 2 duplicate labels removed\n",
      "\u001b[34m\u001b[1mval: \u001b[0mWARNING ⚠️ /Users/azanchetta/fAIr_metric/yolo_v2_data/model149_td489/images/val/OAM-1238667-1047072-21.jpg: 1 duplicate labels removed\n",
      "\u001b[34m\u001b[1mval: \u001b[0mWARNING ⚠️ /Users/azanchetta/fAIr_metric/yolo_v2_data/model149_td489/images/val/OAM-1238688-1047090-21.jpg: 9 duplicate labels removed\n",
      "\u001b[34m\u001b[1mval: \u001b[0mWARNING ⚠️ /Users/azanchetta/fAIr_metric/yolo_v2_data/model149_td489/images/val/OAM-1238689-1047088-21.jpg: 5 duplicate labels removed\n",
      "\u001b[34m\u001b[1mval: \u001b[0mWARNING ⚠️ /Users/azanchetta/fAIr_metric/yolo_v2_data/model149_td489/images/val/OAM-1238692-1047071-21.jpg: 1 duplicate labels removed\n",
      "\u001b[34m\u001b[1mval: \u001b[0mWARNING ⚠️ /Users/azanchetta/fAIr_metric/yolo_v2_data/model149_td489/images/val/OAM-1238693-1047069-21.jpg: 1 duplicate labels removed\n",
      "\u001b[34m\u001b[1mval: \u001b[0mWARNING ⚠️ /Users/azanchetta/fAIr_metric/yolo_v2_data/model149_td489/images/val/OAM-1238693-1047071-21.jpg: 2 duplicate labels removed\n",
      "\u001b[34m\u001b[1mval: \u001b[0mWARNING ⚠️ /Users/azanchetta/fAIr_metric/yolo_v2_data/model149_td489/images/val/OAM-619330-523537-20.jpg: 9 duplicate labels removed\n",
      "\u001b[34m\u001b[1mval: \u001b[0mWARNING ⚠️ /Users/azanchetta/fAIr_metric/yolo_v2_data/model149_td489/images/val/OAM-619331-523536-20.jpg: 4 duplicate labels removed\n",
      "\u001b[34m\u001b[1mval: \u001b[0mWARNING ⚠️ /Users/azanchetta/fAIr_metric/yolo_v2_data/model149_td489/images/val/OAM-619331-523539-20.jpg: 7 duplicate labels removed\n",
      "\u001b[34m\u001b[1mval: \u001b[0mWARNING ⚠️ /Users/azanchetta/fAIr_metric/yolo_v2_data/model149_td489/images/val/OAM-619344-523534-20.jpg: 11 duplicate labels removed\n",
      "\u001b[34m\u001b[1mval: \u001b[0mWARNING ⚠️ /Users/azanchetta/fAIr_metric/yolo_v2_data/model149_td489/images/val/OAM-619345-523544-20.jpg: 29 duplicate labels removed\n"
     ]
    },
    {
     "name": "stderr",
     "output_type": "stream",
     "text": [
      "\n",
      "                 Class     Images  Instances      Box(P          R      mAP50  mAP50-95)     Mask(P          R      mAP50  mAP50-95): 100%|██████████| 2/2 [00:03<00:00,  1.76s/it]"
     ]
    },
    {
     "name": "stdout",
     "output_type": "stream",
     "text": [
      "                   all         22         17          0          0          0          0          0          0          0          0\n"
     ]
    },
    {
     "name": "stderr",
     "output_type": "stream",
     "text": [
      "\n"
     ]
    },
    {
     "name": "stdout",
     "output_type": "stream",
     "text": [
      "Speed: 0.4ms preprocess, 136.7ms inference, 0.0ms loss, 1.0ms postprocess per image\n",
      "Results saved to \u001b[1m/Users/azanchetta/fAIr-utilities/runs/segment/val6\u001b[0m\n",
      "yolo training took 119.74 seconds\n"
     ]
    },
    {
     "ename": "ZeroDivisionError",
     "evalue": "float division by zero",
     "output_type": "error",
     "traceback": [
      "\u001b[0;31m---------------------------------------------------------------------------\u001b[0m",
      "\u001b[0;31mZeroDivisionError\u001b[0m                         Traceback (most recent call last)",
      "Cell \u001b[0;32mIn[25], line 21\u001b[0m\n\u001b[1;32m     18\u001b[0m     yaml\u001b[38;5;241m.\u001b[39mdump(yamlfile, file)\n\u001b[1;32m     20\u001b[0m \u001b[38;5;66;03m# Run the training\u001b[39;00m\n\u001b[0;32m---> 21\u001b[0m output_model_path,output_model_iou_accuracy \u001b[38;5;241m=\u001b[39m \u001b[43mtrain_yolo\u001b[49m\u001b[43m(\u001b[49m\n\u001b[1;32m     22\u001b[0m \u001b[43m    \u001b[49m\u001b[43mdata\u001b[49m\u001b[38;5;241;43m=\u001b[39;49m\u001b[43mcity_yolodata_path\u001b[49m\u001b[43m,\u001b[49m\u001b[43m \u001b[49m\u001b[38;5;66;43;03m#f\"{base_path}\",\u001b[39;49;00m\n\u001b[1;32m     23\u001b[0m \u001b[43m    \u001b[49m\u001b[43mweights\u001b[49m\u001b[38;5;241;43m=\u001b[39;49m\u001b[38;5;124;43mf\u001b[39;49m\u001b[38;5;124;43m\"\u001b[39;49m\u001b[38;5;132;43;01m{\u001b[39;49;00m\u001b[43mos\u001b[49m\u001b[38;5;241;43m.\u001b[39;49m\u001b[43mgetcwd\u001b[49m\u001b[43m(\u001b[49m\u001b[43m)\u001b[49m\u001b[38;5;132;43;01m}\u001b[39;49;00m\u001b[38;5;124;43m/yolov8s_v2-seg.pt\u001b[39;49m\u001b[38;5;124;43m\"\u001b[39;49m\u001b[43m,\u001b[49m\u001b[43m \u001b[49m\n\u001b[1;32m     24\u001b[0m \u001b[43m    \u001b[49m\u001b[38;5;66;43;03m# gpu=\"cpu\",\u001b[39;49;00m\n\u001b[1;32m     25\u001b[0m \u001b[43m    \u001b[49m\u001b[43mepochs\u001b[49m\u001b[38;5;241;43m=\u001b[39;49m\u001b[38;5;241;43m3\u001b[39;49m\u001b[43m,\u001b[49m\n\u001b[1;32m     26\u001b[0m \u001b[43m    \u001b[49m\u001b[43mbatch_size\u001b[49m\u001b[38;5;241;43m=\u001b[39;49m\u001b[38;5;241;43m16\u001b[39;49m\u001b[43m,\u001b[49m\n\u001b[1;32m     27\u001b[0m \u001b[43m    \u001b[49m\u001b[43mpc\u001b[49m\u001b[38;5;241;43m=\u001b[39;49m\u001b[38;5;241;43m2.0\u001b[39;49m\u001b[43m,\u001b[49m\n\u001b[1;32m     28\u001b[0m \u001b[43m    \u001b[49m\u001b[43moutput_path\u001b[49m\u001b[38;5;241;43m=\u001b[39;49m\u001b[43mcity_output_path\u001b[49m\u001b[43m,\u001b[49m\n\u001b[1;32m     29\u001b[0m \u001b[43m    \u001b[49m\u001b[43mdataset_yaml_path\u001b[49m\u001b[38;5;241;43m=\u001b[39;49m\u001b[43myaml_file_path_for_city\u001b[49m\u001b[43m \u001b[49m\u001b[38;5;66;43;03m#'/Users/azanchetta/fAIr_metric/yolo_v2_data/model51_td364/yolo_dataset.yaml'\u001b[39;49;00m\n\u001b[1;32m     30\u001b[0m \u001b[43m    \u001b[49m\u001b[38;5;66;43;03m# dataset_yaml_path='/Users/azanchetta/fAIr-utilities/ramp-data/sample_2/yolo_v2/yolo_dataset.yaml' ## this name is just a placeholder, we overwrite the variables in the code\u001b[39;49;00m\n\u001b[1;32m     31\u001b[0m \u001b[43m\u001b[49m\u001b[43m)\u001b[49m\n\u001b[1;32m     32\u001b[0m \u001b[38;5;28mprint\u001b[39m(output_model_iou_accuracy)\n\u001b[1;32m     34\u001b[0m \u001b[38;5;66;03m# output_model_path,output_model_iou_accuracy = train_yolo(\u001b[39;00m\n\u001b[1;32m     35\u001b[0m \u001b[38;5;66;03m#     data=f\"{base_path}\",\u001b[39;00m\n\u001b[1;32m     36\u001b[0m \u001b[38;5;66;03m#     weights=f\"{os.getcwd()}/yolov8s_v2-seg.pt\", \u001b[39;00m\n\u001b[0;32m   (...)\u001b[0m\n\u001b[1;32m     43\u001b[0m \u001b[38;5;66;03m# )\u001b[39;00m\n\u001b[1;32m     44\u001b[0m \u001b[38;5;66;03m# print(output_model_iou_accuracy)\u001b[39;00m\n",
      "File \u001b[0;32m~/fAIr-utilities/hot_fair_utilities/training/yolo_v8_v2/train.py:96\u001b[0m, in \u001b[0;36mtrain\u001b[0;34m(data, weights, epochs, batch_size, pc, output_path, dataset_yaml_path, gpu)\u001b[0m\n\u001b[1;32m     92\u001b[0m compute_iou_chart_from_yolo_results(results_csv_path\u001b[38;5;241m=\u001b[39mos\u001b[38;5;241m.\u001b[39mpath\u001b[38;5;241m.\u001b[39mjoin(output_path,\u001b[38;5;124m\"\u001b[39m\u001b[38;5;124mcheckpoints\u001b[39m\u001b[38;5;124m\"\u001b[39m, name,\u001b[38;5;124m'\u001b[39m\u001b[38;5;124mresults.csv\u001b[39m\u001b[38;5;124m'\u001b[39m),results_output_chart_path\u001b[38;5;241m=\u001b[39mos\u001b[38;5;241m.\u001b[39mpath\u001b[38;5;241m.\u001b[39mjoin(output_path,\u001b[38;5;124m\"\u001b[39m\u001b[38;5;124mcheckpoints\u001b[39m\u001b[38;5;124m\"\u001b[39m, name,\u001b[38;5;124m'\u001b[39m\u001b[38;5;124miou_chart.png\u001b[39m\u001b[38;5;124m'\u001b[39m))\n\u001b[1;32m     94\u001b[0m output_model_path\u001b[38;5;241m=\u001b[39mos\u001b[38;5;241m.\u001b[39mpath\u001b[38;5;241m.\u001b[39mjoin(os\u001b[38;5;241m.\u001b[39mpath\u001b[38;5;241m.\u001b[39mjoin(output_path,\u001b[38;5;124m\"\u001b[39m\u001b[38;5;124mcheckpoints\u001b[39m\u001b[38;5;124m\"\u001b[39m), name, \u001b[38;5;124m\"\u001b[39m\u001b[38;5;124mweights\u001b[39m\u001b[38;5;124m\"\u001b[39m, \u001b[38;5;124m\"\u001b[39m\u001b[38;5;124mbest.pt\u001b[39m\u001b[38;5;124m\"\u001b[39m)\n\u001b[0;32m---> 96\u001b[0m iou_model_accuracy\u001b[38;5;241m=\u001b[39m\u001b[43mget_yolo_iou_metrics\u001b[49m\u001b[43m(\u001b[49m\u001b[43moutput_model_path\u001b[49m\u001b[43m)\u001b[49m\n\u001b[1;32m     97\u001b[0m export_model_to_onnx(output_model_path)\n\u001b[1;32m     99\u001b[0m \u001b[38;5;28;01mreturn\u001b[39;00m  output_model_path,iou_model_accuracy\n",
      "File \u001b[0;32m~/fAIr-utilities/hot_fair_utilities/utils.py:285\u001b[0m, in \u001b[0;36mget_yolo_iou_metrics\u001b[0;34m(model_path)\u001b[0m\n\u001b[1;32m    280\u001b[0m model_val_metrics \u001b[38;5;241m=\u001b[39m (\n\u001b[1;32m    281\u001b[0m     model_val\u001b[38;5;241m.\u001b[39mval()\u001b[38;5;241m.\u001b[39mresults_dict\n\u001b[1;32m    282\u001b[0m )  \u001b[38;5;66;03m### B and M denotes bounding box and mask respectively\u001b[39;00m\n\u001b[1;32m    283\u001b[0m \u001b[38;5;66;03m# print(metrics)\u001b[39;00m\n\u001b[1;32m    284\u001b[0m iou_accuracy \u001b[38;5;241m=\u001b[39m \u001b[38;5;241m1\u001b[39m \u001b[38;5;241m/\u001b[39m (\n\u001b[0;32m--> 285\u001b[0m     \u001b[38;5;241;43m1\u001b[39;49m\u001b[43m \u001b[49m\u001b[38;5;241;43m/\u001b[39;49m\u001b[43m \u001b[49m\u001b[43mmodel_val_metrics\u001b[49m\u001b[43m[\u001b[49m\u001b[38;5;124;43m\"\u001b[39;49m\u001b[38;5;124;43mmetrics/precision(M)\u001b[39;49m\u001b[38;5;124;43m\"\u001b[39;49m\u001b[43m]\u001b[49m\n\u001b[1;32m    286\u001b[0m     \u001b[38;5;241m+\u001b[39m \u001b[38;5;241m1\u001b[39m \u001b[38;5;241m/\u001b[39m model_val_metrics[\u001b[38;5;124m\"\u001b[39m\u001b[38;5;124mmetrics/recall(M)\u001b[39m\u001b[38;5;124m\"\u001b[39m]\n\u001b[1;32m    287\u001b[0m     \u001b[38;5;241m-\u001b[39m \u001b[38;5;241m1\u001b[39m\n\u001b[1;32m    288\u001b[0m )  \u001b[38;5;66;03m# ref here https://github.com/ultralytics/ultralytics/issues/9984#issuecomment-2422551315\u001b[39;00m\n\u001b[1;32m    289\u001b[0m final_accuracy \u001b[38;5;241m=\u001b[39m iou_accuracy \u001b[38;5;241m*\u001b[39m \u001b[38;5;241m100\u001b[39m\n\u001b[1;32m    290\u001b[0m \u001b[38;5;28;01mreturn\u001b[39;00m final_accuracy\n",
      "\u001b[0;31mZeroDivisionError\u001b[0m: float division by zero"
     ]
    }
   ],
   "source": [
    "# Training\n",
    "yolo_output_path = f'{base_path}/yolo_v2_training'\n",
    "yolo_data_dir = f'{base_path}/yolo_v2'\n",
    "with print_time(\"yolo training\"):\n",
    "    for city in cities_list:\n",
    "        city_yolodata_path = f'{base_path}/yolo_v2_data/{city}'\n",
    "        city_output_path = f'{yolo_output_path}/{city}'\n",
    "        # deal with the yaml file:\n",
    "        basic_yaml_file_name_with_path = '/Users/azanchetta/fAIr-utilities/ramp-data/sample_2/yolo_v2/yolo_dataset.yaml'\n",
    "        yaml_file_path_for_city = f'{city_yolodata_path}/yolo_dataset.yaml'\n",
    "        # print(f'name that will used to create a new yaml file for the city: {yaml_file_path_for_city}')\n",
    "        info_to_write_in_yaml = city_yolodata_path\n",
    "\n",
    "        with open(basic_yaml_file_name_with_path, 'r') as file:\n",
    "            yamlfile = yaml.safe_load(file)\n",
    "        yamlfile['path'] = city_yolodata_path\n",
    "        with open(yaml_file_path_for_city, 'w') as file:  # Save the updated YAML file\n",
    "            yaml.dump(yamlfile, file)\n",
    "\n",
    "        # Run the training\n",
    "        output_model_path,output_model_iou_accuracy = train_yolo(\n",
    "            data=city_yolodata_path, #f\"{base_path}\",\n",
    "            weights=f\"{os.getcwd()}/yolov8s_v2-seg.pt\", \n",
    "            # gpu=\"cpu\",\n",
    "            epochs=3,\n",
    "            batch_size=16,\n",
    "            pc=2.0,\n",
    "            output_path=city_output_path,\n",
    "            dataset_yaml_path=yaml_file_path_for_city #'/Users/azanchetta/fAIr_metric/yolo_v2_data/model51_td364/yolo_dataset.yaml'\n",
    "            # dataset_yaml_path='/Users/azanchetta/fAIr-utilities/ramp-data/sample_2/yolo_v2/yolo_dataset.yaml' ## this name is just a placeholder, we overwrite the variables in the code\n",
    "        )\n",
    "        print(output_model_iou_accuracy)\n",
    "\n",
    "        # output_model_path,output_model_iou_accuracy = train_yolo(\n",
    "        #     data=f\"{base_path}\",\n",
    "        #     weights=f\"{os.getcwd()}/yolov8s_v2-seg.pt\", \n",
    "        #     # gpu=\"cpu\",\n",
    "        #     epochs=2,\n",
    "        #     batch_size=16,\n",
    "        #     pc=2.0,\n",
    "        #     output_path=yolo_data_dir,\n",
    "        #     dataset_yaml_path=os.path.join(yolo_data_dir,'yolo_dataset.yaml')\n",
    "        # )\n",
    "        # print(output_model_iou_accuracy)"
   ]
  },
  {
   "cell_type": "code",
   "execution_count": null,
   "metadata": {},
   "outputs": [],
   "source": [
    "# Training\n",
    "yolo_output_path = f'{base_path}/yolo_v2_predictions'\n",
    "yolo_data_dir = f'{base_path}/yolo_v2'\n",
    "with print_time(\"yolo training\"):\n",
    "    for city in cities_list:\n",
    "        city_yolodata_path = f'{base_path}/yolo_v2_data/{city}'\n",
    "        print(f'city path: {city_yolodata_path}')\n",
    "        output_model_path,output_model_iou_accuracy = train_yolo(\n",
    "            data=city_yolodata_path, #f\"{base_path}\",\n",
    "            weights=f\"{os.getcwd()}/yolov8s_v2-seg.pt\", \n",
    "            # gpu=\"cpu\",\n",
    "            epochs=2,\n",
    "            batch_size=16,\n",
    "            pc=2.0,\n",
    "            output_path=yolo_output_path,\n",
    "            dataset_yaml_path='/Users/azanchetta/fAIr-utilities/ramp-data/sample_2/yolo_v2/yolo_dataset.yaml' ## this name is just a placeholder, we overwrite the variables in the code\n",
    "        )\n",
    "        print(output_model_iou_accuracy)\n",
    "\n",
    "        # output_model_path,output_model_iou_accuracy = train_yolo(\n",
    "        #     data=f\"{base_path}\",\n",
    "        #     weights=f\"{os.getcwd()}/yolov8s_v2-seg.pt\", \n",
    "        #     # gpu=\"cpu\",\n",
    "        #     epochs=2,\n",
    "        #     batch_size=16,\n",
    "        #     pc=2.0,\n",
    "        #     output_path=yolo_data_dir,\n",
    "        #     dataset_yaml_path=os.path.join(yolo_data_dir,'yolo_dataset.yaml')\n",
    "        # )\n",
    "        # print(output_model_iou_accuracy)"
   ]
  },
  {
   "cell_type": "markdown",
   "metadata": {},
   "source": [
    "## Prediction"
   ]
  },
  {
   "cell_type": "code",
   "execution_count": null,
   "metadata": {},
   "outputs": [],
   "source": [
    "# Prediction\n",
    "prediction_output = f\"{base_path}/prediction/output\"\n",
    "# model_path = f\"{output_path}/weights/best.pt\"\n",
    "with print_time(\"inference\"):\n",
    "    predict(\n",
    "        checkpoint_path=output_model_path,\n",
    "        input_path=f\"{base_path}/prediction/input\",\n",
    "        prediction_path=prediction_output,\n",
    "    )\n",
    "\n",
    "geojson_output = f\"{prediction_output}/prediction.geojson\"\n",
    "with print_time(\"polygonization\"):\n",
    "    polygonize(\n",
    "        input_path=prediction_output,\n",
    "        output_path=geojson_output,\n",
    "        remove_inputs=False,\n",
    "    )\n",
    "\n",
    "print(f\"\\n Total Process Completed in : {time.time()-start_time} sec\")"
   ]
  },
  {
   "cell_type": "code",
   "execution_count": null,
   "metadata": {},
   "outputs": [],
   "source": [
    "# # Deal with the csv files with list of train/val/pred images used in RAMP\n",
    "# #  testing function ... this goes inside `fined_files` in yolo_format_anna.py\n",
    "# city=\"model51_td364\"\n",
    "# city_folder_name=f'{data_path}/{city}/train'\n",
    "# csv_file_name = f'fair_split_train.csv'\n",
    "# csv_file_path = f'{city_folder_name}/{csv_file_name}'\n",
    "# print(f'CSV file is {csv_file_name}')\n",
    "# print(f'CSV file is {csv_file_path}')\n",
    "# csv_raw_list = []\n",
    "\n",
    "# with open(csv_file_path, \"r\") as file_obj:\n",
    "#     heading = next(file_obj)\n",
    "#     reader_obj = csv.reader(file_obj, delimiter=\"\\t\")\n",
    "#     for row in reader_obj:\n",
    "#         csv_raw_list.append(row)\n",
    "# print(f'this is the list from the csv file:\\n{csv_raw_list}')\n",
    "# csv_nested_list = []\n",
    "# for ccc in csv_raw_list:\n",
    "#     # print(ccc)\n",
    "#     nested = ccc[0]\n",
    "#     # print(f'nested {nested}')\n",
    "#     name_csv = nested.split('/')[-1]\n",
    "#     csv_nested_list.append(name_csv)\n",
    "\n",
    "# # filenames_from_csv = [csvi.split(\"/\",1)[-1] for csvi in csv_nested_list] # this is to get the last element of the string (i.e. the file name)\n",
    "# # print(f'filenames hopefully {filenames_from_csv}')\n",
    "# print(f'is this the names? {csv_nested_list}')"
   ]
  }
 ],
 "metadata": {
  "kernelspec": {
   "display_name": "kshitij-env",
   "language": "python",
   "name": "python3"
  },
  "language_info": {
   "codemirror_mode": {
    "name": "ipython",
    "version": 3
   },
   "file_extension": ".py",
   "mimetype": "text/x-python",
   "name": "python",
   "nbconvert_exporter": "python",
   "pygments_lexer": "ipython3",
   "version": "3.12.4"
  }
 },
 "nbformat": 4,
 "nbformat_minor": 2
}
