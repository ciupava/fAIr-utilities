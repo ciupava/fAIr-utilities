{
 "cells": [
  {
   "cell_type": "markdown",
   "metadata": {},
   "source": [
    "# Tests on YoloV8 for fAIr\n",
    "Using model V2 from Omdena results.\n",
    "Mocking `test_yolo_v2.py`"
   ]
  },
  {
   "cell_type": "code",
   "execution_count": 2,
   "metadata": {},
   "outputs": [],
   "source": [
    "# Standard library imports\n",
    "import os\n",
    "import time\n",
    "import warnings\n",
    "import ultralytics\n",
    "\n",
    "import csv\n",
    "\n",
    "os.environ.update(os.environ)\n",
    "os.environ[\"RAMP_HOME\"] = os.getcwd()"
   ]
  },
  {
   "cell_type": "code",
   "execution_count": 3,
   "metadata": {},
   "outputs": [
    {
     "name": "stdout",
     "output_type": "stream",
     "text": [
      "Ramp eval metrics are not available, Possibly ramp is not installed\n"
     ]
    }
   ],
   "source": [
    "# Reader imports\n",
    "from hot_fair_utilities import polygonize, predict, preprocess\n",
    "from hot_fair_utilities.preprocessing.yolo_v8_v2.yolo_format_anna import yolo_format\n",
    "from hot_fair_utilities.training.yolo_v8_v2.train import train as train_yolo\n",
    "\n",
    "warnings.simplefilter(action=\"ignore\", category=FutureWarning)\n"
   ]
  },
  {
   "cell_type": "code",
   "execution_count": null,
   "metadata": {},
   "outputs": [
    {
     "ename": "NameError",
     "evalue": "name 'root' is not defined",
     "output_type": "error",
     "traceback": [
      "\u001b[0;31m---------------------------------------------------------------------------\u001b[0m",
      "\u001b[0;31mNameError\u001b[0m                                 Traceback (most recent call last)",
      "Cell \u001b[0;32mIn[4], line 8\u001b[0m\n\u001b[1;32m      5\u001b[0m preprocessed_data_path\u001b[38;5;241m=\u001b[39m\u001b[38;5;124mf\u001b[39m\u001b[38;5;124m'\u001b[39m\u001b[38;5;132;01m{\u001b[39;00mbase_path\u001b[38;5;132;01m}\u001b[39;00m\u001b[38;5;124m/metric_data\u001b[39m\u001b[38;5;124m'\u001b[39m\n\u001b[1;32m      6\u001b[0m \u001b[38;5;66;03m#  Obtain cities list folders name in data folder\u001b[39;00m\n\u001b[1;32m      7\u001b[0m \u001b[38;5;66;03m# cities_list = ['modelfake', 'model149_td489'] # sample of names, for tests\u001b[39;00m\n\u001b[0;32m----> 8\u001b[0m cities_list\u001b[38;5;241m=\u001b[39m [ item \u001b[38;5;28;01mfor\u001b[39;00m item \u001b[38;5;129;01min\u001b[39;00m os\u001b[38;5;241m.\u001b[39mlistdir(\u001b[43mroot\u001b[49m) \u001b[38;5;28;01mif\u001b[39;00m os\u001b[38;5;241m.\u001b[39mpath\u001b[38;5;241m.\u001b[39misdir(os\u001b[38;5;241m.\u001b[39mpath\u001b[38;5;241m.\u001b[39mjoin(root, item)) ]\n",
      "\u001b[0;31mNameError\u001b[0m: name 'root' is not defined"
     ]
    }
   ],
   "source": [
    "# Define basic variables\n",
    "# base_path = f\"{os.getcwd()}/ramp-data/sample_2\"\n",
    "base_path = '/Users/azanchetta/fAIr_metric'\n",
    "data_path = f'{base_path}/training_results'\n",
    "preprocessed_data_path=f'{base_path}/metric_data'\n",
    "#  Obtain cities list folders name in data folder\n",
    "# cities_list = ['modelfake', 'model149_td489'] # sample of names, for tests\n",
    "cities_list= [ item for item in os.listdir(preprocessed_data_path) if os.path.isdir(os.path.join(preprocessed_data_path, item)) ]"
   ]
  },
  {
   "cell_type": "code",
   "execution_count": null,
   "metadata": {},
   "outputs": [],
   "source": [
    "for i in cities_list:\n",
    "    print(i)"
   ]
  },
  {
   "cell_type": "code",
   "execution_count": null,
   "metadata": {},
   "outputs": [],
   "source": [
    "# Looping through the cities list, and check per each folder that tiles number is consistent, and the shapes too\n",
    "for city in cities_list:\n",
    "    # city_folder_name = f'{data_path}/{city}/train'\n",
    "    city_folder_name=f'{base_path}/metric_data/{city}'\n",
    "    csv_file_basepath = f'{data_path}/{city}/train'\n",
    "    print(f'\\n---\\nNow working on {city}\\n---')\n",
    "    print(f'city folder name is {city_folder_name}\\n\\n---\\n')\n",
    "\n",
    "\n",
    "    class print_time:\n",
    "        def __init__(self, name):\n",
    "            self.name = name\n",
    "\n",
    "        def __enter__(self):\n",
    "            self.start = time.perf_counter()\n",
    "            return self\n",
    "\n",
    "        def __exit__(self, type, value, traceback):\n",
    "            print(f\"{self.name} took {round(time.perf_counter() - self.start, 2)} seconds\")\n",
    "\n",
    "    start_time = time.time()\n",
    "\n",
    "### SKIP fAIr processing, we already have the images ready\n",
    "\n",
    "    # city_data_dir = f'{base_path}/training_results/{city}/train'\n",
    "    city_data_dir = f'{city_folder_name}'\n",
    "    yolo_data_dir = f'{base_path}/yolo_v2'\n",
    "    print(f'city is {city}')\n",
    "    with print_time(\"yolo conversion\"):\n",
    "        print(f'\\n___ Starting yolo files conversion\\n')\n",
    "        yolo_format(\n",
    "            input_path=city_data_dir,\n",
    "            csv_path=csv_file_basepath,\n",
    "            output_path=yolo_data_dir,\n",
    "            city_name=city\n",
    "        )\n"
   ]
  },
  {
   "cell_type": "code",
   "execution_count": null,
   "metadata": {},
   "outputs": [],
   "source": [
    "# Training\n",
    "\n",
    "output_model_path,output_model_iou_accuracy = train_yolo(\n",
    "    data=f\"{base_path}\",\n",
    "    weights=f\"{os.getcwd()}/yolov8s_v2-seg.pt\", \n",
    "    # gpu=\"cpu\",\n",
    "    epochs=2,\n",
    "    batch_size=16,\n",
    "    pc=2.0,\n",
    "    output_path=yolo_data_dir,\n",
    "    dataset_yaml_path=os.path.join(yolo_data_dir,'yolo_dataset.yaml')\n",
    ")\n",
    "print(output_model_iou_accuracy)\n"
   ]
  },
  {
   "cell_type": "code",
   "execution_count": null,
   "metadata": {},
   "outputs": [],
   "source": [
    "# Prediction\n",
    "prediction_output = f\"{base_path}/prediction/output\"\n",
    "# model_path = f\"{output_path}/weights/best.pt\"\n",
    "with print_time(\"inference\"):\n",
    "    predict(\n",
    "        checkpoint_path=output_model_path,\n",
    "        input_path=f\"{base_path}/prediction/input\",\n",
    "        prediction_path=prediction_output,\n",
    "    )"
   ]
  },
  {
   "cell_type": "code",
   "execution_count": null,
   "metadata": {},
   "outputs": [],
   "source": [
    "# # Deal with the csv files with list of train/val/pred images used in RAMP\n",
    "# #  testing function ... this goes inside `fined_files` in yolo_format_anna.py\n",
    "# city=\"model51_td364\"\n",
    "# city_folder_name=f'{data_path}/{city}/train'\n",
    "# csv_file_name = f'fair_split_train.csv'\n",
    "# csv_file_path = f'{city_folder_name}/{csv_file_name}'\n",
    "# print(f'CSV file is {csv_file_name}')\n",
    "# print(f'CSV file is {csv_file_path}')\n",
    "# csv_raw_list = []\n",
    "\n",
    "# with open(csv_file_path, \"r\") as file_obj:\n",
    "#     heading = next(file_obj)\n",
    "#     reader_obj = csv.reader(file_obj, delimiter=\"\\t\")\n",
    "#     for row in reader_obj:\n",
    "#         csv_raw_list.append(row)\n",
    "# print(f'this is the list from the csv file:\\n{csv_raw_list}')\n",
    "# csv_nested_list = []\n",
    "# for ccc in csv_raw_list:\n",
    "#     # print(ccc)\n",
    "#     nested = ccc[0]\n",
    "#     # print(f'nested {nested}')\n",
    "#     name_csv = nested.split('/')[-1]\n",
    "#     csv_nested_list.append(name_csv)\n",
    "\n",
    "# # filenames_from_csv = [csvi.split(\"/\",1)[-1] for csvi in csv_nested_list] # this is to get the last element of the string (i.e. the file name)\n",
    "# # print(f'filenames hopefully {filenames_from_csv}')\n",
    "# print(f'is this the names? {csv_nested_list}')"
   ]
  }
 ],
 "metadata": {
  "kernelspec": {
   "display_name": "kshitij-env",
   "language": "python",
   "name": "python3"
  },
  "language_info": {
   "codemirror_mode": {
    "name": "ipython",
    "version": 3
   },
   "file_extension": ".py",
   "mimetype": "text/x-python",
   "name": "python",
   "nbconvert_exporter": "python",
   "pygments_lexer": "ipython3",
   "version": "3.12.4"
  }
 },
 "nbformat": 4,
 "nbformat_minor": 2
}
